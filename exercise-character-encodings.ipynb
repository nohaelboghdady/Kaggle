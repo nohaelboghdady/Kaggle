{
 "cells": [
  {
   "cell_type": "markdown",
   "id": "4dd5bd59",
   "metadata": {
    "papermill": {
     "duration": 0.005759,
     "end_time": "2022-06-23T10:35:06.377624",
     "exception": false,
     "start_time": "2022-06-23T10:35:06.371865",
     "status": "completed"
    },
    "tags": []
   },
   "source": [
    "**This notebook is an exercise in the [Data Cleaning](https://www.kaggle.com/learn/data-cleaning) course.  You can reference the tutorial at [this link](https://www.kaggle.com/alexisbcook/character-encodings).**\n",
    "\n",
    "---\n"
   ]
  },
  {
   "cell_type": "markdown",
   "id": "21f9126f",
   "metadata": {
    "papermill": {
     "duration": 0.004059,
     "end_time": "2022-06-23T10:35:06.385705",
     "exception": false,
     "start_time": "2022-06-23T10:35:06.381646",
     "status": "completed"
    },
    "tags": []
   },
   "source": [
    "In this exercise, you'll apply what you learned in the **Character encodings** tutorial.\n",
    "\n",
    "# Setup\n",
    "\n",
    "The questions below will give you feedback on your work. Run the following cell to set up the feedback system."
   ]
  },
  {
   "cell_type": "code",
   "execution_count": 1,
   "id": "a908d469",
   "metadata": {
    "execution": {
     "iopub.execute_input": "2022-06-23T10:35:06.396250Z",
     "iopub.status.busy": "2022-06-23T10:35:06.395055Z",
     "iopub.status.idle": "2022-06-23T10:35:06.514402Z",
     "shell.execute_reply": "2022-06-23T10:35:06.513175Z"
    },
    "papermill": {
     "duration": 0.127229,
     "end_time": "2022-06-23T10:35:06.516755",
     "exception": false,
     "start_time": "2022-06-23T10:35:06.389526",
     "status": "completed"
    },
    "tags": []
   },
   "outputs": [
    {
     "name": "stdout",
     "output_type": "stream",
     "text": [
      "Setup Complete\n"
     ]
    }
   ],
   "source": [
    "from learntools.core import binder\n",
    "binder.bind(globals())\n",
    "from learntools.data_cleaning.ex4 import *\n",
    "print(\"Setup Complete\")"
   ]
  },
  {
   "cell_type": "markdown",
   "id": "9d7553bd",
   "metadata": {
    "papermill": {
     "duration": 0.003557,
     "end_time": "2022-06-23T10:35:06.524245",
     "exception": false,
     "start_time": "2022-06-23T10:35:06.520688",
     "status": "completed"
    },
    "tags": []
   },
   "source": [
    "# Get our environment set up\n",
    "\n",
    "The first thing we'll need to do is load in the libraries we'll be using."
   ]
  },
  {
   "cell_type": "code",
   "execution_count": 2,
   "id": "50b3527e",
   "metadata": {
    "execution": {
     "iopub.execute_input": "2022-06-23T10:35:06.533392Z",
     "iopub.status.busy": "2022-06-23T10:35:06.533043Z",
     "iopub.status.idle": "2022-06-23T10:35:06.537687Z",
     "shell.execute_reply": "2022-06-23T10:35:06.536622Z"
    },
    "papermill": {
     "duration": 0.011928,
     "end_time": "2022-06-23T10:35:06.539836",
     "exception": false,
     "start_time": "2022-06-23T10:35:06.527908",
     "status": "completed"
    },
    "tags": []
   },
   "outputs": [],
   "source": [
    "# modules we'll use\n",
    "import pandas as pd\n",
    "import numpy as np\n",
    "\n",
    "# helpful character encoding module\n",
    "import chardet\n",
    "\n",
    "# set seed for reproducibility\n",
    "np.random.seed(0)"
   ]
  },
  {
   "cell_type": "markdown",
   "id": "ae5d4f90",
   "metadata": {
    "papermill": {
     "duration": 0.003543,
     "end_time": "2022-06-23T10:35:06.547397",
     "exception": false,
     "start_time": "2022-06-23T10:35:06.543854",
     "status": "completed"
    },
    "tags": []
   },
   "source": [
    "# 1) What are encodings?\n",
    "\n",
    "You're working with a dataset composed of bytes.  Run the code cell below to print a sample entry."
   ]
  },
  {
   "cell_type": "code",
   "execution_count": 3,
   "id": "a61e246b",
   "metadata": {
    "execution": {
     "iopub.execute_input": "2022-06-23T10:35:06.556461Z",
     "iopub.status.busy": "2022-06-23T10:35:06.555820Z",
     "iopub.status.idle": "2022-06-23T10:35:06.561068Z",
     "shell.execute_reply": "2022-06-23T10:35:06.560299Z"
    },
    "papermill": {
     "duration": 0.012709,
     "end_time": "2022-06-23T10:35:06.563787",
     "exception": false,
     "start_time": "2022-06-23T10:35:06.551078",
     "status": "completed"
    },
    "tags": []
   },
   "outputs": [
    {
     "name": "stdout",
     "output_type": "stream",
     "text": [
      "b'\\xa7A\\xa6n'\n",
      "data type: <class 'bytes'>\n"
     ]
    }
   ],
   "source": [
    "sample_entry = b'\\xa7A\\xa6n'\n",
    "print(sample_entry)\n",
    "print('data type:', type(sample_entry))"
   ]
  },
  {
   "cell_type": "markdown",
   "id": "ed6050ae",
   "metadata": {
    "papermill": {
     "duration": 0.003651,
     "end_time": "2022-06-23T10:35:06.572119",
     "exception": false,
     "start_time": "2022-06-23T10:35:06.568468",
     "status": "completed"
    },
    "tags": []
   },
   "source": [
    "You notice that it doesn't use the standard UTF-8 encoding. \n",
    "\n",
    "Use the next code cell to create a variable `new_entry` that changes the encoding from `\"big5-tw\"` to `\"utf-8\"`.  `new_entry` should have the bytes datatype."
   ]
  },
  {
   "cell_type": "code",
   "execution_count": 4,
   "id": "8e97ef92",
   "metadata": {
    "execution": {
     "iopub.execute_input": "2022-06-23T10:35:06.581581Z",
     "iopub.status.busy": "2022-06-23T10:35:06.580896Z",
     "iopub.status.idle": "2022-06-23T10:35:06.590990Z",
     "shell.execute_reply": "2022-06-23T10:35:06.590196Z"
    },
    "papermill": {
     "duration": 0.018371,
     "end_time": "2022-06-23T10:35:06.594214",
     "exception": false,
     "start_time": "2022-06-23T10:35:06.575843",
     "status": "completed"
    },
    "tags": []
   },
   "outputs": [
    {
     "name": "stdout",
     "output_type": "stream",
     "text": [
      "data type:  <class 'bytes'>\n",
      "data type:  <class 'str'>\n",
      "data type:  <class 'bytes'>\n"
     ]
    },
    {
     "data": {
      "application/javascript": [
       "parent.postMessage({\"jupyterEvent\": \"custom.exercise_interaction\", \"data\": {\"outcomeType\": 1, \"valueTowardsCompletion\": 0.3333333333333333, \"interactionType\": 1, \"questionType\": 1, \"questionId\": \"1_EncodingsIntro\", \"learnToolsVersion\": \"0.3.4\", \"failureMessage\": \"\", \"exceptionClass\": \"\", \"trace\": \"\"}}, \"*\")"
      ],
      "text/plain": [
       "<IPython.core.display.Javascript object>"
      ]
     },
     "metadata": {},
     "output_type": "display_data"
    },
    {
     "data": {
      "text/markdown": [
       "<span style=\"color:#33cc33\">Correct</span>"
      ],
      "text/plain": [
       "Correct"
      ]
     },
     "metadata": {},
     "output_type": "display_data"
    }
   ],
   "source": [
    "print('data type: ', type(sample_entry))\n",
    "sample_entry_decoded = sample_entry.decode(\"big5-tw\")\n",
    "print('data type: ', type(sample_entry_decoded))\n",
    "new_entry = sample_entry_decoded.encode(\"utf-8\")\n",
    "print('data type: ', type(new_entry))\n",
    "\n",
    "# Check your answer\n",
    "q1.check()"
   ]
  },
  {
   "cell_type": "code",
   "execution_count": 5,
   "id": "b73b9cb2",
   "metadata": {
    "execution": {
     "iopub.execute_input": "2022-06-23T10:35:06.604247Z",
     "iopub.status.busy": "2022-06-23T10:35:06.603870Z",
     "iopub.status.idle": "2022-06-23T10:35:06.614411Z",
     "shell.execute_reply": "2022-06-23T10:35:06.613423Z"
    },
    "papermill": {
     "duration": 0.017902,
     "end_time": "2022-06-23T10:35:06.616497",
     "exception": false,
     "start_time": "2022-06-23T10:35:06.598595",
     "status": "completed"
    },
    "tags": []
   },
   "outputs": [
    {
     "data": {
      "application/javascript": [
       "parent.postMessage({\"jupyterEvent\": \"custom.exercise_interaction\", \"data\": {\"interactionType\": 2, \"questionType\": 1, \"questionId\": \"1_EncodingsIntro\", \"learnToolsVersion\": \"0.3.4\", \"valueTowardsCompletion\": 0.0, \"failureMessage\": \"\", \"exceptionClass\": \"\", \"trace\": \"\", \"outcomeType\": 4}}, \"*\")"
      ],
      "text/plain": [
       "<IPython.core.display.Javascript object>"
      ]
     },
     "metadata": {},
     "output_type": "display_data"
    },
    {
     "data": {
      "text/markdown": [
       "<span style=\"color:#3366cc\">Hint:</span> Try using `.decode()` to get the string, then `.encode()` to get the bytes representation, encoded in UTF-8."
      ],
      "text/plain": [
       "Hint: Try using `.decode()` to get the string, then `.encode()` to get the bytes representation, encoded in UTF-8."
      ]
     },
     "metadata": {},
     "output_type": "display_data"
    },
    {
     "data": {
      "application/javascript": [
       "parent.postMessage({\"jupyterEvent\": \"custom.exercise_interaction\", \"data\": {\"interactionType\": 3, \"questionType\": 1, \"questionId\": \"1_EncodingsIntro\", \"learnToolsVersion\": \"0.3.4\", \"valueTowardsCompletion\": 0.0, \"failureMessage\": \"\", \"exceptionClass\": \"\", \"trace\": \"\", \"outcomeType\": 4}}, \"*\")"
      ],
      "text/plain": [
       "<IPython.core.display.Javascript object>"
      ]
     },
     "metadata": {},
     "output_type": "display_data"
    },
    {
     "data": {
      "text/markdown": [
       "<span style=\"color:#33cc99\">Solution:</span> \n",
       "```python\n",
       "before = sample_entry.decode(\"big5-tw\")\n",
       "new_entry = before.encode()\n",
       "\n",
       "```"
      ],
      "text/plain": [
       "Solution: \n",
       "```python\n",
       "before = sample_entry.decode(\"big5-tw\")\n",
       "new_entry = before.encode()\n",
       "\n",
       "```"
      ]
     },
     "metadata": {},
     "output_type": "display_data"
    }
   ],
   "source": [
    "# Lines below will give you a hint or solution code\n",
    "q1.hint()\n",
    "q1.solution()"
   ]
  },
  {
   "cell_type": "markdown",
   "id": "53bdc546",
   "metadata": {
    "papermill": {
     "duration": 0.004413,
     "end_time": "2022-06-23T10:35:06.625581",
     "exception": false,
     "start_time": "2022-06-23T10:35:06.621168",
     "status": "completed"
    },
    "tags": []
   },
   "source": [
    "# 2) Reading in files with encoding problems\n",
    "\n",
    "Use the code cell below to read in this file at path `\"../input/fatal-police-shootings-in-the-us/PoliceKillingsUS.csv\"`.  \n",
    "\n",
    "Figure out what the correct encoding should be and read in the file to a DataFrame `police_killings`."
   ]
  },
  {
   "cell_type": "code",
   "execution_count": 6,
   "id": "8732971e",
   "metadata": {
    "execution": {
     "iopub.execute_input": "2022-06-23T10:35:06.637171Z",
     "iopub.status.busy": "2022-06-23T10:35:06.636418Z",
     "iopub.status.idle": "2022-06-23T10:35:07.580312Z",
     "shell.execute_reply": "2022-06-23T10:35:07.578727Z"
    },
    "papermill": {
     "duration": 0.952565,
     "end_time": "2022-06-23T10:35:07.582783",
     "exception": false,
     "start_time": "2022-06-23T10:35:06.630218",
     "status": "completed"
    },
    "tags": []
   },
   "outputs": [
    {
     "name": "stdout",
     "output_type": "stream",
     "text": [
      "{'encoding': 'Windows-1252', 'confidence': 0.73, 'language': ''}\n"
     ]
    }
   ],
   "source": [
    "# TODO: Load in the DataFrame correctly.\n",
    "with open(\"../input/fatal-police-shootings-in-the-us/PoliceKillingsUS.csv\", 'rb') as rawdata:\n",
    "    result = chardet.detect(rawdata.read(100000))\n",
    "print(result)    \n"
   ]
  },
  {
   "cell_type": "markdown",
   "id": "e684521d",
   "metadata": {
    "papermill": {
     "duration": 0.004471,
     "end_time": "2022-06-23T10:35:07.591940",
     "exception": false,
     "start_time": "2022-06-23T10:35:07.587469",
     "status": "completed"
    },
    "tags": []
   },
   "source": [
    "Feel free to use any additional code cells for supplemental work.  To get credit for finishing this question, you'll need to run `q2.check()` and get a result of **Correct**."
   ]
  },
  {
   "cell_type": "code",
   "execution_count": 7,
   "id": "4aaeba9e",
   "metadata": {
    "execution": {
     "iopub.execute_input": "2022-06-23T10:35:07.602712Z",
     "iopub.status.busy": "2022-06-23T10:35:07.602319Z",
     "iopub.status.idle": "2022-06-23T10:35:07.622827Z",
     "shell.execute_reply": "2022-06-23T10:35:07.621767Z"
    },
    "papermill": {
     "duration": 0.028392,
     "end_time": "2022-06-23T10:35:07.625010",
     "exception": false,
     "start_time": "2022-06-23T10:35:07.596618",
     "status": "completed"
    },
    "tags": []
   },
   "outputs": [
    {
     "data": {
      "application/javascript": [
       "parent.postMessage({\"jupyterEvent\": \"custom.exercise_interaction\", \"data\": {\"outcomeType\": 1, \"valueTowardsCompletion\": 0.3333333333333333, \"interactionType\": 1, \"questionType\": 1, \"questionId\": \"2_ReadIn\", \"learnToolsVersion\": \"0.3.4\", \"failureMessage\": \"\", \"exceptionClass\": \"\", \"trace\": \"\"}}, \"*\")"
      ],
      "text/plain": [
       "<IPython.core.display.Javascript object>"
      ]
     },
     "metadata": {},
     "output_type": "display_data"
    },
    {
     "data": {
      "text/markdown": [
       "<span style=\"color:#33cc33\">Correct</span>"
      ],
      "text/plain": [
       "Correct"
      ]
     },
     "metadata": {},
     "output_type": "display_data"
    }
   ],
   "source": [
    "# (Optional) Use this code cell for any additional work.\n",
    "police_killings = pd.read_csv(\"../input/fatal-police-shootings-in-the-us/PoliceKillingsUS.csv\", encoding='Windows-1252')\n",
    "\n",
    "# Check your answer\n",
    "q2.check()"
   ]
  },
  {
   "cell_type": "code",
   "execution_count": 8,
   "id": "7bacd4c8",
   "metadata": {
    "execution": {
     "iopub.execute_input": "2022-06-23T10:35:07.636319Z",
     "iopub.status.busy": "2022-06-23T10:35:07.635659Z",
     "iopub.status.idle": "2022-06-23T10:35:07.643880Z",
     "shell.execute_reply": "2022-06-23T10:35:07.643099Z"
    },
    "papermill": {
     "duration": 0.015969,
     "end_time": "2022-06-23T10:35:07.645738",
     "exception": false,
     "start_time": "2022-06-23T10:35:07.629769",
     "status": "completed"
    },
    "tags": []
   },
   "outputs": [
    {
     "data": {
      "application/javascript": [
       "parent.postMessage({\"jupyterEvent\": \"custom.exercise_interaction\", \"data\": {\"interactionType\": 2, \"questionType\": 1, \"questionId\": \"2_ReadIn\", \"learnToolsVersion\": \"0.3.4\", \"valueTowardsCompletion\": 0.0, \"failureMessage\": \"\", \"exceptionClass\": \"\", \"trace\": \"\", \"outcomeType\": 4}}, \"*\")"
      ],
      "text/plain": [
       "<IPython.core.display.Javascript object>"
      ]
     },
     "metadata": {},
     "output_type": "display_data"
    },
    {
     "data": {
      "text/markdown": [
       "<span style=\"color:#3366cc\">Hint:</span> If you try to guess the encoding with the first 10,000 bytes of the file, it might give you the wrong answer.  Try using 100,000 or more lines of the file."
      ],
      "text/plain": [
       "Hint: If you try to guess the encoding with the first 10,000 bytes of the file, it might give you the wrong answer.  Try using 100,000 or more lines of the file."
      ]
     },
     "metadata": {},
     "output_type": "display_data"
    }
   ],
   "source": [
    "# Lines below will give you a hint or solution code\n",
    "q2.hint()\n",
    "#q2.solution()"
   ]
  },
  {
   "cell_type": "markdown",
   "id": "29b49e01",
   "metadata": {
    "papermill": {
     "duration": 0.004777,
     "end_time": "2022-06-23T10:35:07.655562",
     "exception": false,
     "start_time": "2022-06-23T10:35:07.650785",
     "status": "completed"
    },
    "tags": []
   },
   "source": [
    "# 3) Saving your files with UTF-8 encoding\n",
    "\n",
    "Save a version of the police killings dataset to CSV with UTF-8 encoding.  Your answer will be marked correct after saving this file.  \n",
    "\n",
    "Note: When using the `to_csv()` method, supply only the name of the file (e.g., `\"my_file.csv\"`).  This saves the file at the filepath `\"/kaggle/working/my_file.csv\"`."
   ]
  },
  {
   "cell_type": "code",
   "execution_count": 9,
   "id": "a3ae7811",
   "metadata": {
    "execution": {
     "iopub.execute_input": "2022-06-23T10:35:07.669706Z",
     "iopub.status.busy": "2022-06-23T10:35:07.669252Z",
     "iopub.status.idle": "2022-06-23T10:35:07.707950Z",
     "shell.execute_reply": "2022-06-23T10:35:07.706863Z"
    },
    "papermill": {
     "duration": 0.050169,
     "end_time": "2022-06-23T10:35:07.710688",
     "exception": false,
     "start_time": "2022-06-23T10:35:07.660519",
     "status": "completed"
    },
    "tags": []
   },
   "outputs": [
    {
     "data": {
      "application/javascript": [
       "parent.postMessage({\"jupyterEvent\": \"custom.exercise_interaction\", \"data\": {\"outcomeType\": 1, \"valueTowardsCompletion\": 0.3333333333333333, \"interactionType\": 1, \"questionType\": 2, \"questionId\": \"3_SaveCSV\", \"learnToolsVersion\": \"0.3.4\", \"failureMessage\": \"\", \"exceptionClass\": \"\", \"trace\": \"\"}}, \"*\")"
      ],
      "text/plain": [
       "<IPython.core.display.Javascript object>"
      ]
     },
     "metadata": {},
     "output_type": "display_data"
    },
    {
     "data": {
      "text/markdown": [
       "<span style=\"color:#33cc33\">Correct</span>"
      ],
      "text/plain": [
       "Correct"
      ]
     },
     "metadata": {},
     "output_type": "display_data"
    }
   ],
   "source": [
    "# TODO: Save the police killings dataset to CSV\n",
    "police_killings.to_csv(\"/kaggle/working/my_file.csv\")\n",
    "\n",
    "# Check your answer\n",
    "q3.check()"
   ]
  },
  {
   "cell_type": "code",
   "execution_count": 10,
   "id": "d158d802",
   "metadata": {
    "execution": {
     "iopub.execute_input": "2022-06-23T10:35:07.729748Z",
     "iopub.status.busy": "2022-06-23T10:35:07.728580Z",
     "iopub.status.idle": "2022-06-23T10:35:07.733664Z",
     "shell.execute_reply": "2022-06-23T10:35:07.732581Z"
    },
    "papermill": {
     "duration": 0.016708,
     "end_time": "2022-06-23T10:35:07.735979",
     "exception": false,
     "start_time": "2022-06-23T10:35:07.719271",
     "status": "completed"
    },
    "tags": []
   },
   "outputs": [],
   "source": [
    "# Lines below will give you a hint or solution code\n",
    "#q3.hint()\n",
    "#q3.solution()"
   ]
  },
  {
   "cell_type": "markdown",
   "id": "c13e75b9",
   "metadata": {
    "papermill": {
     "duration": 0.005356,
     "end_time": "2022-06-23T10:35:07.747662",
     "exception": false,
     "start_time": "2022-06-23T10:35:07.742306",
     "status": "completed"
    },
    "tags": []
   },
   "source": [
    "# (Optional) More practice\n",
    "\n",
    "Check out [this dataset of files in different character encodings](https://www.kaggle.com/rtatman/character-encoding-examples). Can you read in all the files with their original encodings and them save them out as UTF-8 files?\n",
    "\n",
    "If you have a file that's in UTF-8 but has just a couple of weird-looking characters in it, you can try out the [ftfy module](https://ftfy.readthedocs.io/en/latest/#) and see if it helps. \n",
    "\n",
    "# Keep going\n",
    "\n",
    "In the final lesson, learn how to [**clean up inconsistent text entries**](https://www.kaggle.com/alexisbcook/inconsistent-data-entry) in your dataset."
   ]
  },
  {
   "cell_type": "markdown",
   "id": "f7a2abd8",
   "metadata": {
    "papermill": {
     "duration": 0.00636,
     "end_time": "2022-06-23T10:35:07.761833",
     "exception": false,
     "start_time": "2022-06-23T10:35:07.755473",
     "status": "completed"
    },
    "tags": []
   },
   "source": [
    "---\n",
    "\n",
    "\n",
    "\n",
    "\n",
    "*Have questions or comments? Visit the [course discussion forum](https://www.kaggle.com/learn/data-cleaning/discussion) to chat with other learners.*"
   ]
  }
 ],
 "metadata": {
  "kernelspec": {
   "display_name": "Python 3",
   "language": "python",
   "name": "python3"
  },
  "language_info": {
   "codemirror_mode": {
    "name": "ipython",
    "version": 3
   },
   "file_extension": ".py",
   "mimetype": "text/x-python",
   "name": "python",
   "nbconvert_exporter": "python",
   "pygments_lexer": "ipython3",
   "version": "3.7.12"
  },
  "papermill": {
   "default_parameters": {},
   "duration": 10.529698,
   "end_time": "2022-06-23T10:35:08.388669",
   "environment_variables": {},
   "exception": null,
   "input_path": "__notebook__.ipynb",
   "output_path": "__notebook__.ipynb",
   "parameters": {},
   "start_time": "2022-06-23T10:34:57.858971",
   "version": "2.3.4"
  }
 },
 "nbformat": 4,
 "nbformat_minor": 5
}
