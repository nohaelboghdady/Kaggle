{
 "cells": [
  {
   "cell_type": "markdown",
   "id": "77d4fc37",
   "metadata": {
    "papermill": {
     "duration": 0.005685,
     "end_time": "2022-06-25T00:21:38.968351",
     "exception": false,
     "start_time": "2022-06-25T00:21:38.962666",
     "status": "completed"
    },
    "tags": []
   },
   "source": [
    "**This notebook is an exercise in the [Pandas](https://www.kaggle.com/learn/pandas) course.  You can reference the tutorial at [this link](https://www.kaggle.com/residentmario/data-types-and-missing-values).**\n",
    "\n",
    "---\n"
   ]
  },
  {
   "cell_type": "markdown",
   "id": "1fb7ccb1",
   "metadata": {
    "papermill": {
     "duration": 0.004392,
     "end_time": "2022-06-25T00:21:38.977649",
     "exception": false,
     "start_time": "2022-06-25T00:21:38.973257",
     "status": "completed"
    },
    "tags": []
   },
   "source": [
    "# Introduction\n",
    "\n",
    "Run the following cell to load your data and some utility functions."
   ]
  },
  {
   "cell_type": "code",
   "execution_count": 1,
   "id": "4f3b117e",
   "metadata": {
    "execution": {
     "iopub.execute_input": "2022-06-25T00:21:38.989714Z",
     "iopub.status.busy": "2022-06-25T00:21:38.988976Z",
     "iopub.status.idle": "2022-06-25T00:21:41.984305Z",
     "shell.execute_reply": "2022-06-25T00:21:41.982947Z"
    },
    "papermill": {
     "duration": 3.004652,
     "end_time": "2022-06-25T00:21:41.987056",
     "exception": false,
     "start_time": "2022-06-25T00:21:38.982404",
     "status": "completed"
    },
    "tags": []
   },
   "outputs": [
    {
     "name": "stdout",
     "output_type": "stream",
     "text": [
      "Setup complete.\n"
     ]
    }
   ],
   "source": [
    "import pandas as pd\n",
    "\n",
    "reviews = pd.read_csv(\"../input/wine-reviews/winemag-data-130k-v2.csv\", index_col=0)\n",
    "\n",
    "from learntools.core import binder; binder.bind(globals())\n",
    "from learntools.pandas.data_types_and_missing_data import *\n",
    "print(\"Setup complete.\")"
   ]
  },
  {
   "cell_type": "markdown",
   "id": "8e146376",
   "metadata": {
    "papermill": {
     "duration": 0.005017,
     "end_time": "2022-06-25T00:21:41.996980",
     "exception": false,
     "start_time": "2022-06-25T00:21:41.991963",
     "status": "completed"
    },
    "tags": []
   },
   "source": [
    "# Exercises"
   ]
  },
  {
   "cell_type": "markdown",
   "id": "3dd465bf",
   "metadata": {
    "papermill": {
     "duration": 0.004984,
     "end_time": "2022-06-25T00:21:42.007162",
     "exception": false,
     "start_time": "2022-06-25T00:21:42.002178",
     "status": "completed"
    },
    "tags": []
   },
   "source": [
    "## 1. \n",
    "What is the data type of the `points` column in the dataset?"
   ]
  },
  {
   "cell_type": "code",
   "execution_count": 2,
   "id": "5903d00d",
   "metadata": {
    "execution": {
     "iopub.execute_input": "2022-06-25T00:21:42.018758Z",
     "iopub.status.busy": "2022-06-25T00:21:42.018370Z",
     "iopub.status.idle": "2022-06-25T00:21:42.031359Z",
     "shell.execute_reply": "2022-06-25T00:21:42.030393Z"
    },
    "papermill": {
     "duration": 0.021724,
     "end_time": "2022-06-25T00:21:42.033713",
     "exception": false,
     "start_time": "2022-06-25T00:21:42.011989",
     "status": "completed"
    },
    "tags": []
   },
   "outputs": [
    {
     "data": {
      "application/javascript": [
       "parent.postMessage({\"jupyterEvent\": \"custom.exercise_interaction\", \"data\": {\"outcomeType\": 1, \"valueTowardsCompletion\": 0.25, \"interactionType\": 1, \"questionType\": 1, \"questionId\": \"1_PointsDtype\", \"learnToolsVersion\": \"0.3.4\", \"failureMessage\": \"\", \"exceptionClass\": \"\", \"trace\": \"\"}}, \"*\")"
      ],
      "text/plain": [
       "<IPython.core.display.Javascript object>"
      ]
     },
     "metadata": {},
     "output_type": "display_data"
    },
    {
     "data": {
      "text/markdown": [
       "<span style=\"color:#33cc33\">Correct</span>"
      ],
      "text/plain": [
       "Correct"
      ]
     },
     "metadata": {},
     "output_type": "display_data"
    }
   ],
   "source": [
    "# Your code here\n",
    "dtype = reviews.points.dtype\n",
    "\n",
    "# Check your answer\n",
    "q1.check()"
   ]
  },
  {
   "cell_type": "code",
   "execution_count": 3,
   "id": "897c0823",
   "metadata": {
    "execution": {
     "iopub.execute_input": "2022-06-25T00:21:42.045892Z",
     "iopub.status.busy": "2022-06-25T00:21:42.045509Z",
     "iopub.status.idle": "2022-06-25T00:21:42.049655Z",
     "shell.execute_reply": "2022-06-25T00:21:42.048804Z"
    },
    "papermill": {
     "duration": 0.012555,
     "end_time": "2022-06-25T00:21:42.051584",
     "exception": false,
     "start_time": "2022-06-25T00:21:42.039029",
     "status": "completed"
    },
    "tags": []
   },
   "outputs": [],
   "source": [
    "#q1.hint()\n",
    "#q1.solution()"
   ]
  },
  {
   "cell_type": "markdown",
   "id": "2171feb9",
   "metadata": {
    "papermill": {
     "duration": 0.005149,
     "end_time": "2022-06-25T00:21:42.061883",
     "exception": false,
     "start_time": "2022-06-25T00:21:42.056734",
     "status": "completed"
    },
    "tags": []
   },
   "source": [
    "## 2. \n",
    "Create a Series from entries in the `points` column, but convert the entries to strings. Hint: strings are `str` in native Python."
   ]
  },
  {
   "cell_type": "code",
   "execution_count": 4,
   "id": "57d5f823",
   "metadata": {
    "execution": {
     "iopub.execute_input": "2022-06-25T00:21:42.073673Z",
     "iopub.status.busy": "2022-06-25T00:21:42.073308Z",
     "iopub.status.idle": "2022-06-25T00:21:42.213475Z",
     "shell.execute_reply": "2022-06-25T00:21:42.212410Z"
    },
    "papermill": {
     "duration": 0.14873,
     "end_time": "2022-06-25T00:21:42.215667",
     "exception": false,
     "start_time": "2022-06-25T00:21:42.066937",
     "status": "completed"
    },
    "tags": []
   },
   "outputs": [
    {
     "data": {
      "application/javascript": [
       "parent.postMessage({\"jupyterEvent\": \"custom.exercise_interaction\", \"data\": {\"outcomeType\": 1, \"valueTowardsCompletion\": 0.25, \"interactionType\": 1, \"questionType\": 1, \"questionId\": \"2_StrPoints\", \"learnToolsVersion\": \"0.3.4\", \"failureMessage\": \"\", \"exceptionClass\": \"\", \"trace\": \"\"}}, \"*\")"
      ],
      "text/plain": [
       "<IPython.core.display.Javascript object>"
      ]
     },
     "metadata": {},
     "output_type": "display_data"
    },
    {
     "data": {
      "text/markdown": [
       "<span style=\"color:#33cc33\">Correct</span>"
      ],
      "text/plain": [
       "Correct"
      ]
     },
     "metadata": {},
     "output_type": "display_data"
    }
   ],
   "source": [
    "point_strings = reviews.points.astype('str')\n",
    "\n",
    "# Check your answer\n",
    "q2.check()"
   ]
  },
  {
   "cell_type": "code",
   "execution_count": 5,
   "id": "5bb6b0a8",
   "metadata": {
    "execution": {
     "iopub.execute_input": "2022-06-25T00:21:42.228276Z",
     "iopub.status.busy": "2022-06-25T00:21:42.227867Z",
     "iopub.status.idle": "2022-06-25T00:21:42.233078Z",
     "shell.execute_reply": "2022-06-25T00:21:42.231959Z"
    },
    "papermill": {
     "duration": 0.014433,
     "end_time": "2022-06-25T00:21:42.235411",
     "exception": false,
     "start_time": "2022-06-25T00:21:42.220978",
     "status": "completed"
    },
    "tags": []
   },
   "outputs": [],
   "source": [
    "#q2.hint()\n",
    "#q2.solution()"
   ]
  },
  {
   "cell_type": "markdown",
   "id": "2482c461",
   "metadata": {
    "papermill": {
     "duration": 0.005064,
     "end_time": "2022-06-25T00:21:42.246040",
     "exception": false,
     "start_time": "2022-06-25T00:21:42.240976",
     "status": "completed"
    },
    "tags": []
   },
   "source": [
    "## 3.\n",
    "Sometimes the price column is null. How many reviews in the dataset are missing a price?"
   ]
  },
  {
   "cell_type": "code",
   "execution_count": 6,
   "id": "a063cab4",
   "metadata": {
    "execution": {
     "iopub.execute_input": "2022-06-25T00:21:42.258801Z",
     "iopub.status.busy": "2022-06-25T00:21:42.258403Z",
     "iopub.status.idle": "2022-06-25T00:21:42.274752Z",
     "shell.execute_reply": "2022-06-25T00:21:42.273531Z"
    },
    "papermill": {
     "duration": 0.025755,
     "end_time": "2022-06-25T00:21:42.277287",
     "exception": false,
     "start_time": "2022-06-25T00:21:42.251532",
     "status": "completed"
    },
    "tags": []
   },
   "outputs": [
    {
     "data": {
      "application/javascript": [
       "parent.postMessage({\"jupyterEvent\": \"custom.exercise_interaction\", \"data\": {\"outcomeType\": 1, \"valueTowardsCompletion\": 0.25, \"interactionType\": 1, \"questionType\": 1, \"questionId\": \"3_CountMissingPrices\", \"learnToolsVersion\": \"0.3.4\", \"failureMessage\": \"\", \"exceptionClass\": \"\", \"trace\": \"\"}}, \"*\")"
      ],
      "text/plain": [
       "<IPython.core.display.Javascript object>"
      ]
     },
     "metadata": {},
     "output_type": "display_data"
    },
    {
     "data": {
      "text/markdown": [
       "<span style=\"color:#33cc33\">Correct</span>"
      ],
      "text/plain": [
       "Correct"
      ]
     },
     "metadata": {},
     "output_type": "display_data"
    }
   ],
   "source": [
    "n_missing_prices = len(reviews[pd.isnull(reviews.price)])\n",
    "\n",
    "# Check your answer\n",
    "q3.check()"
   ]
  },
  {
   "cell_type": "code",
   "execution_count": 7,
   "id": "d636ca71",
   "metadata": {
    "execution": {
     "iopub.execute_input": "2022-06-25T00:21:42.290616Z",
     "iopub.status.busy": "2022-06-25T00:21:42.290257Z",
     "iopub.status.idle": "2022-06-25T00:21:42.294632Z",
     "shell.execute_reply": "2022-06-25T00:21:42.293504Z"
    },
    "papermill": {
     "duration": 0.013687,
     "end_time": "2022-06-25T00:21:42.296862",
     "exception": false,
     "start_time": "2022-06-25T00:21:42.283175",
     "status": "completed"
    },
    "tags": []
   },
   "outputs": [],
   "source": [
    "#q3.hint()\n",
    "#q3.solution()"
   ]
  },
  {
   "cell_type": "markdown",
   "id": "ce6eb544",
   "metadata": {
    "papermill": {
     "duration": 0.005357,
     "end_time": "2022-06-25T00:21:42.308243",
     "exception": false,
     "start_time": "2022-06-25T00:21:42.302886",
     "status": "completed"
    },
    "tags": []
   },
   "source": [
    "## 4.\n",
    "What are the most common wine-producing regions? Create a Series counting the number of times each value occurs in the `region_1` field. This field is often missing data, so replace missing values with `Unknown`. Sort in descending order.  Your output should look something like this:\n",
    "\n",
    "```\n",
    "Unknown                    21247\n",
    "Napa Valley                 4480\n",
    "                           ...  \n",
    "Bardolino Superiore            1\n",
    "Primitivo del Tarantino        1\n",
    "Name: region_1, Length: 1230, dtype: int64\n",
    "```"
   ]
  },
  {
   "cell_type": "code",
   "execution_count": 8,
   "id": "30fd649d",
   "metadata": {
    "execution": {
     "iopub.execute_input": "2022-06-25T00:21:42.321374Z",
     "iopub.status.busy": "2022-06-25T00:21:42.320975Z",
     "iopub.status.idle": "2022-06-25T00:21:42.399398Z",
     "shell.execute_reply": "2022-06-25T00:21:42.398484Z"
    },
    "papermill": {
     "duration": 0.087812,
     "end_time": "2022-06-25T00:21:42.401597",
     "exception": false,
     "start_time": "2022-06-25T00:21:42.313785",
     "status": "completed"
    },
    "tags": []
   },
   "outputs": [
    {
     "data": {
      "application/javascript": [
       "parent.postMessage({\"jupyterEvent\": \"custom.exercise_interaction\", \"data\": {\"outcomeType\": 1, \"valueTowardsCompletion\": 0.25, \"interactionType\": 1, \"questionType\": 2, \"questionId\": \"4_ReviewsPerRegion\", \"learnToolsVersion\": \"0.3.4\", \"failureMessage\": \"\", \"exceptionClass\": \"\", \"trace\": \"\"}}, \"*\")"
      ],
      "text/plain": [
       "<IPython.core.display.Javascript object>"
      ]
     },
     "metadata": {},
     "output_type": "display_data"
    },
    {
     "data": {
      "text/markdown": [
       "<span style=\"color:#33cc33\">Correct</span>"
      ],
      "text/plain": [
       "Correct"
      ]
     },
     "metadata": {},
     "output_type": "display_data"
    }
   ],
   "source": [
    "reviews_per_region = reviews.region_1.fillna('Unknown').value_counts().sort_values(ascending=False)\n",
    "\n",
    "# Check your answer\n",
    "q4.check()"
   ]
  },
  {
   "cell_type": "code",
   "execution_count": 9,
   "id": "144c8af3",
   "metadata": {
    "execution": {
     "iopub.execute_input": "2022-06-25T00:21:42.415272Z",
     "iopub.status.busy": "2022-06-25T00:21:42.414852Z",
     "iopub.status.idle": "2022-06-25T00:21:42.419119Z",
     "shell.execute_reply": "2022-06-25T00:21:42.417996Z"
    },
    "papermill": {
     "duration": 0.013997,
     "end_time": "2022-06-25T00:21:42.421517",
     "exception": false,
     "start_time": "2022-06-25T00:21:42.407520",
     "status": "completed"
    },
    "tags": []
   },
   "outputs": [],
   "source": [
    "#q4.hint()\n",
    "#q4.solution()"
   ]
  },
  {
   "cell_type": "markdown",
   "id": "bc9828f9",
   "metadata": {
    "papermill": {
     "duration": 0.005844,
     "end_time": "2022-06-25T00:21:42.433420",
     "exception": false,
     "start_time": "2022-06-25T00:21:42.427576",
     "status": "completed"
    },
    "tags": []
   },
   "source": [
    "# Keep going\n",
    "\n",
    "Move on to **[renaming and combining](https://www.kaggle.com/residentmario/renaming-and-combining)**."
   ]
  },
  {
   "cell_type": "markdown",
   "id": "9a4d326d",
   "metadata": {
    "papermill": {
     "duration": 0.005989,
     "end_time": "2022-06-25T00:21:42.445304",
     "exception": false,
     "start_time": "2022-06-25T00:21:42.439315",
     "status": "completed"
    },
    "tags": []
   },
   "source": [
    "---\n",
    "\n",
    "\n",
    "\n",
    "\n",
    "*Have questions or comments? Visit the [course discussion forum](https://www.kaggle.com/learn/pandas/discussion) to chat with other learners.*"
   ]
  }
 ],
 "metadata": {
  "kernelspec": {
   "display_name": "Python 3",
   "language": "python",
   "name": "python3"
  },
  "language_info": {
   "codemirror_mode": {
    "name": "ipython",
    "version": 3
   },
   "file_extension": ".py",
   "mimetype": "text/x-python",
   "name": "python",
   "nbconvert_exporter": "python",
   "pygments_lexer": "ipython3",
   "version": "3.7.12"
  },
  "papermill": {
   "default_parameters": {},
   "duration": 14.705372,
   "end_time": "2022-06-25T00:21:43.173745",
   "environment_variables": {},
   "exception": null,
   "input_path": "__notebook__.ipynb",
   "output_path": "__notebook__.ipynb",
   "parameters": {},
   "start_time": "2022-06-25T00:21:28.468373",
   "version": "2.3.4"
  }
 },
 "nbformat": 4,
 "nbformat_minor": 5
}
