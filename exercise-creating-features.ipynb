{
 "cells": [
  {
   "cell_type": "markdown",
   "id": "48da5b23",
   "metadata": {
    "papermill": {
     "duration": 0.005831,
     "end_time": "2022-06-29T12:52:03.693664",
     "exception": false,
     "start_time": "2022-06-29T12:52:03.687833",
     "status": "completed"
    },
    "tags": []
   },
   "source": [
    "**This notebook is an exercise in the [Feature Engineering](https://www.kaggle.com/learn/feature-engineering) course.  You can reference the tutorial at [this link](https://www.kaggle.com/ryanholbrook/creating-features).**\n",
    "\n",
    "---\n"
   ]
  },
  {
   "cell_type": "markdown",
   "id": "d88d0e72",
   "metadata": {
    "papermill": {
     "duration": 0.004472,
     "end_time": "2022-06-29T12:52:03.702984",
     "exception": false,
     "start_time": "2022-06-29T12:52:03.698512",
     "status": "completed"
    },
    "tags": []
   },
   "source": [
    "# Introduction #\n",
    "\n",
    "In this exercise you'll start developing the features you identified in Exercise 2 as having the most potential. As you work through this exercise, you might take a moment to look at the data documentation again and consider whether the features we're creating make sense from a real-world perspective, and whether there are any useful combinations that stand out to you.\n",
    "\n",
    "Run this cell to set everything up!"
   ]
  },
  {
   "cell_type": "code",
   "execution_count": 1,
   "id": "576c1ab4",
   "metadata": {
    "execution": {
     "iopub.execute_input": "2022-06-29T12:52:03.714510Z",
     "iopub.status.busy": "2022-06-29T12:52:03.713663Z",
     "iopub.status.idle": "2022-06-29T12:52:05.299532Z",
     "shell.execute_reply": "2022-06-29T12:52:05.298398Z"
    },
    "papermill": {
     "duration": 1.594623,
     "end_time": "2022-06-29T12:52:05.302309",
     "exception": false,
     "start_time": "2022-06-29T12:52:03.707686",
     "status": "completed"
    },
    "tags": []
   },
   "outputs": [],
   "source": [
    "# Setup feedback system\n",
    "from learntools.core import binder\n",
    "binder.bind(globals())\n",
    "from learntools.feature_engineering_new.ex3 import *\n",
    "\n",
    "import numpy as np\n",
    "import pandas as pd\n",
    "from sklearn.model_selection import cross_val_score\n",
    "from xgboost import XGBRegressor\n",
    "\n",
    "\n",
    "def score_dataset(X, y, model=XGBRegressor()):\n",
    "    # Label encoding for categoricals\n",
    "    for colname in X.select_dtypes([\"category\", \"object\"]):\n",
    "        X[colname], _ = X[colname].factorize()\n",
    "    # Metric for Housing competition is RMSLE (Root Mean Squared Log Error)\n",
    "    score = cross_val_score(\n",
    "        model, X, y, cv=5, scoring=\"neg_mean_squared_log_error\",\n",
    "    )\n",
    "    score = -1 * score.mean()\n",
    "    score = np.sqrt(score)\n",
    "    return score\n",
    "\n",
    "\n",
    "# Prepare data\n",
    "df = pd.read_csv(\"../input/fe-course-data/ames.csv\")\n",
    "X = df.copy()\n",
    "y = X.pop(\"SalePrice\")"
   ]
  },
  {
   "cell_type": "markdown",
   "id": "cc53c948",
   "metadata": {
    "papermill": {
     "duration": 0.004445,
     "end_time": "2022-06-29T12:52:05.311530",
     "exception": false,
     "start_time": "2022-06-29T12:52:05.307085",
     "status": "completed"
    },
    "tags": []
   },
   "source": [
    "-------------------------------------------------------------------------------\n",
    "\n",
    "Let's start with a few mathematical combinations. We'll focus on features describing areas -- having the same units (square-feet) makes it easy to combine them in sensible ways. Since we're using XGBoost (a tree-based model), we'll focus on ratios and sums.\n",
    "\n",
    "# 1) Create Mathematical Transforms\n",
    "\n",
    "Create the following features:\n",
    "\n",
    "- `LivLotRatio`: the ratio of `GrLivArea` to `LotArea`\n",
    "- `Spaciousness`: the sum of `FirstFlrSF` and `SecondFlrSF` divided by `TotRmsAbvGrd`\n",
    "- `TotalOutsideSF`: the sum of `WoodDeckSF`, `OpenPorchSF`, `EnclosedPorch`, `Threeseasonporch`, and `ScreenPorch`"
   ]
  },
  {
   "cell_type": "code",
   "execution_count": 2,
   "id": "bf1e8198",
   "metadata": {
    "execution": {
     "iopub.execute_input": "2022-06-29T12:52:05.323114Z",
     "iopub.status.busy": "2022-06-29T12:52:05.322095Z",
     "iopub.status.idle": "2022-06-29T12:52:05.346688Z",
     "shell.execute_reply": "2022-06-29T12:52:05.345664Z"
    },
    "lines_to_next_cell": 0,
    "papermill": {
     "duration": 0.033054,
     "end_time": "2022-06-29T12:52:05.349218",
     "exception": false,
     "start_time": "2022-06-29T12:52:05.316164",
     "status": "completed"
    },
    "tags": []
   },
   "outputs": [
    {
     "data": {
      "application/javascript": [
       "parent.postMessage({\"jupyterEvent\": \"custom.exercise_interaction\", \"data\": {\"outcomeType\": 1, \"valueTowardsCompletion\": 0.2, \"interactionType\": 1, \"questionType\": 2, \"questionId\": \"1_Q1\", \"learnToolsVersion\": \"0.3.4\", \"failureMessage\": \"\", \"exceptionClass\": \"\", \"trace\": \"\"}}, \"*\")"
      ],
      "text/plain": [
       "<IPython.core.display.Javascript object>"
      ]
     },
     "metadata": {},
     "output_type": "display_data"
    },
    {
     "data": {
      "text/markdown": [
       "<span style=\"color:#33cc33\">Correct</span>"
      ],
      "text/plain": [
       "Correct"
      ]
     },
     "metadata": {},
     "output_type": "display_data"
    }
   ],
   "source": [
    "# YOUR CODE HERE\n",
    "X_1 = pd.DataFrame()  # dataframe to hold new features\n",
    "\n",
    "X_1[\"LivLotRatio\"] = df.GrLivArea / df.LotArea\n",
    "X_1[\"Spaciousness\"] = (df.FirstFlrSF + df.SecondFlrSF) / df.TotRmsAbvGrd\n",
    "X_1[\"TotalOutsideSF\"] = df.WoodDeckSF + df.OpenPorchSF + df.EnclosedPorch + df.Threeseasonporch + df.ScreenPorch\n",
    "\n",
    "\n",
    "# Check your answer\n",
    "q_1.check()"
   ]
  },
  {
   "cell_type": "code",
   "execution_count": 3,
   "id": "e8ccdc67",
   "metadata": {
    "execution": {
     "iopub.execute_input": "2022-06-29T12:52:05.360612Z",
     "iopub.status.busy": "2022-06-29T12:52:05.360000Z",
     "iopub.status.idle": "2022-06-29T12:52:05.364003Z",
     "shell.execute_reply": "2022-06-29T12:52:05.363274Z"
    },
    "lines_to_next_cell": 0,
    "papermill": {
     "duration": 0.011718,
     "end_time": "2022-06-29T12:52:05.365888",
     "exception": false,
     "start_time": "2022-06-29T12:52:05.354170",
     "status": "completed"
    },
    "tags": []
   },
   "outputs": [],
   "source": [
    "# Lines below will give you a hint or solution code\n",
    "#q_1.hint()\n",
    "#q_1.solution()"
   ]
  },
  {
   "cell_type": "markdown",
   "id": "23a4eb63",
   "metadata": {
    "papermill": {
     "duration": 0.00471,
     "end_time": "2022-06-29T12:52:05.375672",
     "exception": false,
     "start_time": "2022-06-29T12:52:05.370962",
     "status": "completed"
    },
    "tags": []
   },
   "source": [
    "-------------------------------------------------------------------------------\n",
    "\n",
    "If you've discovered an interaction effect between a numeric feature and a categorical feature, you might want to model it explicitly using a one-hot encoding, like so:\n",
    "\n",
    "```\n",
    "# One-hot encode Categorical feature, adding a column prefix \"Cat\"\n",
    "X_new = pd.get_dummies(df.Categorical, prefix=\"Cat\")\n",
    "\n",
    "# Multiply row-by-row\n",
    "X_new = X_new.mul(df.Continuous, axis=0)\n",
    "\n",
    "# Join the new features to the feature set\n",
    "X = X.join(X_new)\n",
    "```\n",
    "\n",
    "# 2) Interaction with a Categorical\n",
    "\n",
    "We discovered an interaction between `BldgType` and `GrLivArea` in Exercise 2. Now create their interaction features."
   ]
  },
  {
   "cell_type": "code",
   "execution_count": 4,
   "id": "e5a6a92f",
   "metadata": {
    "execution": {
     "iopub.execute_input": "2022-06-29T12:52:05.387404Z",
     "iopub.status.busy": "2022-06-29T12:52:05.386702Z",
     "iopub.status.idle": "2022-06-29T12:52:05.398444Z",
     "shell.execute_reply": "2022-06-29T12:52:05.397588Z"
    },
    "lines_to_next_cell": 0,
    "papermill": {
     "duration": 0.01977,
     "end_time": "2022-06-29T12:52:05.400261",
     "exception": false,
     "start_time": "2022-06-29T12:52:05.380491",
     "status": "completed"
    },
    "tags": []
   },
   "outputs": [
    {
     "data": {
      "application/javascript": [
       "parent.postMessage({\"jupyterEvent\": \"custom.exercise_interaction\", \"data\": {\"outcomeType\": 1, \"valueTowardsCompletion\": 0.2, \"interactionType\": 1, \"questionType\": 2, \"questionId\": \"2_Q2\", \"learnToolsVersion\": \"0.3.4\", \"failureMessage\": \"\", \"exceptionClass\": \"\", \"trace\": \"\"}}, \"*\")"
      ],
      "text/plain": [
       "<IPython.core.display.Javascript object>"
      ]
     },
     "metadata": {},
     "output_type": "display_data"
    },
    {
     "data": {
      "text/markdown": [
       "<span style=\"color:#33cc33\">Correct</span>"
      ],
      "text/plain": [
       "Correct"
      ]
     },
     "metadata": {},
     "output_type": "display_data"
    }
   ],
   "source": [
    "# YOUR CODE HERE\n",
    "# One-hot encode BldgType. Use `prefix=\"Bldg\"` in `get_dummies`\n",
    "X_2 = pd.get_dummies(df.BldgType, prefix=\"Bldg\")\n",
    "# Multiply\n",
    "X_2 = X_2.mul(df.GrLivArea, axis=0)\n",
    "\n",
    "\n",
    "# Check your answer\n",
    "q_2.check()"
   ]
  },
  {
   "cell_type": "code",
   "execution_count": 5,
   "id": "e0f7c226",
   "metadata": {
    "execution": {
     "iopub.execute_input": "2022-06-29T12:52:05.412227Z",
     "iopub.status.busy": "2022-06-29T12:52:05.411501Z",
     "iopub.status.idle": "2022-06-29T12:52:05.415228Z",
     "shell.execute_reply": "2022-06-29T12:52:05.414440Z"
    },
    "lines_to_next_cell": 0,
    "papermill": {
     "duration": 0.012117,
     "end_time": "2022-06-29T12:52:05.417362",
     "exception": false,
     "start_time": "2022-06-29T12:52:05.405245",
     "status": "completed"
    },
    "tags": []
   },
   "outputs": [],
   "source": [
    "# Lines below will give you a hint or solution code\n",
    "#q_2.hint()\n",
    "#q_2.solution()"
   ]
  },
  {
   "cell_type": "markdown",
   "id": "02d031a2",
   "metadata": {
    "lines_to_next_cell": 0,
    "papermill": {
     "duration": 0.004737,
     "end_time": "2022-06-29T12:52:05.427123",
     "exception": false,
     "start_time": "2022-06-29T12:52:05.422386",
     "status": "completed"
    },
    "tags": []
   },
   "source": [
    "# 3) Count Feature\n",
    "\n",
    "Let's try creating a feature that describes how many kinds of outdoor areas a dwelling has. Create a feature `PorchTypes` that counts how many of the following are greater than 0.0:\n",
    "\n",
    "```\n",
    "WoodDeckSF\n",
    "OpenPorchSF\n",
    "EnclosedPorch\n",
    "Threeseasonporch\n",
    "ScreenPorch\n",
    "```"
   ]
  },
  {
   "cell_type": "code",
   "execution_count": 6,
   "id": "afaf2d7e",
   "metadata": {
    "execution": {
     "iopub.execute_input": "2022-06-29T12:52:05.438839Z",
     "iopub.status.busy": "2022-06-29T12:52:05.438497Z",
     "iopub.status.idle": "2022-06-29T12:52:05.456019Z",
     "shell.execute_reply": "2022-06-29T12:52:05.455040Z"
    },
    "lines_to_next_cell": 0,
    "papermill": {
     "duration": 0.026131,
     "end_time": "2022-06-29T12:52:05.458227",
     "exception": false,
     "start_time": "2022-06-29T12:52:05.432096",
     "status": "completed"
    },
    "tags": []
   },
   "outputs": [
    {
     "data": {
      "application/javascript": [
       "parent.postMessage({\"jupyterEvent\": \"custom.exercise_interaction\", \"data\": {\"outcomeType\": 1, \"valueTowardsCompletion\": 0.2, \"interactionType\": 1, \"questionType\": 2, \"questionId\": \"3_Q3\", \"learnToolsVersion\": \"0.3.4\", \"failureMessage\": \"\", \"exceptionClass\": \"\", \"trace\": \"\"}}, \"*\")"
      ],
      "text/plain": [
       "<IPython.core.display.Javascript object>"
      ]
     },
     "metadata": {},
     "output_type": "display_data"
    },
    {
     "data": {
      "text/markdown": [
       "<span style=\"color:#33cc33\">Correct</span>"
      ],
      "text/plain": [
       "Correct"
      ]
     },
     "metadata": {},
     "output_type": "display_data"
    }
   ],
   "source": [
    "X_3 = pd.DataFrame()\n",
    "\n",
    "# YOUR CODE HERE\n",
    "X_3[\"PorchTypes\"] =  df[[\n",
    "    \"WoodDeckSF\",\n",
    "    \"OpenPorchSF\",\n",
    "    \"EnclosedPorch\",\n",
    "    \"Threeseasonporch\",\n",
    "    \"ScreenPorch\",\n",
    "]].gt(0.0).sum(axis=1)\n",
    "\n",
    "\n",
    "# Check your answer\n",
    "q_3.check()"
   ]
  },
  {
   "cell_type": "code",
   "execution_count": 7,
   "id": "1debf47d",
   "metadata": {
    "execution": {
     "iopub.execute_input": "2022-06-29T12:52:05.470386Z",
     "iopub.status.busy": "2022-06-29T12:52:05.470017Z",
     "iopub.status.idle": "2022-06-29T12:52:05.474235Z",
     "shell.execute_reply": "2022-06-29T12:52:05.472908Z"
    },
    "lines_to_next_cell": 0,
    "papermill": {
     "duration": 0.012849,
     "end_time": "2022-06-29T12:52:05.476258",
     "exception": false,
     "start_time": "2022-06-29T12:52:05.463409",
     "status": "completed"
    },
    "tags": []
   },
   "outputs": [],
   "source": [
    "# Lines below will give you a hint or solution code\n",
    "#q_3.hint()\n",
    "#q_3.solution()"
   ]
  },
  {
   "cell_type": "markdown",
   "id": "03d98157",
   "metadata": {
    "papermill": {
     "duration": 0.004797,
     "end_time": "2022-06-29T12:52:05.486241",
     "exception": false,
     "start_time": "2022-06-29T12:52:05.481444",
     "status": "completed"
    },
    "tags": []
   },
   "source": [
    "# 4) Break Down a Categorical Feature\n",
    "\n",
    "`MSSubClass` describes the type of a dwelling:"
   ]
  },
  {
   "cell_type": "code",
   "execution_count": 8,
   "id": "854eaf34",
   "metadata": {
    "execution": {
     "iopub.execute_input": "2022-06-29T12:52:05.498489Z",
     "iopub.status.busy": "2022-06-29T12:52:05.497753Z",
     "iopub.status.idle": "2022-06-29T12:52:05.504230Z",
     "shell.execute_reply": "2022-06-29T12:52:05.503416Z"
    },
    "papermill": {
     "duration": 0.014768,
     "end_time": "2022-06-29T12:52:05.506137",
     "exception": false,
     "start_time": "2022-06-29T12:52:05.491369",
     "status": "completed"
    },
    "tags": []
   },
   "outputs": [
    {
     "data": {
      "text/plain": [
       "array(['One_Story_1946_and_Newer_All_Styles', 'Two_Story_1946_and_Newer',\n",
       "       'One_Story_PUD_1946_and_Newer',\n",
       "       'One_and_Half_Story_Finished_All_Ages', 'Split_Foyer',\n",
       "       'Two_Story_PUD_1946_and_Newer', 'Split_or_Multilevel',\n",
       "       'One_Story_1945_and_Older', 'Duplex_All_Styles_and_Ages',\n",
       "       'Two_Family_conversion_All_Styles_and_Ages',\n",
       "       'One_and_Half_Story_Unfinished_All_Ages',\n",
       "       'Two_Story_1945_and_Older', 'Two_and_Half_Story_All_Ages',\n",
       "       'One_Story_with_Finished_Attic_All_Ages',\n",
       "       'PUD_Multilevel_Split_Level_Foyer',\n",
       "       'One_and_Half_Story_PUD_All_Ages'], dtype=object)"
      ]
     },
     "execution_count": 8,
     "metadata": {},
     "output_type": "execute_result"
    }
   ],
   "source": [
    "df.MSSubClass.unique()"
   ]
  },
  {
   "cell_type": "markdown",
   "id": "6f2e8242",
   "metadata": {
    "papermill": {
     "duration": 0.005138,
     "end_time": "2022-06-29T12:52:05.516726",
     "exception": false,
     "start_time": "2022-06-29T12:52:05.511588",
     "status": "completed"
    },
    "tags": []
   },
   "source": [
    "You can see that there is a more general categorization described (roughly) by the first word of each category. Create a feature containing only these first words by splitting `MSSubClass` at the first underscore `_`. (Hint: In the `split` method use an argument `n=1`.)"
   ]
  },
  {
   "cell_type": "code",
   "execution_count": 9,
   "id": "c8bd0709",
   "metadata": {
    "execution": {
     "iopub.execute_input": "2022-06-29T12:52:05.529839Z",
     "iopub.status.busy": "2022-06-29T12:52:05.529166Z",
     "iopub.status.idle": "2022-06-29T12:52:05.548835Z",
     "shell.execute_reply": "2022-06-29T12:52:05.548008Z"
    },
    "lines_to_next_cell": 0,
    "papermill": {
     "duration": 0.028491,
     "end_time": "2022-06-29T12:52:05.550633",
     "exception": false,
     "start_time": "2022-06-29T12:52:05.522142",
     "status": "completed"
    },
    "tags": []
   },
   "outputs": [
    {
     "data": {
      "application/javascript": [
       "parent.postMessage({\"jupyterEvent\": \"custom.exercise_interaction\", \"data\": {\"outcomeType\": 1, \"valueTowardsCompletion\": 0.2, \"interactionType\": 1, \"questionType\": 2, \"questionId\": \"4_Q4\", \"learnToolsVersion\": \"0.3.4\", \"failureMessage\": \"\", \"exceptionClass\": \"\", \"trace\": \"\"}}, \"*\")"
      ],
      "text/plain": [
       "<IPython.core.display.Javascript object>"
      ]
     },
     "metadata": {},
     "output_type": "display_data"
    },
    {
     "data": {
      "text/markdown": [
       "<span style=\"color:#33cc33\">Correct</span>"
      ],
      "text/plain": [
       "Correct"
      ]
     },
     "metadata": {},
     "output_type": "display_data"
    }
   ],
   "source": [
    "X_4 = pd.DataFrame()\n",
    "\n",
    "# YOUR CODE HERE\n",
    "X_4[\"MSClass\"] = df.MSSubClass.str.split(\"_\", n=1, expand=True)[0]\n",
    "\n",
    "# Check your answer\n",
    "q_4.check()"
   ]
  },
  {
   "cell_type": "code",
   "execution_count": 10,
   "id": "0fc8d5e1",
   "metadata": {
    "execution": {
     "iopub.execute_input": "2022-06-29T12:52:05.563892Z",
     "iopub.status.busy": "2022-06-29T12:52:05.563202Z",
     "iopub.status.idle": "2022-06-29T12:52:05.567250Z",
     "shell.execute_reply": "2022-06-29T12:52:05.566495Z"
    },
    "lines_to_next_cell": 0,
    "papermill": {
     "duration": 0.012572,
     "end_time": "2022-06-29T12:52:05.569097",
     "exception": false,
     "start_time": "2022-06-29T12:52:05.556525",
     "status": "completed"
    },
    "tags": []
   },
   "outputs": [],
   "source": [
    "# Lines below will give you a hint or solution code\n",
    "#q_4.hint()\n",
    "#q_4.solution()"
   ]
  },
  {
   "cell_type": "markdown",
   "id": "6836afff",
   "metadata": {
    "papermill": {
     "duration": 0.005115,
     "end_time": "2022-06-29T12:52:05.579660",
     "exception": false,
     "start_time": "2022-06-29T12:52:05.574545",
     "status": "completed"
    },
    "tags": []
   },
   "source": [
    "# 5) Use a Grouped Transform\n",
    "\n",
    "The value of a home often depends on how it compares to typical homes in its neighborhood. Create a feature `MedNhbdArea` that describes the *median* of `GrLivArea` grouped on `Neighborhood`."
   ]
  },
  {
   "cell_type": "code",
   "execution_count": 11,
   "id": "748b7e77",
   "metadata": {
    "execution": {
     "iopub.execute_input": "2022-06-29T12:52:05.592320Z",
     "iopub.status.busy": "2022-06-29T12:52:05.591650Z",
     "iopub.status.idle": "2022-06-29T12:52:05.608376Z",
     "shell.execute_reply": "2022-06-29T12:52:05.607609Z"
    },
    "lines_to_next_cell": 0,
    "papermill": {
     "duration": 0.025212,
     "end_time": "2022-06-29T12:52:05.610175",
     "exception": false,
     "start_time": "2022-06-29T12:52:05.584963",
     "status": "completed"
    },
    "tags": []
   },
   "outputs": [
    {
     "data": {
      "application/javascript": [
       "parent.postMessage({\"jupyterEvent\": \"custom.exercise_interaction\", \"data\": {\"outcomeType\": 1, \"valueTowardsCompletion\": 0.2, \"interactionType\": 1, \"questionType\": 2, \"questionId\": \"5_Q5\", \"learnToolsVersion\": \"0.3.4\", \"failureMessage\": \"\", \"exceptionClass\": \"\", \"trace\": \"\"}}, \"*\")"
      ],
      "text/plain": [
       "<IPython.core.display.Javascript object>"
      ]
     },
     "metadata": {},
     "output_type": "display_data"
    },
    {
     "data": {
      "text/markdown": [
       "<span style=\"color:#33cc33\">Correct</span>"
      ],
      "text/plain": [
       "Correct"
      ]
     },
     "metadata": {},
     "output_type": "display_data"
    }
   ],
   "source": [
    "X_5 = pd.DataFrame()\n",
    "\n",
    "# YOUR CODE HERE\n",
    "X_5[\"MedNhbdArea\"] = df.groupby(\"Neighborhood\")[\"GrLivArea\"].transform(\"median\")\n",
    "\n",
    "# Check your answer\n",
    "q_5.check()"
   ]
  },
  {
   "cell_type": "code",
   "execution_count": 12,
   "id": "8d69cd64",
   "metadata": {
    "execution": {
     "iopub.execute_input": "2022-06-29T12:52:05.623301Z",
     "iopub.status.busy": "2022-06-29T12:52:05.622605Z",
     "iopub.status.idle": "2022-06-29T12:52:05.626153Z",
     "shell.execute_reply": "2022-06-29T12:52:05.625433Z"
    },
    "lines_to_next_cell": 0,
    "papermill": {
     "duration": 0.012273,
     "end_time": "2022-06-29T12:52:05.628031",
     "exception": false,
     "start_time": "2022-06-29T12:52:05.615758",
     "status": "completed"
    },
    "tags": []
   },
   "outputs": [],
   "source": [
    "# Lines below will give you a hint or solution code\n",
    "#q_5.hint()\n",
    "#q_5.solution()"
   ]
  },
  {
   "cell_type": "markdown",
   "id": "c7c0cab5",
   "metadata": {
    "papermill": {
     "duration": 0.005366,
     "end_time": "2022-06-29T12:52:05.639005",
     "exception": false,
     "start_time": "2022-06-29T12:52:05.633639",
     "status": "completed"
    },
    "tags": []
   },
   "source": [
    "Now you've made your first new feature set! If you like, you can run the cell below to score the model with all of your new features added:"
   ]
  },
  {
   "cell_type": "code",
   "execution_count": 13,
   "id": "d157c97d",
   "metadata": {
    "execution": {
     "iopub.execute_input": "2022-06-29T12:52:05.651817Z",
     "iopub.status.busy": "2022-06-29T12:52:05.651457Z",
     "iopub.status.idle": "2022-06-29T12:52:11.206419Z",
     "shell.execute_reply": "2022-06-29T12:52:11.205629Z"
    },
    "papermill": {
     "duration": 5.564228,
     "end_time": "2022-06-29T12:52:11.208766",
     "exception": false,
     "start_time": "2022-06-29T12:52:05.644538",
     "status": "completed"
    },
    "tags": []
   },
   "outputs": [
    {
     "data": {
      "text/plain": [
       "0.13847331710099203"
      ]
     },
     "execution_count": 13,
     "metadata": {},
     "output_type": "execute_result"
    }
   ],
   "source": [
    "X_new = X.join([X_1, X_2, X_3, X_4, X_5])\n",
    "score_dataset(X_new, y)"
   ]
  },
  {
   "cell_type": "markdown",
   "id": "dc97f723",
   "metadata": {
    "papermill": {
     "duration": 0.005727,
     "end_time": "2022-06-29T12:52:11.220322",
     "exception": false,
     "start_time": "2022-06-29T12:52:11.214595",
     "status": "completed"
    },
    "tags": []
   },
   "source": [
    "# Keep Going #\n",
    "\n",
    "[**Untangle spatial relationships**](https://www.kaggle.com/ryanholbrook/clustering-with-k-means) by adding cluster labels to your dataset."
   ]
  },
  {
   "cell_type": "markdown",
   "id": "77905aa7",
   "metadata": {
    "papermill": {
     "duration": 0.005326,
     "end_time": "2022-06-29T12:52:11.231311",
     "exception": false,
     "start_time": "2022-06-29T12:52:11.225985",
     "status": "completed"
    },
    "tags": []
   },
   "source": [
    "---\n",
    "\n",
    "\n",
    "\n",
    "\n",
    "*Have questions or comments? Visit the [course discussion forum](https://www.kaggle.com/learn/feature-engineering/discussion) to chat with other learners.*"
   ]
  }
 ],
 "metadata": {
  "kernelspec": {
   "display_name": "Python 3",
   "language": "python",
   "name": "python3"
  },
  "language_info": {
   "codemirror_mode": {
    "name": "ipython",
    "version": 3
   },
   "file_extension": ".py",
   "mimetype": "text/x-python",
   "name": "python",
   "nbconvert_exporter": "python",
   "pygments_lexer": "ipython3",
   "version": "3.7.12"
  },
  "papermill": {
   "default_parameters": {},
   "duration": 17.293855,
   "end_time": "2022-06-29T12:52:11.958390",
   "environment_variables": {},
   "exception": null,
   "input_path": "__notebook__.ipynb",
   "output_path": "__notebook__.ipynb",
   "parameters": {},
   "start_time": "2022-06-29T12:51:54.664535",
   "version": "2.3.4"
  }
 },
 "nbformat": 4,
 "nbformat_minor": 5
}
