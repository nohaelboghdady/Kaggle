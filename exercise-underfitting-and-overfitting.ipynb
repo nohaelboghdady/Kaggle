{
 "cells": [
  {
   "cell_type": "markdown",
   "id": "d77a8732",
   "metadata": {
    "papermill": {
     "duration": 0.00479,
     "end_time": "2022-06-25T23:59:41.892420",
     "exception": false,
     "start_time": "2022-06-25T23:59:41.887630",
     "status": "completed"
    },
    "tags": []
   },
   "source": [
    "**This notebook is an exercise in the [Introduction to Machine Learning](https://www.kaggle.com/learn/intro-to-machine-learning) course.  You can reference the tutorial at [this link](https://www.kaggle.com/dansbecker/underfitting-and-overfitting).**\n",
    "\n",
    "---\n"
   ]
  },
  {
   "cell_type": "markdown",
   "id": "4e1a0dc2",
   "metadata": {
    "papermill": {
     "duration": 0.003376,
     "end_time": "2022-06-25T23:59:41.899706",
     "exception": false,
     "start_time": "2022-06-25T23:59:41.896330",
     "status": "completed"
    },
    "tags": []
   },
   "source": [
    "## Recap\n",
    "You've built your first model, and now it's time to optimize the size of the tree to make better predictions. Run this cell to set up your coding environment where the previous step left off."
   ]
  },
  {
   "cell_type": "code",
   "execution_count": 1,
   "id": "4da2c49e",
   "metadata": {
    "execution": {
     "iopub.execute_input": "2022-06-25T23:59:41.908770Z",
     "iopub.status.busy": "2022-06-25T23:59:41.908316Z",
     "iopub.status.idle": "2022-06-25T23:59:43.232111Z",
     "shell.execute_reply": "2022-06-25T23:59:43.230947Z"
    },
    "papermill": {
     "duration": 1.332432,
     "end_time": "2022-06-25T23:59:43.235741",
     "exception": false,
     "start_time": "2022-06-25T23:59:41.903309",
     "status": "completed"
    },
    "tags": []
   },
   "outputs": [
    {
     "name": "stdout",
     "output_type": "stream",
     "text": [
      "Validation MAE: 29,653\n",
      "\n",
      "Setup complete\n"
     ]
    }
   ],
   "source": [
    "# Code you have previously used to load data\n",
    "import pandas as pd\n",
    "from sklearn.metrics import mean_absolute_error\n",
    "from sklearn.model_selection import train_test_split\n",
    "from sklearn.tree import DecisionTreeRegressor\n",
    "\n",
    "\n",
    "# Path of the file to read\n",
    "iowa_file_path = '../input/home-data-for-ml-course/train.csv'\n",
    "\n",
    "home_data = pd.read_csv(iowa_file_path)\n",
    "# Create target object and call it y\n",
    "y = home_data.SalePrice\n",
    "# Create X\n",
    "features = ['LotArea', 'YearBuilt', '1stFlrSF', '2ndFlrSF', 'FullBath', 'BedroomAbvGr', 'TotRmsAbvGrd']\n",
    "X = home_data[features]\n",
    "\n",
    "# Split into validation and training data\n",
    "train_X, val_X, train_y, val_y = train_test_split(X, y, random_state=1)\n",
    "\n",
    "# Specify Model\n",
    "iowa_model = DecisionTreeRegressor(random_state=1)\n",
    "# Fit Model\n",
    "iowa_model.fit(train_X, train_y)\n",
    "\n",
    "# Make validation predictions and calculate mean absolute error\n",
    "val_predictions = iowa_model.predict(val_X)\n",
    "val_mae = mean_absolute_error(val_predictions, val_y)\n",
    "print(\"Validation MAE: {:,.0f}\".format(val_mae))\n",
    "\n",
    "# Set up code checking\n",
    "from learntools.core import binder\n",
    "binder.bind(globals())\n",
    "from learntools.machine_learning.ex5 import *\n",
    "print(\"\\nSetup complete\")"
   ]
  },
  {
   "cell_type": "markdown",
   "id": "760bcd02",
   "metadata": {
    "papermill": {
     "duration": 0.003649,
     "end_time": "2022-06-25T23:59:43.244051",
     "exception": false,
     "start_time": "2022-06-25T23:59:43.240402",
     "status": "completed"
    },
    "tags": []
   },
   "source": [
    "# Exercises\n",
    "You could write the function `get_mae` yourself. For now, we'll supply it. This is the same function you read about in the previous lesson. Just run the cell below."
   ]
  },
  {
   "cell_type": "code",
   "execution_count": 2,
   "id": "53dc4051",
   "metadata": {
    "execution": {
     "iopub.execute_input": "2022-06-25T23:59:43.253288Z",
     "iopub.status.busy": "2022-06-25T23:59:43.252902Z",
     "iopub.status.idle": "2022-06-25T23:59:43.258127Z",
     "shell.execute_reply": "2022-06-25T23:59:43.257378Z"
    },
    "papermill": {
     "duration": 0.012514,
     "end_time": "2022-06-25T23:59:43.260247",
     "exception": false,
     "start_time": "2022-06-25T23:59:43.247733",
     "status": "completed"
    },
    "tags": []
   },
   "outputs": [],
   "source": [
    "def get_mae(max_leaf_nodes, train_X, val_X, train_y, val_y):\n",
    "    model = DecisionTreeRegressor(max_leaf_nodes=max_leaf_nodes, random_state=0)\n",
    "    model.fit(train_X, train_y)\n",
    "    preds_val = model.predict(val_X)\n",
    "    mae = mean_absolute_error(val_y, preds_val)\n",
    "    return(mae)"
   ]
  },
  {
   "cell_type": "markdown",
   "id": "6b751320",
   "metadata": {
    "papermill": {
     "duration": 0.003512,
     "end_time": "2022-06-25T23:59:43.267479",
     "exception": false,
     "start_time": "2022-06-25T23:59:43.263967",
     "status": "completed"
    },
    "tags": []
   },
   "source": [
    "## Step 1: Compare Different Tree Sizes\n",
    "Write a loop that tries the following values for *max_leaf_nodes* from a set of possible values.\n",
    "\n",
    "Call the *get_mae* function on each value of max_leaf_nodes. Store the output in some way that allows you to select the value of `max_leaf_nodes` that gives the most accurate model on your data."
   ]
  },
  {
   "cell_type": "code",
   "execution_count": 3,
   "id": "758c7c09",
   "metadata": {
    "execution": {
     "iopub.execute_input": "2022-06-25T23:59:43.277176Z",
     "iopub.status.busy": "2022-06-25T23:59:43.276469Z",
     "iopub.status.idle": "2022-06-25T23:59:43.326754Z",
     "shell.execute_reply": "2022-06-25T23:59:43.325383Z"
    },
    "papermill": {
     "duration": 0.057924,
     "end_time": "2022-06-25T23:59:43.329013",
     "exception": false,
     "start_time": "2022-06-25T23:59:43.271089",
     "status": "completed"
    },
    "tags": []
   },
   "outputs": [
    {
     "name": "stdout",
     "output_type": "stream",
     "text": [
      "Max leaf nodes: 5  \t\t Mean Absolute Error:  35044\n",
      "Max leaf nodes: 25  \t\t Mean Absolute Error:  29016\n",
      "Max leaf nodes: 50  \t\t Mean Absolute Error:  27405\n",
      "Max leaf nodes: 100  \t\t Mean Absolute Error:  27282\n",
      "Max leaf nodes: 250  \t\t Mean Absolute Error:  27893\n",
      "Max leaf nodes: 500  \t\t Mean Absolute Error:  29454\n"
     ]
    },
    {
     "data": {
      "application/javascript": [
       "parent.postMessage({\"jupyterEvent\": \"custom.exercise_interaction\", \"data\": {\"outcomeType\": 1, \"valueTowardsCompletion\": 0.5, \"interactionType\": 1, \"questionType\": 1, \"questionId\": \"1_BestTreeSize\", \"learnToolsVersion\": \"0.3.4\", \"failureMessage\": \"\", \"exceptionClass\": \"\", \"trace\": \"\"}}, \"*\")"
      ],
      "text/plain": [
       "<IPython.core.display.Javascript object>"
      ]
     },
     "metadata": {},
     "output_type": "display_data"
    },
    {
     "data": {
      "text/markdown": [
       "<span style=\"color:#33cc33\">Correct</span>"
      ],
      "text/plain": [
       "Correct"
      ]
     },
     "metadata": {},
     "output_type": "display_data"
    }
   ],
   "source": [
    "candidate_max_leaf_nodes = [5, 25, 50, 100, 250, 500]\n",
    "# Write loop to find the ideal tree size from candidate_max_leaf_nodes\n",
    "for max_leaf_nodes in [5, 25, 50, 100, 250, 500]:\n",
    "    my_mae = get_mae(max_leaf_nodes, train_X, val_X, train_y, val_y)\n",
    "    print(\"Max leaf nodes: %d  \\t\\t Mean Absolute Error:  %d\" %(max_leaf_nodes, my_mae))\n",
    "\n",
    "# Store the best value of max_leaf_nodes (it will be either 5, 25, 50, 100, 250 or 500)\n",
    "best_tree_size = 100\n",
    "\n",
    "# Check your answer\n",
    "step_1.check()"
   ]
  },
  {
   "cell_type": "code",
   "execution_count": 4,
   "id": "9165981c",
   "metadata": {
    "execution": {
     "iopub.execute_input": "2022-06-25T23:59:43.338867Z",
     "iopub.status.busy": "2022-06-25T23:59:43.338481Z",
     "iopub.status.idle": "2022-06-25T23:59:43.342156Z",
     "shell.execute_reply": "2022-06-25T23:59:43.341379Z"
    },
    "papermill": {
     "duration": 0.010717,
     "end_time": "2022-06-25T23:59:43.344018",
     "exception": false,
     "start_time": "2022-06-25T23:59:43.333301",
     "status": "completed"
    },
    "tags": []
   },
   "outputs": [],
   "source": [
    "# The lines below will show you a hint or the solution.\n",
    "# step_1.hint() \n",
    "# step_1.solution()"
   ]
  },
  {
   "cell_type": "markdown",
   "id": "a66c4aed",
   "metadata": {
    "papermill": {
     "duration": 0.003855,
     "end_time": "2022-06-25T23:59:43.352188",
     "exception": false,
     "start_time": "2022-06-25T23:59:43.348333",
     "status": "completed"
    },
    "tags": []
   },
   "source": [
    "## Step 2: Fit Model Using All Data\n",
    "You know the best tree size. If you were going to deploy this model in practice, you would make it even more accurate by using all of the data and keeping that tree size.  That is, you don't need to hold out the validation data now that you've made all your modeling decisions."
   ]
  },
  {
   "cell_type": "code",
   "execution_count": 5,
   "id": "445af283",
   "metadata": {
    "execution": {
     "iopub.execute_input": "2022-06-25T23:59:43.362113Z",
     "iopub.status.busy": "2022-06-25T23:59:43.361544Z",
     "iopub.status.idle": "2022-06-25T23:59:43.376958Z",
     "shell.execute_reply": "2022-06-25T23:59:43.376198Z"
    },
    "papermill": {
     "duration": 0.02259,
     "end_time": "2022-06-25T23:59:43.378845",
     "exception": false,
     "start_time": "2022-06-25T23:59:43.356255",
     "status": "completed"
    },
    "tags": []
   },
   "outputs": [
    {
     "data": {
      "application/javascript": [
       "parent.postMessage({\"jupyterEvent\": \"custom.exercise_interaction\", \"data\": {\"outcomeType\": 1, \"valueTowardsCompletion\": 0.5, \"interactionType\": 1, \"questionType\": 2, \"questionId\": \"2_FitModelWithAllData\", \"learnToolsVersion\": \"0.3.4\", \"failureMessage\": \"\", \"exceptionClass\": \"\", \"trace\": \"\"}}, \"*\")"
      ],
      "text/plain": [
       "<IPython.core.display.Javascript object>"
      ]
     },
     "metadata": {},
     "output_type": "display_data"
    },
    {
     "data": {
      "text/markdown": [
       "<span style=\"color:#33cc33\">Correct</span>"
      ],
      "text/plain": [
       "Correct"
      ]
     },
     "metadata": {},
     "output_type": "display_data"
    }
   ],
   "source": [
    "# Fill in argument to make optimal size and uncomment\n",
    "final_model = DecisionTreeRegressor(max_leaf_nodes=100, random_state=1)\n",
    "\n",
    "# fit the final model and uncomment the next two lines\n",
    "final_model.fit(X,y)\n",
    "\n",
    "# Check your answer\n",
    "step_2.check()"
   ]
  },
  {
   "cell_type": "code",
   "execution_count": 6,
   "id": "0ff99755",
   "metadata": {
    "execution": {
     "iopub.execute_input": "2022-06-25T23:59:43.389443Z",
     "iopub.status.busy": "2022-06-25T23:59:43.388842Z",
     "iopub.status.idle": "2022-06-25T23:59:43.392444Z",
     "shell.execute_reply": "2022-06-25T23:59:43.391575Z"
    },
    "papermill": {
     "duration": 0.011044,
     "end_time": "2022-06-25T23:59:43.394318",
     "exception": false,
     "start_time": "2022-06-25T23:59:43.383274",
     "status": "completed"
    },
    "tags": []
   },
   "outputs": [],
   "source": [
    "# step_2.hint()\n",
    "# step_2.solution()"
   ]
  },
  {
   "cell_type": "markdown",
   "id": "94d7c6c5",
   "metadata": {
    "papermill": {
     "duration": 0.004176,
     "end_time": "2022-06-25T23:59:43.402763",
     "exception": false,
     "start_time": "2022-06-25T23:59:43.398587",
     "status": "completed"
    },
    "tags": []
   },
   "source": [
    "You've tuned this model and improved your results. But we are still using Decision Tree models, which are not very sophisticated by modern machine learning standards. In the next step you will learn to use Random Forests to improve your models even more.\n",
    "\n",
    "# Keep Going\n",
    "\n",
    "You are ready for **[Random Forests](https://www.kaggle.com/dansbecker/random-forests).**\n"
   ]
  },
  {
   "cell_type": "markdown",
   "id": "22672195",
   "metadata": {
    "papermill": {
     "duration": 0.004028,
     "end_time": "2022-06-25T23:59:43.411126",
     "exception": false,
     "start_time": "2022-06-25T23:59:43.407098",
     "status": "completed"
    },
    "tags": []
   },
   "source": [
    "---\n",
    "\n",
    "\n",
    "\n",
    "\n",
    "*Have questions or comments? Visit the [course discussion forum](https://www.kaggle.com/learn/intro-to-machine-learning/discussion) to chat with other learners.*"
   ]
  }
 ],
 "metadata": {
  "kernelspec": {
   "display_name": "Python 3",
   "language": "python",
   "name": "python3"
  },
  "language_info": {
   "codemirror_mode": {
    "name": "ipython",
    "version": 3
   },
   "file_extension": ".py",
   "mimetype": "text/x-python",
   "name": "python",
   "nbconvert_exporter": "python",
   "pygments_lexer": "ipython3",
   "version": "3.7.12"
  },
  "papermill": {
   "default_parameters": {},
   "duration": 11.831972,
   "end_time": "2022-06-25T23:59:44.138548",
   "environment_variables": {},
   "exception": null,
   "input_path": "__notebook__.ipynb",
   "output_path": "__notebook__.ipynb",
   "parameters": {},
   "start_time": "2022-06-25T23:59:32.306576",
   "version": "2.3.4"
  }
 },
 "nbformat": 4,
 "nbformat_minor": 5
}
