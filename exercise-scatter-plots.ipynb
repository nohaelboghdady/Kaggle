{
 "cells": [
  {
   "cell_type": "markdown",
   "id": "f124fdab",
   "metadata": {
    "papermill": {
     "duration": 0.008578,
     "end_time": "2022-06-23T21:31:46.255433",
     "exception": false,
     "start_time": "2022-06-23T21:31:46.246855",
     "status": "completed"
    },
    "tags": []
   },
   "source": [
    "**This notebook is an exercise in the [Data Visualization](https://www.kaggle.com/learn/data-visualization) course.  You can reference the tutorial at [this link](https://www.kaggle.com/alexisbcook/scatter-plots).**\n",
    "\n",
    "---\n"
   ]
  },
  {
   "cell_type": "markdown",
   "id": "34a3d3c0",
   "metadata": {
    "papermill": {
     "duration": 0.007486,
     "end_time": "2022-06-23T21:31:46.270805",
     "exception": false,
     "start_time": "2022-06-23T21:31:46.263319",
     "status": "completed"
    },
    "tags": []
   },
   "source": [
    "In this exercise, you will use your new knowledge to propose a solution to a real-world scenario.  To succeed, you will need to import data into Python, answer questions using the data, and generate **scatter plots** to understand patterns in the data.\n",
    "\n",
    "## Scenario\n",
    "\n",
    "You work for a major candy producer, and your goal is to write a report that your company can use to guide the design of its next product.  Soon after starting your research, you stumble across this [very interesting dataset](https://fivethirtyeight.com/features/the-ultimate-halloween-candy-power-ranking/) containing results from a fun survey to crowdsource favorite candies.\n",
    "\n",
    "## Setup\n",
    "\n",
    "Run the next cell to import and configure the Python libraries that you need to complete the exercise."
   ]
  },
  {
   "cell_type": "code",
   "execution_count": 1,
   "id": "136a30ea",
   "metadata": {
    "execution": {
     "iopub.execute_input": "2022-06-23T21:31:46.287891Z",
     "iopub.status.busy": "2022-06-23T21:31:46.287155Z",
     "iopub.status.idle": "2022-06-23T21:31:47.193109Z",
     "shell.execute_reply": "2022-06-23T21:31:47.192035Z"
    },
    "papermill": {
     "duration": 0.91766,
     "end_time": "2022-06-23T21:31:47.195776",
     "exception": false,
     "start_time": "2022-06-23T21:31:46.278116",
     "status": "completed"
    },
    "tags": []
   },
   "outputs": [
    {
     "name": "stdout",
     "output_type": "stream",
     "text": [
      "Setup Complete\n"
     ]
    }
   ],
   "source": [
    "import pandas as pd\n",
    "pd.plotting.register_matplotlib_converters()\n",
    "import matplotlib.pyplot as plt\n",
    "%matplotlib inline\n",
    "import seaborn as sns\n",
    "print(\"Setup Complete\")"
   ]
  },
  {
   "cell_type": "markdown",
   "id": "1571d613",
   "metadata": {
    "papermill": {
     "duration": 0.007481,
     "end_time": "2022-06-23T21:31:47.210799",
     "exception": false,
     "start_time": "2022-06-23T21:31:47.203318",
     "status": "completed"
    },
    "tags": []
   },
   "source": [
    "The questions below will give you feedback on your work. Run the following cell to set up our feedback system."
   ]
  },
  {
   "cell_type": "code",
   "execution_count": 2,
   "id": "949fdbca",
   "metadata": {
    "execution": {
     "iopub.execute_input": "2022-06-23T21:31:47.228345Z",
     "iopub.status.busy": "2022-06-23T21:31:47.227815Z",
     "iopub.status.idle": "2022-06-23T21:31:47.288250Z",
     "shell.execute_reply": "2022-06-23T21:31:47.287525Z"
    },
    "papermill": {
     "duration": 0.071916,
     "end_time": "2022-06-23T21:31:47.290155",
     "exception": false,
     "start_time": "2022-06-23T21:31:47.218239",
     "status": "completed"
    },
    "tags": []
   },
   "outputs": [
    {
     "name": "stdout",
     "output_type": "stream",
     "text": [
      "Setup Complete\n"
     ]
    }
   ],
   "source": [
    "# Set up code checking\n",
    "import os\n",
    "if not os.path.exists(\"../input/candy.csv\"):\n",
    "    os.symlink(\"../input/data-for-datavis/candy.csv\", \"../input/candy.csv\") \n",
    "from learntools.core import binder\n",
    "binder.bind(globals())\n",
    "from learntools.data_viz_to_coder.ex4 import *\n",
    "print(\"Setup Complete\")"
   ]
  },
  {
   "cell_type": "markdown",
   "id": "22e14a95",
   "metadata": {
    "papermill": {
     "duration": 0.007174,
     "end_time": "2022-06-23T21:31:47.304796",
     "exception": false,
     "start_time": "2022-06-23T21:31:47.297622",
     "status": "completed"
    },
    "tags": []
   },
   "source": [
    "## Step 1: Load the Data\n",
    "\n",
    "Read the candy data file into `candy_data`.  Use the `\"id\"` column to label the rows."
   ]
  },
  {
   "cell_type": "code",
   "execution_count": 3,
   "id": "a915e327",
   "metadata": {
    "execution": {
     "iopub.execute_input": "2022-06-23T21:31:47.321096Z",
     "iopub.status.busy": "2022-06-23T21:31:47.320431Z",
     "iopub.status.idle": "2022-06-23T21:31:47.333306Z",
     "shell.execute_reply": "2022-06-23T21:31:47.332611Z"
    },
    "papermill": {
     "duration": 0.023054,
     "end_time": "2022-06-23T21:31:47.335049",
     "exception": false,
     "start_time": "2022-06-23T21:31:47.311995",
     "status": "completed"
    },
    "tags": []
   },
   "outputs": [
    {
     "data": {
      "application/javascript": [
       "parent.postMessage({\"jupyterEvent\": \"custom.exercise_interaction\", \"data\": {\"outcomeType\": 1, \"valueTowardsCompletion\": 0.3333333333333333, \"interactionType\": 1, \"questionType\": 1, \"questionId\": \"1_LoadData\", \"learnToolsVersion\": \"0.3.4\", \"failureMessage\": \"\", \"exceptionClass\": \"\", \"trace\": \"\"}}, \"*\")"
      ],
      "text/plain": [
       "<IPython.core.display.Javascript object>"
      ]
     },
     "metadata": {},
     "output_type": "display_data"
    },
    {
     "data": {
      "text/markdown": [
       "<span style=\"color:#33cc33\">Correct</span>"
      ],
      "text/plain": [
       "Correct"
      ]
     },
     "metadata": {},
     "output_type": "display_data"
    }
   ],
   "source": [
    "# Path of the file to read\n",
    "candy_filepath = \"../input/candy.csv\"\n",
    "\n",
    "# Fill in the line below to read the file into a variable candy_data\n",
    "candy_data = pd.read_csv(candy_filepath, index_col=\"id\")\n",
    "\n",
    "# Run the line below with no changes to check that you've loaded the data correctly\n",
    "step_1.check()"
   ]
  },
  {
   "cell_type": "code",
   "execution_count": 4,
   "id": "a861ba7e",
   "metadata": {
    "execution": {
     "iopub.execute_input": "2022-06-23T21:31:47.351937Z",
     "iopub.status.busy": "2022-06-23T21:31:47.351292Z",
     "iopub.status.idle": "2022-06-23T21:31:47.354714Z",
     "shell.execute_reply": "2022-06-23T21:31:47.354035Z"
    },
    "papermill": {
     "duration": 0.013843,
     "end_time": "2022-06-23T21:31:47.356458",
     "exception": false,
     "start_time": "2022-06-23T21:31:47.342615",
     "status": "completed"
    },
    "tags": []
   },
   "outputs": [],
   "source": [
    "# Lines below will give you a hint or solution code\n",
    "#step_1.hint()\n",
    "#step_1.solution()"
   ]
  },
  {
   "cell_type": "markdown",
   "id": "476ff932",
   "metadata": {
    "papermill": {
     "duration": 0.007638,
     "end_time": "2022-06-23T21:31:47.371659",
     "exception": false,
     "start_time": "2022-06-23T21:31:47.364021",
     "status": "completed"
    },
    "tags": []
   },
   "source": [
    "## Step 2: Review the data\n",
    "\n",
    "Use a Python command to print the first five rows of the data."
   ]
  },
  {
   "cell_type": "code",
   "execution_count": 5,
   "id": "08a27890",
   "metadata": {
    "execution": {
     "iopub.execute_input": "2022-06-23T21:31:47.390295Z",
     "iopub.status.busy": "2022-06-23T21:31:47.389607Z",
     "iopub.status.idle": "2022-06-23T21:31:47.409607Z",
     "shell.execute_reply": "2022-06-23T21:31:47.408694Z"
    },
    "papermill": {
     "duration": 0.031111,
     "end_time": "2022-06-23T21:31:47.411574",
     "exception": false,
     "start_time": "2022-06-23T21:31:47.380463",
     "status": "completed"
    },
    "tags": []
   },
   "outputs": [
    {
     "data": {
      "text/html": [
       "<div>\n",
       "<style scoped>\n",
       "    .dataframe tbody tr th:only-of-type {\n",
       "        vertical-align: middle;\n",
       "    }\n",
       "\n",
       "    .dataframe tbody tr th {\n",
       "        vertical-align: top;\n",
       "    }\n",
       "\n",
       "    .dataframe thead th {\n",
       "        text-align: right;\n",
       "    }\n",
       "</style>\n",
       "<table border=\"1\" class=\"dataframe\">\n",
       "  <thead>\n",
       "    <tr style=\"text-align: right;\">\n",
       "      <th></th>\n",
       "      <th>competitorname</th>\n",
       "      <th>chocolate</th>\n",
       "      <th>fruity</th>\n",
       "      <th>caramel</th>\n",
       "      <th>peanutyalmondy</th>\n",
       "      <th>nougat</th>\n",
       "      <th>crispedricewafer</th>\n",
       "      <th>hard</th>\n",
       "      <th>bar</th>\n",
       "      <th>pluribus</th>\n",
       "      <th>sugarpercent</th>\n",
       "      <th>pricepercent</th>\n",
       "      <th>winpercent</th>\n",
       "    </tr>\n",
       "    <tr>\n",
       "      <th>id</th>\n",
       "      <th></th>\n",
       "      <th></th>\n",
       "      <th></th>\n",
       "      <th></th>\n",
       "      <th></th>\n",
       "      <th></th>\n",
       "      <th></th>\n",
       "      <th></th>\n",
       "      <th></th>\n",
       "      <th></th>\n",
       "      <th></th>\n",
       "      <th></th>\n",
       "      <th></th>\n",
       "    </tr>\n",
       "  </thead>\n",
       "  <tbody>\n",
       "    <tr>\n",
       "      <th>0</th>\n",
       "      <td>100 Grand</td>\n",
       "      <td>Yes</td>\n",
       "      <td>No</td>\n",
       "      <td>Yes</td>\n",
       "      <td>No</td>\n",
       "      <td>No</td>\n",
       "      <td>Yes</td>\n",
       "      <td>No</td>\n",
       "      <td>Yes</td>\n",
       "      <td>No</td>\n",
       "      <td>0.732</td>\n",
       "      <td>0.860</td>\n",
       "      <td>66.971725</td>\n",
       "    </tr>\n",
       "    <tr>\n",
       "      <th>1</th>\n",
       "      <td>3 Musketeers</td>\n",
       "      <td>Yes</td>\n",
       "      <td>No</td>\n",
       "      <td>No</td>\n",
       "      <td>No</td>\n",
       "      <td>Yes</td>\n",
       "      <td>No</td>\n",
       "      <td>No</td>\n",
       "      <td>Yes</td>\n",
       "      <td>No</td>\n",
       "      <td>0.604</td>\n",
       "      <td>0.511</td>\n",
       "      <td>67.602936</td>\n",
       "    </tr>\n",
       "    <tr>\n",
       "      <th>2</th>\n",
       "      <td>Air Heads</td>\n",
       "      <td>No</td>\n",
       "      <td>Yes</td>\n",
       "      <td>No</td>\n",
       "      <td>No</td>\n",
       "      <td>No</td>\n",
       "      <td>No</td>\n",
       "      <td>No</td>\n",
       "      <td>No</td>\n",
       "      <td>No</td>\n",
       "      <td>0.906</td>\n",
       "      <td>0.511</td>\n",
       "      <td>52.341465</td>\n",
       "    </tr>\n",
       "    <tr>\n",
       "      <th>3</th>\n",
       "      <td>Almond Joy</td>\n",
       "      <td>Yes</td>\n",
       "      <td>No</td>\n",
       "      <td>No</td>\n",
       "      <td>Yes</td>\n",
       "      <td>No</td>\n",
       "      <td>No</td>\n",
       "      <td>No</td>\n",
       "      <td>Yes</td>\n",
       "      <td>No</td>\n",
       "      <td>0.465</td>\n",
       "      <td>0.767</td>\n",
       "      <td>50.347546</td>\n",
       "    </tr>\n",
       "    <tr>\n",
       "      <th>4</th>\n",
       "      <td>Baby Ruth</td>\n",
       "      <td>Yes</td>\n",
       "      <td>No</td>\n",
       "      <td>Yes</td>\n",
       "      <td>Yes</td>\n",
       "      <td>Yes</td>\n",
       "      <td>No</td>\n",
       "      <td>No</td>\n",
       "      <td>Yes</td>\n",
       "      <td>No</td>\n",
       "      <td>0.604</td>\n",
       "      <td>0.767</td>\n",
       "      <td>56.914547</td>\n",
       "    </tr>\n",
       "  </tbody>\n",
       "</table>\n",
       "</div>"
      ],
      "text/plain": [
       "   competitorname chocolate fruity caramel peanutyalmondy nougat  \\\n",
       "id                                                                 \n",
       "0       100 Grand       Yes     No     Yes             No     No   \n",
       "1    3 Musketeers       Yes     No      No             No    Yes   \n",
       "2       Air Heads        No    Yes      No             No     No   \n",
       "3      Almond Joy       Yes     No      No            Yes     No   \n",
       "4       Baby Ruth       Yes     No     Yes            Yes    Yes   \n",
       "\n",
       "   crispedricewafer hard  bar pluribus  sugarpercent  pricepercent  winpercent  \n",
       "id                                                                              \n",
       "0               Yes   No  Yes       No         0.732         0.860   66.971725  \n",
       "1                No   No  Yes       No         0.604         0.511   67.602936  \n",
       "2                No   No   No       No         0.906         0.511   52.341465  \n",
       "3                No   No  Yes       No         0.465         0.767   50.347546  \n",
       "4                No   No  Yes       No         0.604         0.767   56.914547  "
      ]
     },
     "execution_count": 5,
     "metadata": {},
     "output_type": "execute_result"
    }
   ],
   "source": [
    "# Print the first five rows of the data\n",
    "candy_data.head() # Your code here"
   ]
  },
  {
   "cell_type": "markdown",
   "id": "50cef677",
   "metadata": {
    "papermill": {
     "duration": 0.007579,
     "end_time": "2022-06-23T21:31:47.427078",
     "exception": false,
     "start_time": "2022-06-23T21:31:47.419499",
     "status": "completed"
    },
    "tags": []
   },
   "source": [
    "The dataset contains 83 rows, where each corresponds to a different candy bar.  There are 13 columns:\n",
    "- `'competitorname'` contains the name of the candy bar. \n",
    "- the next **9** columns (from `'chocolate'` to `'pluribus'`) describe the candy.  For instance, rows with chocolate candies have `\"Yes\"` in the `'chocolate'` column (and candies without chocolate have `\"No\"` in the same column).\n",
    "- `'sugarpercent'` provides some indication of the amount of sugar, where higher values signify higher sugar content.\n",
    "- `'pricepercent'` shows the price per unit, relative to the other candies in the dataset.\n",
    "- `'winpercent'` is calculated from the survey results; higher values indicate that the candy was more popular with survey respondents.\n",
    "\n",
    "Use the first five rows of the data to answer the questions below."
   ]
  },
  {
   "cell_type": "code",
   "execution_count": 6,
   "id": "7b9dbd57",
   "metadata": {
    "execution": {
     "iopub.execute_input": "2022-06-23T21:31:47.450273Z",
     "iopub.status.busy": "2022-06-23T21:31:47.449653Z",
     "iopub.status.idle": "2022-06-23T21:31:47.460303Z",
     "shell.execute_reply": "2022-06-23T21:31:47.459320Z"
    },
    "papermill": {
     "duration": 0.02455,
     "end_time": "2022-06-23T21:31:47.462500",
     "exception": false,
     "start_time": "2022-06-23T21:31:47.437950",
     "status": "completed"
    },
    "tags": []
   },
   "outputs": [
    {
     "data": {
      "application/javascript": [
       "parent.postMessage({\"jupyterEvent\": \"custom.exercise_interaction\", \"data\": {\"outcomeType\": 1, \"valueTowardsCompletion\": 0.3333333333333333, \"interactionType\": 1, \"questionType\": 1, \"questionId\": \"2_ReviewData\", \"learnToolsVersion\": \"0.3.4\", \"failureMessage\": \"\", \"exceptionClass\": \"\", \"trace\": \"\"}}, \"*\")"
      ],
      "text/plain": [
       "<IPython.core.display.Javascript object>"
      ]
     },
     "metadata": {},
     "output_type": "display_data"
    },
    {
     "data": {
      "text/markdown": [
       "<span style=\"color:#33cc33\">Correct</span>"
      ],
      "text/plain": [
       "Correct"
      ]
     },
     "metadata": {},
     "output_type": "display_data"
    }
   ],
   "source": [
    "# Fill in the line below: Which candy was more popular with survey respondents:\n",
    "# '3 Musketeers' or 'Almond Joy'?  (Please enclose your answer in single quotes.)\n",
    "more_popular = '3 Musketeers'\n",
    "\n",
    "# Fill in the line below: Which candy has higher sugar content: 'Air Heads'\n",
    "# or 'Baby Ruth'? (Please enclose your answer in single quotes.)\n",
    "more_sugar = 'Air Heads'\n",
    "\n",
    "# Check your answers\n",
    "step_2.check()"
   ]
  },
  {
   "cell_type": "code",
   "execution_count": 7,
   "id": "c9fda2ce",
   "metadata": {
    "execution": {
     "iopub.execute_input": "2022-06-23T21:31:47.482466Z",
     "iopub.status.busy": "2022-06-23T21:31:47.481785Z",
     "iopub.status.idle": "2022-06-23T21:31:47.487133Z",
     "shell.execute_reply": "2022-06-23T21:31:47.485648Z"
    },
    "papermill": {
     "duration": 0.019982,
     "end_time": "2022-06-23T21:31:47.490998",
     "exception": false,
     "start_time": "2022-06-23T21:31:47.471016",
     "status": "completed"
    },
    "tags": []
   },
   "outputs": [],
   "source": [
    "# Lines below will give you a hint or solution code\n",
    "#step_2.hint()\n",
    "#step_2.solution()"
   ]
  },
  {
   "cell_type": "markdown",
   "id": "43669912",
   "metadata": {
    "papermill": {
     "duration": 0.009244,
     "end_time": "2022-06-23T21:31:47.511942",
     "exception": false,
     "start_time": "2022-06-23T21:31:47.502698",
     "status": "completed"
    },
    "tags": []
   },
   "source": [
    "## Step 3: The role of sugar\n",
    "\n",
    "Do people tend to prefer candies with higher sugar content?  \n",
    "\n",
    "#### Part A\n",
    "\n",
    "Create a scatter plot that shows the relationship between `'sugarpercent'` (on the horizontal x-axis) and `'winpercent'` (on the vertical y-axis).  _Don't add a regression line just yet -- you'll do that in the next step!_"
   ]
  },
  {
   "cell_type": "code",
   "execution_count": 8,
   "id": "6e334b2e",
   "metadata": {
    "execution": {
     "iopub.execute_input": "2022-06-23T21:31:47.533928Z",
     "iopub.status.busy": "2022-06-23T21:31:47.533202Z",
     "iopub.status.idle": "2022-06-23T21:31:47.761419Z",
     "shell.execute_reply": "2022-06-23T21:31:47.760396Z"
    },
    "papermill": {
     "duration": 0.242961,
     "end_time": "2022-06-23T21:31:47.763833",
     "exception": false,
     "start_time": "2022-06-23T21:31:47.520872",
     "status": "completed"
    },
    "tags": []
   },
   "outputs": [
    {
     "data": {
      "application/javascript": [
       "parent.postMessage({\"jupyterEvent\": \"custom.exercise_interaction\", \"data\": {\"outcomeType\": 1, \"valueTowardsCompletion\": 0.3333333333333333, \"interactionType\": 1, \"questionType\": 2, \"questionId\": \"3.1_PlotBlueScatter\", \"learnToolsVersion\": \"0.3.4\", \"failureMessage\": \"\", \"exceptionClass\": \"\", \"trace\": \"\"}}, \"*\")"
      ],
      "text/plain": [
       "<IPython.core.display.Javascript object>"
      ]
     },
     "metadata": {},
     "output_type": "display_data"
    },
    {
     "data": {
      "text/markdown": [
       "<span style=\"color:#33cc33\">Correct</span>"
      ],
      "text/plain": [
       "Correct"
      ]
     },
     "metadata": {},
     "output_type": "display_data"
    },
    {
     "data": {
      "image/png": "[encoded data removed]",
      "text/plain": [
       "<Figure size 432x288 with 1 Axes>"
      ]
     },
     "metadata": {
      "needs_background": "light"
     },
     "output_type": "display_data"
    }
   ],
   "source": [
    "# Scatter plot showing the relationship between 'sugarpercent' and 'winpercent'\n",
    "sns.scatterplot(x=candy_data['sugarpercent'], y=candy_data['winpercent'])# Your code here\n",
    "\n",
    "# Check your answer\n",
    "step_3.a.check()"
   ]
  },
  {
   "cell_type": "code",
   "execution_count": 9,
   "id": "fa5507ea",
   "metadata": {
    "execution": {
     "iopub.execute_input": "2022-06-23T21:31:47.783259Z",
     "iopub.status.busy": "2022-06-23T21:31:47.782243Z",
     "iopub.status.idle": "2022-06-23T21:31:47.787051Z",
     "shell.execute_reply": "2022-06-23T21:31:47.785810Z"
    },
    "papermill": {
     "duration": 0.016641,
     "end_time": "2022-06-23T21:31:47.788909",
     "exception": false,
     "start_time": "2022-06-23T21:31:47.772268",
     "status": "completed"
    },
    "tags": []
   },
   "outputs": [],
   "source": [
    "# Lines below will give you a hint or solution code\n",
    "#step_3.a.hint()\n",
    "#step_3.a.solution_plot()"
   ]
  },
  {
   "cell_type": "markdown",
   "id": "57bb2922",
   "metadata": {
    "papermill": {
     "duration": 0.008126,
     "end_time": "2022-06-23T21:31:47.805526",
     "exception": false,
     "start_time": "2022-06-23T21:31:47.797400",
     "status": "completed"
    },
    "tags": []
   },
   "source": [
    "#### Part B\n",
    "\n",
    "Does the scatter plot show a **strong** correlation between the two variables?  If so, are candies with more sugar relatively more or less popular with the survey respondents?"
   ]
  },
  {
   "cell_type": "markdown",
   "id": "02866c4c",
   "metadata": {
    "papermill": {
     "duration": 0.008012,
     "end_time": "2022-06-23T21:31:47.821920",
     "exception": false,
     "start_time": "2022-06-23T21:31:47.813908",
     "status": "completed"
    },
    "tags": []
   },
   "source": [
    "No correlation between the 2 variables."
   ]
  },
  {
   "cell_type": "code",
   "execution_count": 10,
   "id": "ae883e48",
   "metadata": {
    "execution": {
     "iopub.execute_input": "2022-06-23T21:31:47.840300Z",
     "iopub.status.busy": "2022-06-23T21:31:47.839894Z",
     "iopub.status.idle": "2022-06-23T21:31:47.844924Z",
     "shell.execute_reply": "2022-06-23T21:31:47.843597Z"
    },
    "papermill": {
     "duration": 0.016569,
     "end_time": "2022-06-23T21:31:47.846806",
     "exception": false,
     "start_time": "2022-06-23T21:31:47.830237",
     "status": "completed"
    },
    "tags": []
   },
   "outputs": [],
   "source": [
    "#step_3.b.hint()"
   ]
  },
  {
   "cell_type": "code",
   "execution_count": 11,
   "id": "770cc4c0",
   "metadata": {
    "execution": {
     "iopub.execute_input": "2022-06-23T21:31:47.865122Z",
     "iopub.status.busy": "2022-06-23T21:31:47.864767Z",
     "iopub.status.idle": "2022-06-23T21:31:47.872456Z",
     "shell.execute_reply": "2022-06-23T21:31:47.871520Z"
    },
    "papermill": {
     "duration": 0.019037,
     "end_time": "2022-06-23T21:31:47.874405",
     "exception": false,
     "start_time": "2022-06-23T21:31:47.855368",
     "status": "completed"
    },
    "tags": []
   },
   "outputs": [
    {
     "data": {
      "application/javascript": [
       "parent.postMessage({\"jupyterEvent\": \"custom.exercise_interaction\", \"data\": {\"interactionType\": 3, \"questionType\": 4, \"questionId\": \"3.2_ThinkBlueScatter\", \"learnToolsVersion\": \"0.3.4\", \"valueTowardsCompletion\": 0.0, \"failureMessage\": \"\", \"exceptionClass\": \"\", \"trace\": \"\", \"outcomeType\": 4}}, \"*\")"
      ],
      "text/plain": [
       "<IPython.core.display.Javascript object>"
      ]
     },
     "metadata": {},
     "output_type": "display_data"
    },
    {
     "data": {
      "text/markdown": [
       "<span style=\"color:#33cc99\">Solution:</span> The scatter plot does not show a strong correlation between the two variables. Since there is no clear relationship between the two variables, this tells us that sugar content does not play a strong role in candy popularity."
      ],
      "text/plain": [
       "Solution: The scatter plot does not show a strong correlation between the two variables. Since there is no clear relationship between the two variables, this tells us that sugar content does not play a strong role in candy popularity."
      ]
     },
     "metadata": {},
     "output_type": "display_data"
    }
   ],
   "source": [
    "# Check your answer (Run this code cell to receive credit!)\n",
    "step_3.b.solution()"
   ]
  },
  {
   "cell_type": "markdown",
   "id": "0d3ea20b",
   "metadata": {
    "papermill": {
     "duration": 0.00833,
     "end_time": "2022-06-23T21:31:47.891312",
     "exception": false,
     "start_time": "2022-06-23T21:31:47.882982",
     "status": "completed"
    },
    "tags": []
   },
   "source": [
    "## Step 4: Take a closer look\n",
    "\n",
    "#### Part A\n",
    "\n",
    "Create the same scatter plot you created in **Step 3**, but now with a regression line!"
   ]
  },
  {
   "cell_type": "code",
   "execution_count": 12,
   "id": "454d8110",
   "metadata": {
    "execution": {
     "iopub.execute_input": "2022-06-23T21:31:47.910105Z",
     "iopub.status.busy": "2022-06-23T21:31:47.909754Z",
     "iopub.status.idle": "2022-06-23T21:31:48.178220Z",
     "shell.execute_reply": "2022-06-23T21:31:48.177462Z"
    },
    "papermill": {
     "duration": 0.280586,
     "end_time": "2022-06-23T21:31:48.180451",
     "exception": false,
     "start_time": "2022-06-23T21:31:47.899865",
     "status": "completed"
    },
    "tags": []
   },
   "outputs": [
    {
     "data": {
      "application/javascript": [
       "parent.postMessage({\"jupyterEvent\": \"custom.exercise_interaction\", \"data\": {\"outcomeType\": 1, \"valueTowardsCompletion\": 0.3333333333333333, \"interactionType\": 1, \"questionType\": 2, \"questionId\": \"4.1_PlotBlueReg\", \"learnToolsVersion\": \"0.3.4\", \"failureMessage\": \"\", \"exceptionClass\": \"\", \"trace\": \"\"}}, \"*\")"
      ],
      "text/plain": [
       "<IPython.core.display.Javascript object>"
      ]
     },
     "metadata": {},
     "output_type": "display_data"
    },
    {
     "data": {
      "text/markdown": [
       "<span style=\"color:#33cc33\">Correct</span>"
      ],
      "text/plain": [
       "Correct"
      ]
     },
     "metadata": {},
     "output_type": "display_data"
    },
    {
     "data": {
      "image/png": "[encoded data removed]",
      "text/plain": [
       "<Figure size 432x288 with 1 Axes>"
      ]
     },
     "metadata": {
      "needs_background": "light"
     },
     "output_type": "display_data"
    }
   ],
   "source": [
    "# Scatter plot w/ regression line showing the relationship between 'sugarpercent' and 'winpercent'\n",
    "sns.regplot(x=candy_data['sugarpercent'], y=candy_data['winpercent'])# Your code here\n",
    "\n",
    "# Check your answer\n",
    "step_4.a.check()"
   ]
  },
  {
   "cell_type": "code",
   "execution_count": 13,
   "id": "cea9c6ed",
   "metadata": {
    "execution": {
     "iopub.execute_input": "2022-06-23T21:31:48.201190Z",
     "iopub.status.busy": "2022-06-23T21:31:48.200551Z",
     "iopub.status.idle": "2022-06-23T21:31:48.204848Z",
     "shell.execute_reply": "2022-06-23T21:31:48.203963Z"
    },
    "papermill": {
     "duration": 0.01758,
     "end_time": "2022-06-23T21:31:48.207238",
     "exception": false,
     "start_time": "2022-06-23T21:31:48.189658",
     "status": "completed"
    },
    "tags": []
   },
   "outputs": [],
   "source": [
    "# Lines below will give you a hint or solution code\n",
    "#step_4.a.hint()\n",
    "#step_4.a.solution_plot()"
   ]
  },
  {
   "cell_type": "markdown",
   "id": "8aec97b4",
   "metadata": {
    "papermill": {
     "duration": 0.009014,
     "end_time": "2022-06-23T21:31:48.225906",
     "exception": false,
     "start_time": "2022-06-23T21:31:48.216892",
     "status": "completed"
    },
    "tags": []
   },
   "source": [
    "#### Part B\n",
    "\n",
    "According to the plot above, is there a **slight** correlation between `'winpercent'` and `'sugarpercent'`?  What does this tell you about the candy that people tend to prefer?"
   ]
  },
  {
   "cell_type": "markdown",
   "id": "afbec84e",
   "metadata": {
    "papermill": {
     "duration": 0.008851,
     "end_time": "2022-06-23T21:31:48.243885",
     "exception": false,
     "start_time": "2022-06-23T21:31:48.235034",
     "status": "completed"
    },
    "tags": []
   },
   "source": []
  },
  {
   "cell_type": "markdown",
   "id": "11c28f54",
   "metadata": {
    "papermill": {
     "duration": 0.008832,
     "end_time": "2022-06-23T21:31:48.261897",
     "exception": false,
     "start_time": "2022-06-23T21:31:48.253065",
     "status": "completed"
    },
    "tags": []
   },
   "source": [
    "-There is a slight correlation between 2 variables.People tend to prefer candys that have more sugat percentage."
   ]
  },
  {
   "cell_type": "code",
   "execution_count": 14,
   "id": "935a60af",
   "metadata": {
    "execution": {
     "iopub.execute_input": "2022-06-23T21:31:48.281531Z",
     "iopub.status.busy": "2022-06-23T21:31:48.281168Z",
     "iopub.status.idle": "2022-06-23T21:31:48.285152Z",
     "shell.execute_reply": "2022-06-23T21:31:48.284091Z"
    },
    "papermill": {
     "duration": 0.016219,
     "end_time": "2022-06-23T21:31:48.287173",
     "exception": false,
     "start_time": "2022-06-23T21:31:48.270954",
     "status": "completed"
    },
    "tags": []
   },
   "outputs": [],
   "source": [
    "#step_4.b.hint()"
   ]
  },
  {
   "cell_type": "code",
   "execution_count": 15,
   "id": "99083ed2",
   "metadata": {
    "execution": {
     "iopub.execute_input": "2022-06-23T21:31:48.307978Z",
     "iopub.status.busy": "2022-06-23T21:31:48.307224Z",
     "iopub.status.idle": "2022-06-23T21:31:48.315692Z",
     "shell.execute_reply": "2022-06-23T21:31:48.314870Z"
    },
    "papermill": {
     "duration": 0.021308,
     "end_time": "2022-06-23T21:31:48.317720",
     "exception": false,
     "start_time": "2022-06-23T21:31:48.296412",
     "status": "completed"
    },
    "tags": []
   },
   "outputs": [
    {
     "data": {
      "application/javascript": [
       "parent.postMessage({\"jupyterEvent\": \"custom.exercise_interaction\", \"data\": {\"interactionType\": 3, \"questionType\": 4, \"questionId\": \"4.2_ThinkBlueReg\", \"learnToolsVersion\": \"0.3.4\", \"valueTowardsCompletion\": 0.0, \"failureMessage\": \"\", \"exceptionClass\": \"\", \"trace\": \"\", \"outcomeType\": 4}}, \"*\")"
      ],
      "text/plain": [
       "<IPython.core.display.Javascript object>"
      ]
     },
     "metadata": {},
     "output_type": "display_data"
    },
    {
     "data": {
      "text/markdown": [
       "<span style=\"color:#33cc99\">Solution:</span> Since the regression line has a slightly positive slope, this tells us that there is a slightly positive correlation between `'winpercent'` and `'sugarpercent'`. Thus, people have a slight preference for candies containing relatively more sugar."
      ],
      "text/plain": [
       "Solution: Since the regression line has a slightly positive slope, this tells us that there is a slightly positive correlation between `'winpercent'` and `'sugarpercent'`. Thus, people have a slight preference for candies containing relatively more sugar."
      ]
     },
     "metadata": {},
     "output_type": "display_data"
    }
   ],
   "source": [
    "# Check your answer (Run this code cell to receive credit!)\n",
    "step_4.b.solution()"
   ]
  },
  {
   "cell_type": "markdown",
   "id": "82fe3d9b",
   "metadata": {
    "papermill": {
     "duration": 0.009361,
     "end_time": "2022-06-23T21:31:48.336622",
     "exception": false,
     "start_time": "2022-06-23T21:31:48.327261",
     "status": "completed"
    },
    "tags": []
   },
   "source": [
    "## Step 5: Chocolate!\n",
    "\n",
    "In the code cell below, create a scatter plot to show the relationship between `'pricepercent'` (on the horizontal x-axis) and `'winpercent'` (on the vertical y-axis). Use the `'chocolate'` column to color-code the points.  _Don't add any regression lines just yet -- you'll do that in the next step!_"
   ]
  },
  {
   "cell_type": "code",
   "execution_count": 16,
   "id": "ee312612",
   "metadata": {
    "execution": {
     "iopub.execute_input": "2022-06-23T21:31:48.357685Z",
     "iopub.status.busy": "2022-06-23T21:31:48.356994Z",
     "iopub.status.idle": "2022-06-23T21:31:48.593316Z",
     "shell.execute_reply": "2022-06-23T21:31:48.592210Z"
    },
    "papermill": {
     "duration": 0.249673,
     "end_time": "2022-06-23T21:31:48.595833",
     "exception": false,
     "start_time": "2022-06-23T21:31:48.346160",
     "status": "completed"
    },
    "tags": []
   },
   "outputs": [
    {
     "data": {
      "application/javascript": [
       "parent.postMessage({\"jupyterEvent\": \"custom.exercise_interaction\", \"data\": {\"outcomeType\": 1, \"valueTowardsCompletion\": 0.3333333333333333, \"interactionType\": 1, \"questionType\": 2, \"questionId\": \"5_ColorScatter\", \"learnToolsVersion\": \"0.3.4\", \"failureMessage\": \"\", \"exceptionClass\": \"\", \"trace\": \"\"}}, \"*\")"
      ],
      "text/plain": [
       "<IPython.core.display.Javascript object>"
      ]
     },
     "metadata": {},
     "output_type": "display_data"
    },
    {
     "data": {
      "text/markdown": [
       "<span style=\"color:#33cc33\">Correct</span>"
      ],
      "text/plain": [
       "Correct"
      ]
     },
     "metadata": {},
     "output_type": "display_data"
    },
    {
     "data": {
      "image/png": "[encoded data removed]",
      "text/plain": [
       "<Figure size 432x288 with 1 Axes>"
      ]
     },
     "metadata": {
      "needs_background": "light"
     },
     "output_type": "display_data"
    }
   ],
   "source": [
    "# Scatter plot showing the relationship between 'pricepercent', 'winpercent', and 'chocolate'\n",
    "# Your code here\n",
    "sns.scatterplot(x=candy_data['sugarpercent'], y=candy_data['winpercent'],hue=candy_data['chocolate'])\n",
    "# Check your answer\n",
    "step_5.check()"
   ]
  },
  {
   "cell_type": "code",
   "execution_count": 17,
   "id": "fa3b5818",
   "metadata": {
    "execution": {
     "iopub.execute_input": "2022-06-23T21:31:48.618454Z",
     "iopub.status.busy": "2022-06-23T21:31:48.617671Z",
     "iopub.status.idle": "2022-06-23T21:31:48.623550Z",
     "shell.execute_reply": "2022-06-23T21:31:48.622495Z"
    },
    "papermill": {
     "duration": 0.019682,
     "end_time": "2022-06-23T21:31:48.625893",
     "exception": false,
     "start_time": "2022-06-23T21:31:48.606211",
     "status": "completed"
    },
    "tags": []
   },
   "outputs": [],
   "source": [
    "# Lines below will give you a hint or solution code\n",
    "#step_5.hint()\n",
    "#step_5.solution_plot()"
   ]
  },
  {
   "cell_type": "markdown",
   "id": "1df251a4",
   "metadata": {
    "papermill": {
     "duration": 0.010001,
     "end_time": "2022-06-23T21:31:48.646019",
     "exception": false,
     "start_time": "2022-06-23T21:31:48.636018",
     "status": "completed"
    },
    "tags": []
   },
   "source": [
    "Can you see any interesting patterns in the scatter plot?  We'll investigate this plot further  by adding regression lines in the next step!\n",
    "\n",
    "## Step 6: Investigate chocolate\n",
    "\n",
    "#### Part A\n",
    "\n",
    "Create the same scatter plot you created in **Step 5**, but now with two regression lines, corresponding to (1) chocolate candies and (2) candies without chocolate."
   ]
  },
  {
   "cell_type": "code",
   "execution_count": 18,
   "id": "af92cfe5",
   "metadata": {
    "execution": {
     "iopub.execute_input": "2022-06-23T21:31:48.668628Z",
     "iopub.status.busy": "2022-06-23T21:31:48.667977Z",
     "iopub.status.idle": "2022-06-23T21:31:49.203693Z",
     "shell.execute_reply": "2022-06-23T21:31:49.202861Z"
    },
    "papermill": {
     "duration": 0.549438,
     "end_time": "2022-06-23T21:31:49.205673",
     "exception": false,
     "start_time": "2022-06-23T21:31:48.656235",
     "status": "completed"
    },
    "tags": []
   },
   "outputs": [
    {
     "data": {
      "application/javascript": [
       "parent.postMessage({\"jupyterEvent\": \"custom.exercise_interaction\", \"data\": {\"outcomeType\": 1, \"valueTowardsCompletion\": 0.3333333333333333, \"interactionType\": 1, \"questionType\": 2, \"questionId\": \"6.1_PlotColorReg\", \"learnToolsVersion\": \"0.3.4\", \"failureMessage\": \"\", \"exceptionClass\": \"\", \"trace\": \"\"}}, \"*\")"
      ],
      "text/plain": [
       "<IPython.core.display.Javascript object>"
      ]
     },
     "metadata": {},
     "output_type": "display_data"
    },
    {
     "data": {
      "text/markdown": [
       "<span style=\"color:#33cc33\">Correct</span>"
      ],
      "text/plain": [
       "Correct"
      ]
     },
     "metadata": {},
     "output_type": "display_data"
    },
    {
     "data": {
      "image/png": "[encoded data removed]",
      "text/plain": [
       "<Figure size 416.375x360 with 1 Axes>"
      ]
     },
     "metadata": {
      "needs_background": "light"
     },
     "output_type": "display_data"
    }
   ],
   "source": [
    "# Color-coded scatter plot w/ regression lines\n",
    "# Your code here\n",
    "sns.lmplot(x='sugarpercent', y='winpercent',hue='chocolate',data=candy_data)\n",
    "# Check your answer\n",
    "step_6.a.check()"
   ]
  },
  {
   "cell_type": "code",
   "execution_count": 19,
   "id": "0d9e129f",
   "metadata": {
    "execution": {
     "iopub.execute_input": "2022-06-23T21:31:49.228586Z",
     "iopub.status.busy": "2022-06-23T21:31:49.227982Z",
     "iopub.status.idle": "2022-06-23T21:31:49.232298Z",
     "shell.execute_reply": "2022-06-23T21:31:49.231367Z"
    },
    "papermill": {
     "duration": 0.018066,
     "end_time": "2022-06-23T21:31:49.234241",
     "exception": false,
     "start_time": "2022-06-23T21:31:49.216175",
     "status": "completed"
    },
    "tags": []
   },
   "outputs": [],
   "source": [
    "# Lines below will give you a hint or solution code\n",
    "#step_6.a.hint()\n",
    "#step_6.a.solution_plot()"
   ]
  },
  {
   "cell_type": "markdown",
   "id": "5dfab439",
   "metadata": {
    "papermill": {
     "duration": 0.010441,
     "end_time": "2022-06-23T21:31:49.255114",
     "exception": false,
     "start_time": "2022-06-23T21:31:49.244673",
     "status": "completed"
    },
    "tags": []
   },
   "source": [
    "#### Part B\n",
    "\n",
    "Using the regression lines, what conclusions can you draw about the effects of chocolate and price on candy popularity?"
   ]
  },
  {
   "cell_type": "markdown",
   "id": "8913c814",
   "metadata": {
    "papermill": {
     "duration": 0.010386,
     "end_time": "2022-06-23T21:31:49.276115",
     "exception": false,
     "start_time": "2022-06-23T21:31:49.265729",
     "status": "completed"
    },
    "tags": []
   },
   "source": []
  },
  {
   "cell_type": "markdown",
   "id": "a3e24ac5",
   "metadata": {
    "papermill": {
     "duration": 0.01044,
     "end_time": "2022-06-23T21:31:49.297254",
     "exception": false,
     "start_time": "2022-06-23T21:31:49.286814",
     "status": "completed"
    },
    "tags": []
   },
   "source": [
    "Chocolate has a positive correlation with the candy price."
   ]
  },
  {
   "cell_type": "code",
   "execution_count": 20,
   "id": "9b381874",
   "metadata": {
    "execution": {
     "iopub.execute_input": "2022-06-23T21:31:49.320237Z",
     "iopub.status.busy": "2022-06-23T21:31:49.319876Z",
     "iopub.status.idle": "2022-06-23T21:31:49.323840Z",
     "shell.execute_reply": "2022-06-23T21:31:49.322826Z"
    },
    "papermill": {
     "duration": 0.017791,
     "end_time": "2022-06-23T21:31:49.325671",
     "exception": false,
     "start_time": "2022-06-23T21:31:49.307880",
     "status": "completed"
    },
    "tags": []
   },
   "outputs": [],
   "source": [
    "#step_6.b.hint()"
   ]
  },
  {
   "cell_type": "code",
   "execution_count": 21,
   "id": "1e4f3f32",
   "metadata": {
    "execution": {
     "iopub.execute_input": "2022-06-23T21:31:49.348687Z",
     "iopub.status.busy": "2022-06-23T21:31:49.348311Z",
     "iopub.status.idle": "2022-06-23T21:31:49.356392Z",
     "shell.execute_reply": "2022-06-23T21:31:49.355368Z"
    },
    "papermill": {
     "duration": 0.021965,
     "end_time": "2022-06-23T21:31:49.358393",
     "exception": false,
     "start_time": "2022-06-23T21:31:49.336428",
     "status": "completed"
    },
    "tags": []
   },
   "outputs": [
    {
     "data": {
      "application/javascript": [
       "parent.postMessage({\"jupyterEvent\": \"custom.exercise_interaction\", \"data\": {\"interactionType\": 3, \"questionType\": 4, \"questionId\": \"6.2_ThinkColorReg\", \"learnToolsVersion\": \"0.3.4\", \"valueTowardsCompletion\": 0.0, \"failureMessage\": \"\", \"exceptionClass\": \"\", \"trace\": \"\", \"outcomeType\": 4}}, \"*\")"
      ],
      "text/plain": [
       "<IPython.core.display.Javascript object>"
      ]
     },
     "metadata": {},
     "output_type": "display_data"
    },
    {
     "data": {
      "text/markdown": [
       "<span style=\"color:#33cc99\">Solution:</span> We'll begin with the regression line for chocolate candies. Since this line has a slightly positive slope, we can say that more expensive chocolate candies tend to be more popular (than relatively cheaper chocolate candies).  Likewise, since the regression line for candies without chocolate has a negative slope, we can say that if candies don't contain chocolate, they tend to be more popular when they are cheaper.  One important note, however, is that the dataset is quite small -- so we shouldn't invest too much trust in these patterns!  To inspire more confidence in the results, we should add more candies to the dataset."
      ],
      "text/plain": [
       "Solution: We'll begin with the regression line for chocolate candies. Since this line has a slightly positive slope, we can say that more expensive chocolate candies tend to be more popular (than relatively cheaper chocolate candies).  Likewise, since the regression line for candies without chocolate has a negative slope, we can say that if candies don't contain chocolate, they tend to be more popular when they are cheaper.  One important note, however, is that the dataset is quite small -- so we shouldn't invest too much trust in these patterns!  To inspire more confidence in the results, we should add more candies to the dataset."
      ]
     },
     "metadata": {},
     "output_type": "display_data"
    }
   ],
   "source": [
    "# Check your answer (Run this code cell to receive credit!)\n",
    "step_6.b.solution()"
   ]
  },
  {
   "cell_type": "markdown",
   "id": "0e3ab035",
   "metadata": {
    "papermill": {
     "duration": 0.01046,
     "end_time": "2022-06-23T21:31:49.379885",
     "exception": false,
     "start_time": "2022-06-23T21:31:49.369425",
     "status": "completed"
    },
    "tags": []
   },
   "source": [
    "## Step 7: Everybody loves chocolate.\n",
    "\n",
    "#### Part A\n",
    "\n",
    "Create a categorical scatter plot to highlight the relationship between `'chocolate'` and `'winpercent'`.  Put `'chocolate'` on the (horizontal) x-axis, and `'winpercent'` on the (vertical) y-axis."
   ]
  },
  {
   "cell_type": "code",
   "execution_count": 22,
   "id": "ab611f7b",
   "metadata": {
    "execution": {
     "iopub.execute_input": "2022-06-23T21:31:49.403371Z",
     "iopub.status.busy": "2022-06-23T21:31:49.402652Z",
     "iopub.status.idle": "2022-06-23T21:31:49.522034Z",
     "shell.execute_reply": "2022-06-23T21:31:49.520972Z"
    },
    "papermill": {
     "duration": 0.133676,
     "end_time": "2022-06-23T21:31:49.524286",
     "exception": false,
     "start_time": "2022-06-23T21:31:49.390610",
     "status": "completed"
    },
    "tags": []
   },
   "outputs": [
    {
     "data": {
      "application/javascript": [
       "parent.postMessage({\"jupyterEvent\": \"custom.exercise_interaction\", \"data\": {\"outcomeType\": 1, \"valueTowardsCompletion\": 0.3333333333333333, \"interactionType\": 1, \"questionType\": 2, \"questionId\": \"7.1_PlotSwarm\", \"learnToolsVersion\": \"0.3.4\", \"failureMessage\": \"\", \"exceptionClass\": \"\", \"trace\": \"\"}}, \"*\")"
      ],
      "text/plain": [
       "<IPython.core.display.Javascript object>"
      ]
     },
     "metadata": {},
     "output_type": "display_data"
    },
    {
     "data": {
      "text/markdown": [
       "<span style=\"color:#33cc33\">Correct</span>"
      ],
      "text/plain": [
       "Correct"
      ]
     },
     "metadata": {},
     "output_type": "display_data"
    },
    {
     "data": {
      "image/png": "[encoded data removed]",
      "text/plain": [
       "<Figure size 432x288 with 1 Axes>"
      ]
     },
     "metadata": {
      "needs_background": "light"
     },
     "output_type": "display_data"
    }
   ],
   "source": [
    "# Scatter plot showing the relationship between 'chocolate' and 'winpercent'\n",
    "sns.swarmplot(x=candy_data['chocolate'],y=candy_data['winpercent']) # Your code here\n",
    "\n",
    "# Check your answer\n",
    "step_7.a.check()"
   ]
  },
  {
   "cell_type": "code",
   "execution_count": 23,
   "id": "48fb1084",
   "metadata": {
    "execution": {
     "iopub.execute_input": "2022-06-23T21:31:49.548960Z",
     "iopub.status.busy": "2022-06-23T21:31:49.548629Z",
     "iopub.status.idle": "2022-06-23T21:31:49.552781Z",
     "shell.execute_reply": "2022-06-23T21:31:49.551670Z"
    },
    "papermill": {
     "duration": 0.019341,
     "end_time": "2022-06-23T21:31:49.555249",
     "exception": false,
     "start_time": "2022-06-23T21:31:49.535908",
     "status": "completed"
    },
    "tags": []
   },
   "outputs": [],
   "source": [
    "# Lines below will give you a hint or solution code\n",
    "#step_7.a.hint()\n",
    "#step_7.a.solution_plot()"
   ]
  },
  {
   "cell_type": "markdown",
   "id": "0a3bd4d8",
   "metadata": {
    "papermill": {
     "duration": 0.010994,
     "end_time": "2022-06-23T21:31:49.577591",
     "exception": false,
     "start_time": "2022-06-23T21:31:49.566597",
     "status": "completed"
    },
    "tags": []
   },
   "source": [
    "#### Part B\n",
    "\n",
    "You decide to dedicate a section of your report to the fact that chocolate candies tend to be more popular than candies without chocolate.  Which plot is more appropriate to tell this story: the plot from **Step 6**, or the plot from **Step 7**?"
   ]
  },
  {
   "cell_type": "markdown",
   "id": "1165ef8b",
   "metadata": {
    "papermill": {
     "duration": 0.011304,
     "end_time": "2022-06-23T21:31:49.600391",
     "exception": false,
     "start_time": "2022-06-23T21:31:49.589087",
     "status": "completed"
    },
    "tags": []
   },
   "source": [
    "The plot from step-7."
   ]
  },
  {
   "cell_type": "code",
   "execution_count": 24,
   "id": "7c8dacdc",
   "metadata": {
    "execution": {
     "iopub.execute_input": "2022-06-23T21:31:49.624968Z",
     "iopub.status.busy": "2022-06-23T21:31:49.623994Z",
     "iopub.status.idle": "2022-06-23T21:31:49.628408Z",
     "shell.execute_reply": "2022-06-23T21:31:49.627732Z"
    },
    "papermill": {
     "duration": 0.018703,
     "end_time": "2022-06-23T21:31:49.630318",
     "exception": false,
     "start_time": "2022-06-23T21:31:49.611615",
     "status": "completed"
    },
    "tags": []
   },
   "outputs": [],
   "source": [
    "#step_7.b.hint()"
   ]
  },
  {
   "cell_type": "code",
   "execution_count": 25,
   "id": "a372b691",
   "metadata": {
    "execution": {
     "iopub.execute_input": "2022-06-23T21:31:49.654444Z",
     "iopub.status.busy": "2022-06-23T21:31:49.653822Z",
     "iopub.status.idle": "2022-06-23T21:31:49.661955Z",
     "shell.execute_reply": "2022-06-23T21:31:49.660891Z"
    },
    "papermill": {
     "duration": 0.022412,
     "end_time": "2022-06-23T21:31:49.663829",
     "exception": false,
     "start_time": "2022-06-23T21:31:49.641417",
     "status": "completed"
    },
    "tags": []
   },
   "outputs": [
    {
     "data": {
      "application/javascript": [
       "parent.postMessage({\"jupyterEvent\": \"custom.exercise_interaction\", \"data\": {\"interactionType\": 3, \"questionType\": 4, \"questionId\": \"7.2_ThinkSwarm\", \"learnToolsVersion\": \"0.3.4\", \"valueTowardsCompletion\": 0.0, \"failureMessage\": \"\", \"exceptionClass\": \"\", \"trace\": \"\", \"outcomeType\": 4}}, \"*\")"
      ],
      "text/plain": [
       "<IPython.core.display.Javascript object>"
      ]
     },
     "metadata": {},
     "output_type": "display_data"
    },
    {
     "data": {
      "text/markdown": [
       "<span style=\"color:#33cc99\">Solution:</span> In this case, the categorical scatter plot from **Step 7** is the more appropriate plot. While both plots tell the desired story, the plot from **Step 6** conveys far more information that could distract from the main point."
      ],
      "text/plain": [
       "Solution: In this case, the categorical scatter plot from **Step 7** is the more appropriate plot. While both plots tell the desired story, the plot from **Step 6** conveys far more information that could distract from the main point."
      ]
     },
     "metadata": {},
     "output_type": "display_data"
    }
   ],
   "source": [
    "# Check your answer (Run this code cell to receive credit!)\n",
    "step_7.b.solution()"
   ]
  },
  {
   "cell_type": "markdown",
   "id": "5a4a6341",
   "metadata": {
    "papermill": {
     "duration": 0.011683,
     "end_time": "2022-06-23T21:31:49.687246",
     "exception": false,
     "start_time": "2022-06-23T21:31:49.675563",
     "status": "completed"
    },
    "tags": []
   },
   "source": [
    "## Keep going\n",
    "\n",
    "Explore **[histograms and density plots](https://www.kaggle.com/alexisbcook/distributions)**."
   ]
  },
  {
   "cell_type": "markdown",
   "id": "48890f11",
   "metadata": {
    "papermill": {
     "duration": 0.011632,
     "end_time": "2022-06-23T21:31:49.710995",
     "exception": false,
     "start_time": "2022-06-23T21:31:49.699363",
     "status": "completed"
    },
    "tags": []
   },
   "source": [
    "---\n",
    "\n",
    "\n",
    "\n",
    "\n",
    "*Have questions or comments? Visit the [course discussion forum](https://www.kaggle.com/learn/data-visualization/discussion) to chat with other learners.*"
   ]
  }
 ],
 "metadata": {
  "kernelspec": {
   "display_name": "Python 3",
   "language": "python",
   "name": "python3"
  },
  "language_info": {
   "codemirror_mode": {
    "name": "ipython",
    "version": 3
   },
   "file_extension": ".py",
   "mimetype": "text/x-python",
   "name": "python",
   "nbconvert_exporter": "python",
   "pygments_lexer": "ipython3",
   "version": "3.7.12"
  },
  "papermill": {
   "default_parameters": {},
   "duration": 12.168199,
   "end_time": "2022-06-23T21:31:50.343366",
   "environment_variables": {},
   "exception": null,
   "input_path": "__notebook__.ipynb",
   "output_path": "__notebook__.ipynb",
   "parameters": {},
   "start_time": "2022-06-23T21:31:38.175167",
   "version": "2.3.4"
  }
 },
 "nbformat": 4,
 "nbformat_minor": 5
}
