{
 "cells": [
  {
   "cell_type": "markdown",
   "id": "93850ade",
   "metadata": {
    "papermill": {
     "duration": 0.007936,
     "end_time": "2022-06-24T17:06:24.212185",
     "exception": false,
     "start_time": "2022-06-24T17:06:24.204249",
     "status": "completed"
    },
    "tags": []
   },
   "source": [
    "**This notebook is an exercise in the [Pandas](https://www.kaggle.com/learn/pandas) course.  You can reference the tutorial at [this link](https://www.kaggle.com/residentmario/grouping-and-sorting).**\n",
    "\n",
    "---\n"
   ]
  },
  {
   "cell_type": "markdown",
   "id": "6e8209c2",
   "metadata": {
    "papermill": {
     "duration": 0.006301,
     "end_time": "2022-06-24T17:06:24.225554",
     "exception": false,
     "start_time": "2022-06-24T17:06:24.219253",
     "status": "completed"
    },
    "tags": []
   },
   "source": [
    "# Introduction\n",
    "\n",
    "In these exercises we'll apply groupwise analysis to our dataset.\n",
    "\n",
    "Run the code cell below to load the data before running the exercises."
   ]
  },
  {
   "cell_type": "code",
   "execution_count": 1,
   "id": "6b476905",
   "metadata": {
    "execution": {
     "iopub.execute_input": "2022-06-24T17:06:24.240773Z",
     "iopub.status.busy": "2022-06-24T17:06:24.240242Z",
     "iopub.status.idle": "2022-06-24T17:06:27.256375Z",
     "shell.execute_reply": "2022-06-24T17:06:27.254809Z"
    },
    "papermill": {
     "duration": 3.027239,
     "end_time": "2022-06-24T17:06:27.259421",
     "exception": false,
     "start_time": "2022-06-24T17:06:24.232182",
     "status": "completed"
    },
    "tags": []
   },
   "outputs": [
    {
     "name": "stdout",
     "output_type": "stream",
     "text": [
      "Setup complete.\n"
     ]
    }
   ],
   "source": [
    "import pandas as pd\n",
    "\n",
    "reviews = pd.read_csv(\"../input/wine-reviews/winemag-data-130k-v2.csv\", index_col=0)\n",
    "#pd.set_option(\"display.max_rows\", 5)\n",
    "\n",
    "from learntools.core import binder; binder.bind(globals())\n",
    "from learntools.pandas.grouping_and_sorting import *\n",
    "print(\"Setup complete.\")"
   ]
  },
  {
   "cell_type": "markdown",
   "id": "b8552913",
   "metadata": {
    "papermill": {
     "duration": 0.006781,
     "end_time": "2022-06-24T17:06:27.273133",
     "exception": false,
     "start_time": "2022-06-24T17:06:27.266352",
     "status": "completed"
    },
    "tags": []
   },
   "source": [
    "# Exercises"
   ]
  },
  {
   "cell_type": "markdown",
   "id": "83e4590f",
   "metadata": {
    "papermill": {
     "duration": 0.0063,
     "end_time": "2022-06-24T17:06:27.286179",
     "exception": false,
     "start_time": "2022-06-24T17:06:27.279879",
     "status": "completed"
    },
    "tags": []
   },
   "source": [
    "## 1.\n",
    "Who are the most common wine reviewers in the dataset? Create a `Series` whose index is the `taster_twitter_handle` category from the dataset, and whose values count how many reviews each person wrote."
   ]
  },
  {
   "cell_type": "code",
   "execution_count": 2,
   "id": "a419cb15",
   "metadata": {
    "execution": {
     "iopub.execute_input": "2022-06-24T17:06:27.301113Z",
     "iopub.status.busy": "2022-06-24T17:06:27.300704Z",
     "iopub.status.idle": "2022-06-24T17:06:27.332296Z",
     "shell.execute_reply": "2022-06-24T17:06:27.330947Z"
    },
    "papermill": {
     "duration": 0.042201,
     "end_time": "2022-06-24T17:06:27.335028",
     "exception": false,
     "start_time": "2022-06-24T17:06:27.292827",
     "status": "completed"
    },
    "tags": []
   },
   "outputs": [
    {
     "data": {
      "application/javascript": [
       "parent.postMessage({\"jupyterEvent\": \"custom.exercise_interaction\", \"data\": {\"outcomeType\": 1, \"valueTowardsCompletion\": 0.16666666666666666, \"interactionType\": 1, \"questionType\": 1, \"questionId\": \"1_ReviewsWritten\", \"learnToolsVersion\": \"0.3.4\", \"failureMessage\": \"\", \"exceptionClass\": \"\", \"trace\": \"\"}}, \"*\")"
      ],
      "text/plain": [
       "<IPython.core.display.Javascript object>"
      ]
     },
     "metadata": {},
     "output_type": "display_data"
    },
    {
     "data": {
      "text/markdown": [
       "<span style=\"color:#33cc33\">Correct:</span> \n",
       "\n",
       "\n",
       "```python\n",
       "reviews_written = reviews.groupby('taster_twitter_handle').size()\n",
       "```\n",
       "or\n",
       "```python\n",
       "reviews_written = reviews.groupby('taster_twitter_handle').taster_twitter_handle.count()\n",
       "```\n"
      ],
      "text/plain": [
       "Correct: \n",
       "\n",
       "\n",
       "```python\n",
       "reviews_written = reviews.groupby('taster_twitter_handle').size()\n",
       "```\n",
       "or\n",
       "```python\n",
       "reviews_written = reviews.groupby('taster_twitter_handle').taster_twitter_handle.count()\n",
       "```"
      ]
     },
     "metadata": {},
     "output_type": "display_data"
    }
   ],
   "source": [
    "# Your code here\n",
    "reviews_written = reviews.groupby('taster_twitter_handle').size()\n",
    "\n",
    "# Check your answer\n",
    "q1.check()"
   ]
  },
  {
   "cell_type": "code",
   "execution_count": 3,
   "id": "03e647ec",
   "metadata": {
    "execution": {
     "iopub.execute_input": "2022-06-24T17:06:27.352171Z",
     "iopub.status.busy": "2022-06-24T17:06:27.350142Z",
     "iopub.status.idle": "2022-06-24T17:06:27.355806Z",
     "shell.execute_reply": "2022-06-24T17:06:27.354775Z"
    },
    "papermill": {
     "duration": 0.016209,
     "end_time": "2022-06-24T17:06:27.358197",
     "exception": false,
     "start_time": "2022-06-24T17:06:27.341988",
     "status": "completed"
    },
    "tags": []
   },
   "outputs": [],
   "source": [
    "#q1.hint()\n",
    "#q1.solution()"
   ]
  },
  {
   "cell_type": "markdown",
   "id": "11888dbc",
   "metadata": {
    "papermill": {
     "duration": 0.007653,
     "end_time": "2022-06-24T17:06:27.372706",
     "exception": false,
     "start_time": "2022-06-24T17:06:27.365053",
     "status": "completed"
    },
    "tags": []
   },
   "source": [
    "## 2.\n",
    "What is the best wine I can buy for a given amount of money? Create a `Series` whose index is wine prices and whose values is the maximum number of points a wine costing that much was given in a review. Sort the values by price, ascending (so that `4.0` dollars is at the top and `3300.0` dollars is at the bottom)."
   ]
  },
  {
   "cell_type": "code",
   "execution_count": 4,
   "id": "b9dea780",
   "metadata": {
    "execution": {
     "iopub.execute_input": "2022-06-24T17:06:27.388731Z",
     "iopub.status.busy": "2022-06-24T17:06:27.388064Z",
     "iopub.status.idle": "2022-06-24T17:06:27.402291Z",
     "shell.execute_reply": "2022-06-24T17:06:27.401150Z"
    },
    "papermill": {
     "duration": 0.024824,
     "end_time": "2022-06-24T17:06:27.404555",
     "exception": false,
     "start_time": "2022-06-24T17:06:27.379731",
     "status": "completed"
    },
    "tags": []
   },
   "outputs": [
    {
     "data": {
      "application/javascript": [
       "parent.postMessage({\"jupyterEvent\": \"custom.exercise_interaction\", \"data\": {\"outcomeType\": 1, \"valueTowardsCompletion\": 0.16666666666666666, \"interactionType\": 1, \"questionType\": 1, \"questionId\": \"2_BestRatingPerPrice\", \"learnToolsVersion\": \"0.3.4\", \"failureMessage\": \"\", \"exceptionClass\": \"\", \"trace\": \"\"}}, \"*\")"
      ],
      "text/plain": [
       "<IPython.core.display.Javascript object>"
      ]
     },
     "metadata": {},
     "output_type": "display_data"
    },
    {
     "data": {
      "text/markdown": [
       "<span style=\"color:#33cc33\">Correct</span>"
      ],
      "text/plain": [
       "Correct"
      ]
     },
     "metadata": {},
     "output_type": "display_data"
    }
   ],
   "source": [
    "best_rating_per_price = reviews.groupby('price')['points'].max().sort_index()\n",
    "\n",
    "# Check your answer\n",
    "q2.check()"
   ]
  },
  {
   "cell_type": "code",
   "execution_count": 5,
   "id": "1b1d8c98",
   "metadata": {
    "execution": {
     "iopub.execute_input": "2022-06-24T17:06:27.420804Z",
     "iopub.status.busy": "2022-06-24T17:06:27.420400Z",
     "iopub.status.idle": "2022-06-24T17:06:27.424949Z",
     "shell.execute_reply": "2022-06-24T17:06:27.423663Z"
    },
    "papermill": {
     "duration": 0.015642,
     "end_time": "2022-06-24T17:06:27.427330",
     "exception": false,
     "start_time": "2022-06-24T17:06:27.411688",
     "status": "completed"
    },
    "tags": []
   },
   "outputs": [],
   "source": [
    "#q2.hint()\n",
    "#q2.solution()"
   ]
  },
  {
   "cell_type": "markdown",
   "id": "7cad9554",
   "metadata": {
    "papermill": {
     "duration": 0.006928,
     "end_time": "2022-06-24T17:06:27.441365",
     "exception": false,
     "start_time": "2022-06-24T17:06:27.434437",
     "status": "completed"
    },
    "tags": []
   },
   "source": [
    "## 3.\n",
    "What are the minimum and maximum prices for each `variety` of wine? Create a `DataFrame` whose index is the `variety` category from the dataset and whose values are the `min` and `max` values thereof."
   ]
  },
  {
   "cell_type": "code",
   "execution_count": 6,
   "id": "a190d58e",
   "metadata": {
    "execution": {
     "iopub.execute_input": "2022-06-24T17:06:27.459125Z",
     "iopub.status.busy": "2022-06-24T17:06:27.458744Z",
     "iopub.status.idle": "2022-06-24T17:06:27.489151Z",
     "shell.execute_reply": "2022-06-24T17:06:27.488377Z"
    },
    "papermill": {
     "duration": 0.042061,
     "end_time": "2022-06-24T17:06:27.491536",
     "exception": false,
     "start_time": "2022-06-24T17:06:27.449475",
     "status": "completed"
    },
    "tags": []
   },
   "outputs": [
    {
     "data": {
      "application/javascript": [
       "parent.postMessage({\"jupyterEvent\": \"custom.exercise_interaction\", \"data\": {\"outcomeType\": 1, \"valueTowardsCompletion\": 0.16666666666666666, \"interactionType\": 1, \"questionType\": 1, \"questionId\": \"3_PriceExtremes\", \"learnToolsVersion\": \"0.3.4\", \"failureMessage\": \"\", \"exceptionClass\": \"\", \"trace\": \"\"}}, \"*\")"
      ],
      "text/plain": [
       "<IPython.core.display.Javascript object>"
      ]
     },
     "metadata": {},
     "output_type": "display_data"
    },
    {
     "data": {
      "text/markdown": [
       "<span style=\"color:#33cc33\">Correct</span>"
      ],
      "text/plain": [
       "Correct"
      ]
     },
     "metadata": {},
     "output_type": "display_data"
    }
   ],
   "source": [
    "price_extremes = reviews.groupby(['variety']).price.agg([min, max])\n",
    "\n",
    "# Check your answer\n",
    "q3.check()"
   ]
  },
  {
   "cell_type": "code",
   "execution_count": 7,
   "id": "7a0c960f",
   "metadata": {
    "execution": {
     "iopub.execute_input": "2022-06-24T17:06:27.509234Z",
     "iopub.status.busy": "2022-06-24T17:06:27.508094Z",
     "iopub.status.idle": "2022-06-24T17:06:27.512822Z",
     "shell.execute_reply": "2022-06-24T17:06:27.511932Z"
    },
    "papermill": {
     "duration": 0.016178,
     "end_time": "2022-06-24T17:06:27.515138",
     "exception": false,
     "start_time": "2022-06-24T17:06:27.498960",
     "status": "completed"
    },
    "tags": []
   },
   "outputs": [],
   "source": [
    "#q3.hint()\n",
    "#q3.solution()"
   ]
  },
  {
   "cell_type": "markdown",
   "id": "6f69b4ee",
   "metadata": {
    "papermill": {
     "duration": 0.00754,
     "end_time": "2022-06-24T17:06:27.530122",
     "exception": false,
     "start_time": "2022-06-24T17:06:27.522582",
     "status": "completed"
    },
    "tags": []
   },
   "source": [
    "## 4.\n",
    "What are the most expensive wine varieties? Create a variable `sorted_varieties` containing a copy of the dataframe from the previous question where varieties are sorted in descending order based on minimum price, then on maximum price (to break ties)."
   ]
  },
  {
   "cell_type": "code",
   "execution_count": 8,
   "id": "3b6a7269",
   "metadata": {
    "execution": {
     "iopub.execute_input": "2022-06-24T17:06:27.547299Z",
     "iopub.status.busy": "2022-06-24T17:06:27.546490Z",
     "iopub.status.idle": "2022-06-24T17:06:27.558590Z",
     "shell.execute_reply": "2022-06-24T17:06:27.557702Z"
    },
    "papermill": {
     "duration": 0.023191,
     "end_time": "2022-06-24T17:06:27.560846",
     "exception": false,
     "start_time": "2022-06-24T17:06:27.537655",
     "status": "completed"
    },
    "tags": []
   },
   "outputs": [
    {
     "data": {
      "application/javascript": [
       "parent.postMessage({\"jupyterEvent\": \"custom.exercise_interaction\", \"data\": {\"outcomeType\": 1, \"valueTowardsCompletion\": 0.16666666666666666, \"interactionType\": 1, \"questionType\": 1, \"questionId\": \"4_SortedVarieties\", \"learnToolsVersion\": \"0.3.4\", \"failureMessage\": \"\", \"exceptionClass\": \"\", \"trace\": \"\"}}, \"*\")"
      ],
      "text/plain": [
       "<IPython.core.display.Javascript object>"
      ]
     },
     "metadata": {},
     "output_type": "display_data"
    },
    {
     "data": {
      "text/markdown": [
       "<span style=\"color:#33cc33\">Correct</span>"
      ],
      "text/plain": [
       "Correct"
      ]
     },
     "metadata": {},
     "output_type": "display_data"
    }
   ],
   "source": [
    "sorted_varieties =price_extremes.sort_values(by=['min','max'],ascending=False)\n",
    "\n",
    "# Check your answer\n",
    "q4.check()"
   ]
  },
  {
   "cell_type": "code",
   "execution_count": 9,
   "id": "f9152f44",
   "metadata": {
    "execution": {
     "iopub.execute_input": "2022-06-24T17:06:27.578745Z",
     "iopub.status.busy": "2022-06-24T17:06:27.578077Z",
     "iopub.status.idle": "2022-06-24T17:06:27.582691Z",
     "shell.execute_reply": "2022-06-24T17:06:27.581864Z"
    },
    "papermill": {
     "duration": 0.016097,
     "end_time": "2022-06-24T17:06:27.585018",
     "exception": false,
     "start_time": "2022-06-24T17:06:27.568921",
     "status": "completed"
    },
    "tags": []
   },
   "outputs": [],
   "source": [
    "#q4.hint()\n",
    "#q4.solution()"
   ]
  },
  {
   "cell_type": "markdown",
   "id": "5e42a174",
   "metadata": {
    "papermill": {
     "duration": 0.007421,
     "end_time": "2022-06-24T17:06:27.600185",
     "exception": false,
     "start_time": "2022-06-24T17:06:27.592764",
     "status": "completed"
    },
    "tags": []
   },
   "source": [
    "## 5.\n",
    "Create a `Series` whose index is reviewers and whose values is the average review score given out by that reviewer. Hint: you will need the `taster_name` and `points` columns."
   ]
  },
  {
   "cell_type": "code",
   "execution_count": 10,
   "id": "871bef5a",
   "metadata": {
    "execution": {
     "iopub.execute_input": "2022-06-24T17:06:27.617660Z",
     "iopub.status.busy": "2022-06-24T17:06:27.617014Z",
     "iopub.status.idle": "2022-06-24T17:06:27.644444Z",
     "shell.execute_reply": "2022-06-24T17:06:27.643345Z"
    },
    "papermill": {
     "duration": 0.038827,
     "end_time": "2022-06-24T17:06:27.646750",
     "exception": false,
     "start_time": "2022-06-24T17:06:27.607923",
     "status": "completed"
    },
    "tags": []
   },
   "outputs": [
    {
     "data": {
      "application/javascript": [
       "parent.postMessage({\"jupyterEvent\": \"custom.exercise_interaction\", \"data\": {\"outcomeType\": 1, \"valueTowardsCompletion\": 0.16666666666666666, \"interactionType\": 1, \"questionType\": 1, \"questionId\": \"5_ReviewerMeanRatings\", \"learnToolsVersion\": \"0.3.4\", \"failureMessage\": \"\", \"exceptionClass\": \"\", \"trace\": \"\"}}, \"*\")"
      ],
      "text/plain": [
       "<IPython.core.display.Javascript object>"
      ]
     },
     "metadata": {},
     "output_type": "display_data"
    },
    {
     "data": {
      "text/markdown": [
       "<span style=\"color:#33cc33\">Correct</span>"
      ],
      "text/plain": [
       "Correct"
      ]
     },
     "metadata": {},
     "output_type": "display_data"
    }
   ],
   "source": [
    "reviewer_mean_ratings = reviews.groupby('taster_name').points.mean()\n",
    "\n",
    "# Check your answer\n",
    "q5.check()"
   ]
  },
  {
   "cell_type": "code",
   "execution_count": 11,
   "id": "828e0bee",
   "metadata": {
    "execution": {
     "iopub.execute_input": "2022-06-24T17:06:27.664726Z",
     "iopub.status.busy": "2022-06-24T17:06:27.664077Z",
     "iopub.status.idle": "2022-06-24T17:06:27.668441Z",
     "shell.execute_reply": "2022-06-24T17:06:27.667554Z"
    },
    "papermill": {
     "duration": 0.016058,
     "end_time": "2022-06-24T17:06:27.670731",
     "exception": false,
     "start_time": "2022-06-24T17:06:27.654673",
     "status": "completed"
    },
    "tags": []
   },
   "outputs": [],
   "source": [
    "#q5.hint()\n",
    "#q5.solution()"
   ]
  },
  {
   "cell_type": "markdown",
   "id": "4d73483c",
   "metadata": {
    "papermill": {
     "duration": 0.007846,
     "end_time": "2022-06-24T17:06:27.686691",
     "exception": false,
     "start_time": "2022-06-24T17:06:27.678845",
     "status": "completed"
    },
    "tags": []
   },
   "source": [
    "Are there significant differences in the average scores assigned by the various reviewers? Run the cell below to use the `describe()` method to see a summary of the range of values."
   ]
  },
  {
   "cell_type": "code",
   "execution_count": 12,
   "id": "046340cd",
   "metadata": {
    "execution": {
     "iopub.execute_input": "2022-06-24T17:06:27.706277Z",
     "iopub.status.busy": "2022-06-24T17:06:27.705631Z",
     "iopub.status.idle": "2022-06-24T17:06:27.718150Z",
     "shell.execute_reply": "2022-06-24T17:06:27.717358Z"
    },
    "papermill": {
     "duration": 0.02484,
     "end_time": "2022-06-24T17:06:27.720418",
     "exception": false,
     "start_time": "2022-06-24T17:06:27.695578",
     "status": "completed"
    },
    "tags": []
   },
   "outputs": [
    {
     "data": {
      "text/plain": [
       "count    19.000000\n",
       "mean     88.233026\n",
       "std       1.243610\n",
       "min      85.855422\n",
       "25%      87.323501\n",
       "50%      88.536235\n",
       "75%      88.975256\n",
       "max      90.562551\n",
       "Name: points, dtype: float64"
      ]
     },
     "execution_count": 12,
     "metadata": {},
     "output_type": "execute_result"
    }
   ],
   "source": [
    "reviewer_mean_ratings.describe()"
   ]
  },
  {
   "cell_type": "markdown",
   "id": "3b46225f",
   "metadata": {
    "papermill": {
     "duration": 0.008041,
     "end_time": "2022-06-24T17:06:27.737054",
     "exception": false,
     "start_time": "2022-06-24T17:06:27.729013",
     "status": "completed"
    },
    "tags": []
   },
   "source": [
    "## 6.\n",
    "What combination of countries and varieties are most common? Create a `Series` whose index is a `MultiIndex`of `{country, variety}` pairs. For example, a pinot noir produced in the US should map to `{\"US\", \"Pinot Noir\"}`. Sort the values in the `Series` in descending order based on wine count."
   ]
  },
  {
   "cell_type": "code",
   "execution_count": 13,
   "id": "1a2b6100",
   "metadata": {
    "execution": {
     "iopub.execute_input": "2022-06-24T17:06:27.756005Z",
     "iopub.status.busy": "2022-06-24T17:06:27.755044Z",
     "iopub.status.idle": "2022-06-24T17:06:27.806945Z",
     "shell.execute_reply": "2022-06-24T17:06:27.805625Z"
    },
    "papermill": {
     "duration": 0.064375,
     "end_time": "2022-06-24T17:06:27.809799",
     "exception": false,
     "start_time": "2022-06-24T17:06:27.745424",
     "status": "completed"
    },
    "tags": []
   },
   "outputs": [
    {
     "data": {
      "application/javascript": [
       "parent.postMessage({\"jupyterEvent\": \"custom.exercise_interaction\", \"data\": {\"outcomeType\": 1, \"valueTowardsCompletion\": 0.16666666666666666, \"interactionType\": 1, \"questionType\": 1, \"questionId\": \"6_GroupbyCountryVariety\", \"learnToolsVersion\": \"0.3.4\", \"failureMessage\": \"\", \"exceptionClass\": \"\", \"trace\": \"\"}}, \"*\")"
      ],
      "text/plain": [
       "<IPython.core.display.Javascript object>"
      ]
     },
     "metadata": {},
     "output_type": "display_data"
    },
    {
     "data": {
      "text/markdown": [
       "<span style=\"color:#33cc33\">Correct</span>"
      ],
      "text/plain": [
       "Correct"
      ]
     },
     "metadata": {},
     "output_type": "display_data"
    }
   ],
   "source": [
    "country_variety_counts = reviews.groupby(['country', 'variety']).size().sort_values(ascending=False)\n",
    "\n",
    "# Check your answer\n",
    "q6.check()"
   ]
  },
  {
   "cell_type": "code",
   "execution_count": 14,
   "id": "40e66ceb",
   "metadata": {
    "execution": {
     "iopub.execute_input": "2022-06-24T17:06:27.829579Z",
     "iopub.status.busy": "2022-06-24T17:06:27.828933Z",
     "iopub.status.idle": "2022-06-24T17:06:27.833249Z",
     "shell.execute_reply": "2022-06-24T17:06:27.832376Z"
    },
    "papermill": {
     "duration": 0.01654,
     "end_time": "2022-06-24T17:06:27.835397",
     "exception": false,
     "start_time": "2022-06-24T17:06:27.818857",
     "status": "completed"
    },
    "tags": []
   },
   "outputs": [],
   "source": [
    "#q6.hint()\n",
    "#q6.solution()"
   ]
  },
  {
   "cell_type": "markdown",
   "id": "f5e3cc03",
   "metadata": {
    "papermill": {
     "duration": 0.007939,
     "end_time": "2022-06-24T17:06:27.851802",
     "exception": false,
     "start_time": "2022-06-24T17:06:27.843863",
     "status": "completed"
    },
    "tags": []
   },
   "source": [
    "# Keep going\n",
    "\n",
    "Move on to the [**data types and missing data**](https://www.kaggle.com/residentmario/data-types-and-missing-values)."
   ]
  },
  {
   "cell_type": "markdown",
   "id": "42879cd8",
   "metadata": {
    "papermill": {
     "duration": 0.008383,
     "end_time": "2022-06-24T17:06:27.869084",
     "exception": false,
     "start_time": "2022-06-24T17:06:27.860701",
     "status": "completed"
    },
    "tags": []
   },
   "source": [
    "---\n",
    "\n",
    "\n",
    "\n",
    "\n",
    "*Have questions or comments? Visit the [course discussion forum](https://www.kaggle.com/learn/pandas/discussion) to chat with other learners.*"
   ]
  }
 ],
 "metadata": {
  "kernelspec": {
   "display_name": "Python 3",
   "language": "python",
   "name": "python3"
  },
  "language_info": {
   "codemirror_mode": {
    "name": "ipython",
    "version": 3
   },
   "file_extension": ".py",
   "mimetype": "text/x-python",
   "name": "python",
   "nbconvert_exporter": "python",
   "pygments_lexer": "ipython3",
   "version": "3.7.12"
  },
  "papermill": {
   "default_parameters": {},
   "duration": 14.962836,
   "end_time": "2022-06-24T17:06:28.600257",
   "environment_variables": {},
   "exception": null,
   "input_path": "__notebook__.ipynb",
   "output_path": "__notebook__.ipynb",
   "parameters": {},
   "start_time": "2022-06-24T17:06:13.637421",
   "version": "2.3.4"
  }
 },
 "nbformat": 4,
 "nbformat_minor": 5
}
