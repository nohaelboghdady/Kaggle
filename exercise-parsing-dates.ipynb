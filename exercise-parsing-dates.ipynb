{
 "cells": [
  {
   "cell_type": "markdown",
   "id": "59a079b2",
   "metadata": {
    "papermill": {
     "duration": 0.009234,
     "end_time": "2022-06-23T09:00:55.158753",
     "exception": false,
     "start_time": "2022-06-23T09:00:55.149519",
     "status": "completed"
    },
    "tags": []
   },
   "source": [
    "**This notebook is an exercise in the [Data Cleaning](https://www.kaggle.com/learn/data-cleaning) course.  You can reference the tutorial at [this link](https://www.kaggle.com/alexisbcook/parsing-dates).**\n",
    "\n",
    "---\n"
   ]
  },
  {
   "cell_type": "markdown",
   "id": "4a0335e1",
   "metadata": {
    "papermill": {
     "duration": 0.007624,
     "end_time": "2022-06-23T09:00:55.174430",
     "exception": false,
     "start_time": "2022-06-23T09:00:55.166806",
     "status": "completed"
    },
    "tags": []
   },
   "source": [
    "In this exercise, you'll apply what you learned in the **Parsing dates** tutorial.\n",
    "\n",
    "# Setup\n",
    "\n",
    "The questions below will give you feedback on your work. Run the following cell to set up the feedback system."
   ]
  },
  {
   "cell_type": "code",
   "execution_count": 1,
   "id": "1e3aad43",
   "metadata": {
    "execution": {
     "iopub.execute_input": "2022-06-23T09:00:55.193729Z",
     "iopub.status.busy": "2022-06-23T09:00:55.192958Z",
     "iopub.status.idle": "2022-06-23T09:00:56.728045Z",
     "shell.execute_reply": "2022-06-23T09:00:56.726331Z"
    },
    "papermill": {
     "duration": 1.549719,
     "end_time": "2022-06-23T09:00:56.732566",
     "exception": false,
     "start_time": "2022-06-23T09:00:55.182847",
     "status": "completed"
    },
    "tags": []
   },
   "outputs": [
    {
     "name": "stdout",
     "output_type": "stream",
     "text": [
      "Setup Complete\n"
     ]
    }
   ],
   "source": [
    "from learntools.core import binder\n",
    "binder.bind(globals())\n",
    "from learntools.data_cleaning.ex3 import *\n",
    "print(\"Setup Complete\")"
   ]
  },
  {
   "cell_type": "markdown",
   "id": "79cb3655",
   "metadata": {
    "papermill": {
     "duration": 0.008054,
     "end_time": "2022-06-23T09:00:56.749230",
     "exception": false,
     "start_time": "2022-06-23T09:00:56.741176",
     "status": "completed"
    },
    "tags": []
   },
   "source": [
    "# Get our environment set up\n",
    "\n",
    "The first thing we'll need to do is load in the libraries and dataset we'll be using. We'll be working with a dataset containing information on earthquakes that occured between 1965 and 2016."
   ]
  },
  {
   "cell_type": "code",
   "execution_count": 2,
   "id": "dd1de271",
   "metadata": {
    "execution": {
     "iopub.execute_input": "2022-06-23T09:00:56.768340Z",
     "iopub.status.busy": "2022-06-23T09:00:56.767639Z",
     "iopub.status.idle": "2022-06-23T09:00:56.865976Z",
     "shell.execute_reply": "2022-06-23T09:00:56.864700Z"
    },
    "papermill": {
     "duration": 0.110934,
     "end_time": "2022-06-23T09:00:56.868669",
     "exception": false,
     "start_time": "2022-06-23T09:00:56.757735",
     "status": "completed"
    },
    "tags": []
   },
   "outputs": [],
   "source": [
    "# modules we'll use\n",
    "import pandas as pd\n",
    "import numpy as np\n",
    "import seaborn as sns\n",
    "import datetime\n",
    "\n",
    "# read in our data\n",
    "earthquakes = pd.read_csv(\"../input/earthquake-database/database.csv\")\n",
    "\n",
    "# set seed for reproducibility\n",
    "np.random.seed(0)"
   ]
  },
  {
   "cell_type": "markdown",
   "id": "849ca4c5",
   "metadata": {
    "papermill": {
     "duration": 0.008191,
     "end_time": "2022-06-23T09:00:56.885766",
     "exception": false,
     "start_time": "2022-06-23T09:00:56.877575",
     "status": "completed"
    },
    "tags": []
   },
   "source": [
    "# 1) Check the data type of our date column\n",
    "\n",
    "You'll be working with the \"Date\" column from the `earthquakes` dataframe.  Investigate this column now: does it look like it contains dates?  What is the dtype of the column?"
   ]
  },
  {
   "cell_type": "code",
   "execution_count": 3,
   "id": "c16ac21f",
   "metadata": {
    "execution": {
     "iopub.execute_input": "2022-06-23T09:00:56.904549Z",
     "iopub.status.busy": "2022-06-23T09:00:56.903863Z",
     "iopub.status.idle": "2022-06-23T09:00:56.913745Z",
     "shell.execute_reply": "2022-06-23T09:00:56.912501Z"
    },
    "papermill": {
     "duration": 0.022168,
     "end_time": "2022-06-23T09:00:56.916081",
     "exception": false,
     "start_time": "2022-06-23T09:00:56.893913",
     "status": "completed"
    },
    "tags": []
   },
   "outputs": [
    {
     "data": {
      "text/plain": [
       "dtype('O')"
      ]
     },
     "execution_count": 3,
     "metadata": {},
     "output_type": "execute_result"
    }
   ],
   "source": [
    "# TODO: Your code here!\n",
    "earthquakes.head()\n",
    "earthquakes[\"Date\"].dtype"
   ]
  },
  {
   "cell_type": "markdown",
   "id": "9ff64d68",
   "metadata": {
    "papermill": {
     "duration": 0.008127,
     "end_time": "2022-06-23T09:00:56.932854",
     "exception": false,
     "start_time": "2022-06-23T09:00:56.924727",
     "status": "completed"
    },
    "tags": []
   },
   "source": [
    "Once you have answered the question above, run the code cell below to get credit for your work."
   ]
  },
  {
   "cell_type": "code",
   "execution_count": 4,
   "id": "6c6617bd",
   "metadata": {
    "execution": {
     "iopub.execute_input": "2022-06-23T09:00:56.951878Z",
     "iopub.status.busy": "2022-06-23T09:00:56.950932Z",
     "iopub.status.idle": "2022-06-23T09:00:56.961619Z",
     "shell.execute_reply": "2022-06-23T09:00:56.960392Z"
    },
    "papermill": {
     "duration": 0.022914,
     "end_time": "2022-06-23T09:00:56.964074",
     "exception": false,
     "start_time": "2022-06-23T09:00:56.941160",
     "status": "completed"
    },
    "tags": []
   },
   "outputs": [
    {
     "data": {
      "application/javascript": [
       "parent.postMessage({\"jupyterEvent\": \"custom.exercise_interaction\", \"data\": {\"outcomeType\": 1, \"valueTowardsCompletion\": 0.25, \"interactionType\": 1, \"questionType\": 4, \"questionId\": \"1_CheckDtype\", \"learnToolsVersion\": \"0.3.4\", \"failureMessage\": \"\", \"exceptionClass\": \"\", \"trace\": \"\"}}, \"*\")"
      ],
      "text/plain": [
       "<IPython.core.display.Javascript object>"
      ]
     },
     "metadata": {},
     "output_type": "display_data"
    },
    {
     "data": {
      "text/markdown": [
       "<span style=\"color:#33cc33\">Correct:</span> \n",
       "\n",
       "The \"Date\" column in the `earthquakes` DataFrame does have dates.  The dtype is \"object\"."
      ],
      "text/plain": [
       "Correct: \n",
       "\n",
       "The \"Date\" column in the `earthquakes` DataFrame does have dates.  The dtype is \"object\"."
      ]
     },
     "metadata": {},
     "output_type": "display_data"
    }
   ],
   "source": [
    "# Check your answer (Run this code cell to receive credit!)\n",
    "q1.check()"
   ]
  },
  {
   "cell_type": "code",
   "execution_count": 5,
   "id": "19e72f6a",
   "metadata": {
    "execution": {
     "iopub.execute_input": "2022-06-23T09:00:56.983315Z",
     "iopub.status.busy": "2022-06-23T09:00:56.982766Z",
     "iopub.status.idle": "2022-06-23T09:00:56.988594Z",
     "shell.execute_reply": "2022-06-23T09:00:56.986899Z"
    },
    "papermill": {
     "duration": 0.018893,
     "end_time": "2022-06-23T09:00:56.991572",
     "exception": false,
     "start_time": "2022-06-23T09:00:56.972679",
     "status": "completed"
    },
    "tags": []
   },
   "outputs": [],
   "source": [
    "# Line below will give you a hint\n",
    "#q1.hint()"
   ]
  },
  {
   "cell_type": "markdown",
   "id": "bbde3252",
   "metadata": {
    "papermill": {
     "duration": 0.009211,
     "end_time": "2022-06-23T09:00:57.009652",
     "exception": false,
     "start_time": "2022-06-23T09:00:57.000441",
     "status": "completed"
    },
    "tags": []
   },
   "source": [
    "# 2) Convert our date columns to datetime\n",
    "\n",
    "Most of the entries in the \"Date\" column follow the same format: \"month/day/four-digit year\".  However, the entry at index 3378 follows a completely different pattern.  Run the code cell below to see this."
   ]
  },
  {
   "cell_type": "code",
   "execution_count": 6,
   "id": "0326ad3c",
   "metadata": {
    "execution": {
     "iopub.execute_input": "2022-06-23T09:00:57.029649Z",
     "iopub.status.busy": "2022-06-23T09:00:57.029231Z",
     "iopub.status.idle": "2022-06-23T09:00:57.065139Z",
     "shell.execute_reply": "2022-06-23T09:00:57.064189Z"
    },
    "papermill": {
     "duration": 0.049138,
     "end_time": "2022-06-23T09:00:57.067414",
     "exception": false,
     "start_time": "2022-06-23T09:00:57.018276",
     "status": "completed"
    },
    "tags": []
   },
   "outputs": [
    {
     "data": {
      "text/html": [
       "<div>\n",
       "<style scoped>\n",
       "    .dataframe tbody tr th:only-of-type {\n",
       "        vertical-align: middle;\n",
       "    }\n",
       "\n",
       "    .dataframe tbody tr th {\n",
       "        vertical-align: top;\n",
       "    }\n",
       "\n",
       "    .dataframe thead th {\n",
       "        text-align: right;\n",
       "    }\n",
       "</style>\n",
       "<table border=\"1\" class=\"dataframe\">\n",
       "  <thead>\n",
       "    <tr style=\"text-align: right;\">\n",
       "      <th></th>\n",
       "      <th>Date</th>\n",
       "      <th>Time</th>\n",
       "      <th>Latitude</th>\n",
       "      <th>Longitude</th>\n",
       "      <th>Type</th>\n",
       "      <th>Depth</th>\n",
       "      <th>Depth Error</th>\n",
       "      <th>Depth Seismic Stations</th>\n",
       "      <th>Magnitude</th>\n",
       "      <th>Magnitude Type</th>\n",
       "      <th>...</th>\n",
       "      <th>Magnitude Seismic Stations</th>\n",
       "      <th>Azimuthal Gap</th>\n",
       "      <th>Horizontal Distance</th>\n",
       "      <th>Horizontal Error</th>\n",
       "      <th>Root Mean Square</th>\n",
       "      <th>ID</th>\n",
       "      <th>Source</th>\n",
       "      <th>Location Source</th>\n",
       "      <th>Magnitude Source</th>\n",
       "      <th>Status</th>\n",
       "    </tr>\n",
       "  </thead>\n",
       "  <tbody>\n",
       "    <tr>\n",
       "      <th>3378</th>\n",
       "      <td>1975-02-23T02:58:41.000Z</td>\n",
       "      <td>1975-02-23T02:58:41.000Z</td>\n",
       "      <td>8.017</td>\n",
       "      <td>124.075</td>\n",
       "      <td>Earthquake</td>\n",
       "      <td>623.0</td>\n",
       "      <td>NaN</td>\n",
       "      <td>NaN</td>\n",
       "      <td>5.6</td>\n",
       "      <td>MB</td>\n",
       "      <td>...</td>\n",
       "      <td>NaN</td>\n",
       "      <td>NaN</td>\n",
       "      <td>NaN</td>\n",
       "      <td>NaN</td>\n",
       "      <td>NaN</td>\n",
       "      <td>USP0000A09</td>\n",
       "      <td>US</td>\n",
       "      <td>US</td>\n",
       "      <td>US</td>\n",
       "      <td>Reviewed</td>\n",
       "    </tr>\n",
       "    <tr>\n",
       "      <th>3379</th>\n",
       "      <td>02/23/1975</td>\n",
       "      <td>03:53:36</td>\n",
       "      <td>-21.727</td>\n",
       "      <td>-71.356</td>\n",
       "      <td>Earthquake</td>\n",
       "      <td>33.0</td>\n",
       "      <td>NaN</td>\n",
       "      <td>NaN</td>\n",
       "      <td>5.6</td>\n",
       "      <td>MB</td>\n",
       "      <td>...</td>\n",
       "      <td>NaN</td>\n",
       "      <td>NaN</td>\n",
       "      <td>NaN</td>\n",
       "      <td>NaN</td>\n",
       "      <td>NaN</td>\n",
       "      <td>USP0000A0A</td>\n",
       "      <td>US</td>\n",
       "      <td>US</td>\n",
       "      <td>US</td>\n",
       "      <td>Reviewed</td>\n",
       "    </tr>\n",
       "    <tr>\n",
       "      <th>3380</th>\n",
       "      <td>02/23/1975</td>\n",
       "      <td>07:34:11</td>\n",
       "      <td>-10.879</td>\n",
       "      <td>166.667</td>\n",
       "      <td>Earthquake</td>\n",
       "      <td>33.0</td>\n",
       "      <td>NaN</td>\n",
       "      <td>NaN</td>\n",
       "      <td>5.5</td>\n",
       "      <td>MS</td>\n",
       "      <td>...</td>\n",
       "      <td>NaN</td>\n",
       "      <td>NaN</td>\n",
       "      <td>NaN</td>\n",
       "      <td>NaN</td>\n",
       "      <td>NaN</td>\n",
       "      <td>USP0000A0C</td>\n",
       "      <td>US</td>\n",
       "      <td>US</td>\n",
       "      <td>US</td>\n",
       "      <td>Reviewed</td>\n",
       "    </tr>\n",
       "    <tr>\n",
       "      <th>3381</th>\n",
       "      <td>02/25/1975</td>\n",
       "      <td>05:20:05</td>\n",
       "      <td>-7.388</td>\n",
       "      <td>149.798</td>\n",
       "      <td>Earthquake</td>\n",
       "      <td>33.0</td>\n",
       "      <td>NaN</td>\n",
       "      <td>NaN</td>\n",
       "      <td>5.5</td>\n",
       "      <td>MB</td>\n",
       "      <td>...</td>\n",
       "      <td>NaN</td>\n",
       "      <td>NaN</td>\n",
       "      <td>NaN</td>\n",
       "      <td>NaN</td>\n",
       "      <td>NaN</td>\n",
       "      <td>USP0000A12</td>\n",
       "      <td>US</td>\n",
       "      <td>US</td>\n",
       "      <td>US</td>\n",
       "      <td>Reviewed</td>\n",
       "    </tr>\n",
       "    <tr>\n",
       "      <th>3382</th>\n",
       "      <td>02/26/1975</td>\n",
       "      <td>04:48:55</td>\n",
       "      <td>85.047</td>\n",
       "      <td>97.969</td>\n",
       "      <td>Earthquake</td>\n",
       "      <td>33.0</td>\n",
       "      <td>NaN</td>\n",
       "      <td>NaN</td>\n",
       "      <td>5.6</td>\n",
       "      <td>MS</td>\n",
       "      <td>...</td>\n",
       "      <td>NaN</td>\n",
       "      <td>NaN</td>\n",
       "      <td>NaN</td>\n",
       "      <td>NaN</td>\n",
       "      <td>NaN</td>\n",
       "      <td>USP0000A1H</td>\n",
       "      <td>US</td>\n",
       "      <td>US</td>\n",
       "      <td>US</td>\n",
       "      <td>Reviewed</td>\n",
       "    </tr>\n",
       "  </tbody>\n",
       "</table>\n",
       "<p>5 rows × 21 columns</p>\n",
       "</div>"
      ],
      "text/plain": [
       "                          Date                      Time  Latitude  Longitude  \\\n",
       "3378  1975-02-23T02:58:41.000Z  1975-02-23T02:58:41.000Z     8.017    124.075   \n",
       "3379                02/23/1975                  03:53:36   -21.727    -71.356   \n",
       "3380                02/23/1975                  07:34:11   -10.879    166.667   \n",
       "3381                02/25/1975                  05:20:05    -7.388    149.798   \n",
       "3382                02/26/1975                  04:48:55    85.047     97.969   \n",
       "\n",
       "            Type  Depth  Depth Error  Depth Seismic Stations  Magnitude  \\\n",
       "3378  Earthquake  623.0          NaN                     NaN        5.6   \n",
       "3379  Earthquake   33.0          NaN                     NaN        5.6   \n",
       "3380  Earthquake   33.0          NaN                     NaN        5.5   \n",
       "3381  Earthquake   33.0          NaN                     NaN        5.5   \n",
       "3382  Earthquake   33.0          NaN                     NaN        5.6   \n",
       "\n",
       "     Magnitude Type  ...  Magnitude Seismic Stations  Azimuthal Gap  \\\n",
       "3378             MB  ...                         NaN            NaN   \n",
       "3379             MB  ...                         NaN            NaN   \n",
       "3380             MS  ...                         NaN            NaN   \n",
       "3381             MB  ...                         NaN            NaN   \n",
       "3382             MS  ...                         NaN            NaN   \n",
       "\n",
       "      Horizontal Distance  Horizontal Error  Root Mean Square          ID  \\\n",
       "3378                  NaN               NaN               NaN  USP0000A09   \n",
       "3379                  NaN               NaN               NaN  USP0000A0A   \n",
       "3380                  NaN               NaN               NaN  USP0000A0C   \n",
       "3381                  NaN               NaN               NaN  USP0000A12   \n",
       "3382                  NaN               NaN               NaN  USP0000A1H   \n",
       "\n",
       "     Source Location Source Magnitude Source    Status  \n",
       "3378     US              US               US  Reviewed  \n",
       "3379     US              US               US  Reviewed  \n",
       "3380     US              US               US  Reviewed  \n",
       "3381     US              US               US  Reviewed  \n",
       "3382     US              US               US  Reviewed  \n",
       "\n",
       "[5 rows x 21 columns]"
      ]
     },
     "execution_count": 6,
     "metadata": {},
     "output_type": "execute_result"
    }
   ],
   "source": [
    "earthquakes[3378:3383]"
   ]
  },
  {
   "cell_type": "markdown",
   "id": "f1c114a8",
   "metadata": {
    "papermill": {
     "duration": 0.008614,
     "end_time": "2022-06-23T09:00:57.085218",
     "exception": false,
     "start_time": "2022-06-23T09:00:57.076604",
     "status": "completed"
    },
    "tags": []
   },
   "source": [
    "This does appear to be an issue with data entry: ideally, all entries in the column have the same format.  We can get an idea of how widespread this issue is by checking the length of each entry in the \"Date\" column."
   ]
  },
  {
   "cell_type": "code",
   "execution_count": 7,
   "id": "2c8ac9cb",
   "metadata": {
    "execution": {
     "iopub.execute_input": "2022-06-23T09:00:57.105970Z",
     "iopub.status.busy": "2022-06-23T09:00:57.104657Z",
     "iopub.status.idle": "2022-06-23T09:00:57.132456Z",
     "shell.execute_reply": "2022-06-23T09:00:57.131676Z"
    },
    "papermill": {
     "duration": 0.040522,
     "end_time": "2022-06-23T09:00:57.134667",
     "exception": false,
     "start_time": "2022-06-23T09:00:57.094145",
     "status": "completed"
    },
    "tags": []
   },
   "outputs": [
    {
     "data": {
      "text/plain": [
       "10    23409\n",
       "24        3\n",
       "Name: Date, dtype: int64"
      ]
     },
     "execution_count": 7,
     "metadata": {},
     "output_type": "execute_result"
    }
   ],
   "source": [
    "date_lengths = earthquakes.Date.str.len()\n",
    "date_lengths.value_counts()"
   ]
  },
  {
   "cell_type": "markdown",
   "id": "ecd71578",
   "metadata": {
    "papermill": {
     "duration": 0.008654,
     "end_time": "2022-06-23T09:00:57.152425",
     "exception": false,
     "start_time": "2022-06-23T09:00:57.143771",
     "status": "completed"
    },
    "tags": []
   },
   "source": [
    "Looks like there are two more rows that has a date in a different format.  Run the code cell below to obtain the indices corresponding to those rows and print the data."
   ]
  },
  {
   "cell_type": "code",
   "execution_count": 8,
   "id": "0f90d9ff",
   "metadata": {
    "execution": {
     "iopub.execute_input": "2022-06-23T09:00:57.172633Z",
     "iopub.status.busy": "2022-06-23T09:00:57.171780Z",
     "iopub.status.idle": "2022-06-23T09:00:57.204194Z",
     "shell.execute_reply": "2022-06-23T09:00:57.202585Z"
    },
    "papermill": {
     "duration": 0.045995,
     "end_time": "2022-06-23T09:00:57.207582",
     "exception": false,
     "start_time": "2022-06-23T09:00:57.161587",
     "status": "completed"
    },
    "tags": []
   },
   "outputs": [
    {
     "name": "stdout",
     "output_type": "stream",
     "text": [
      "Indices with corrupted data: [ 3378  7512 20650]\n"
     ]
    },
    {
     "data": {
      "text/html": [
       "<div>\n",
       "<style scoped>\n",
       "    .dataframe tbody tr th:only-of-type {\n",
       "        vertical-align: middle;\n",
       "    }\n",
       "\n",
       "    .dataframe tbody tr th {\n",
       "        vertical-align: top;\n",
       "    }\n",
       "\n",
       "    .dataframe thead th {\n",
       "        text-align: right;\n",
       "    }\n",
       "</style>\n",
       "<table border=\"1\" class=\"dataframe\">\n",
       "  <thead>\n",
       "    <tr style=\"text-align: right;\">\n",
       "      <th></th>\n",
       "      <th>Date</th>\n",
       "      <th>Time</th>\n",
       "      <th>Latitude</th>\n",
       "      <th>Longitude</th>\n",
       "      <th>Type</th>\n",
       "      <th>Depth</th>\n",
       "      <th>Depth Error</th>\n",
       "      <th>Depth Seismic Stations</th>\n",
       "      <th>Magnitude</th>\n",
       "      <th>Magnitude Type</th>\n",
       "      <th>...</th>\n",
       "      <th>Magnitude Seismic Stations</th>\n",
       "      <th>Azimuthal Gap</th>\n",
       "      <th>Horizontal Distance</th>\n",
       "      <th>Horizontal Error</th>\n",
       "      <th>Root Mean Square</th>\n",
       "      <th>ID</th>\n",
       "      <th>Source</th>\n",
       "      <th>Location Source</th>\n",
       "      <th>Magnitude Source</th>\n",
       "      <th>Status</th>\n",
       "    </tr>\n",
       "  </thead>\n",
       "  <tbody>\n",
       "    <tr>\n",
       "      <th>3378</th>\n",
       "      <td>1975-02-23T02:58:41.000Z</td>\n",
       "      <td>1975-02-23T02:58:41.000Z</td>\n",
       "      <td>8.017</td>\n",
       "      <td>124.075</td>\n",
       "      <td>Earthquake</td>\n",
       "      <td>623.0</td>\n",
       "      <td>NaN</td>\n",
       "      <td>NaN</td>\n",
       "      <td>5.6</td>\n",
       "      <td>MB</td>\n",
       "      <td>...</td>\n",
       "      <td>NaN</td>\n",
       "      <td>NaN</td>\n",
       "      <td>NaN</td>\n",
       "      <td>NaN</td>\n",
       "      <td>NaN</td>\n",
       "      <td>USP0000A09</td>\n",
       "      <td>US</td>\n",
       "      <td>US</td>\n",
       "      <td>US</td>\n",
       "      <td>Reviewed</td>\n",
       "    </tr>\n",
       "    <tr>\n",
       "      <th>7512</th>\n",
       "      <td>1985-04-28T02:53:41.530Z</td>\n",
       "      <td>1985-04-28T02:53:41.530Z</td>\n",
       "      <td>-32.998</td>\n",
       "      <td>-71.766</td>\n",
       "      <td>Earthquake</td>\n",
       "      <td>33.0</td>\n",
       "      <td>NaN</td>\n",
       "      <td>NaN</td>\n",
       "      <td>5.6</td>\n",
       "      <td>MW</td>\n",
       "      <td>...</td>\n",
       "      <td>NaN</td>\n",
       "      <td>NaN</td>\n",
       "      <td>NaN</td>\n",
       "      <td>NaN</td>\n",
       "      <td>1.30</td>\n",
       "      <td>USP0002E81</td>\n",
       "      <td>US</td>\n",
       "      <td>US</td>\n",
       "      <td>HRV</td>\n",
       "      <td>Reviewed</td>\n",
       "    </tr>\n",
       "    <tr>\n",
       "      <th>20650</th>\n",
       "      <td>2011-03-13T02:23:34.520Z</td>\n",
       "      <td>2011-03-13T02:23:34.520Z</td>\n",
       "      <td>36.344</td>\n",
       "      <td>142.344</td>\n",
       "      <td>Earthquake</td>\n",
       "      <td>10.1</td>\n",
       "      <td>13.9</td>\n",
       "      <td>289.0</td>\n",
       "      <td>5.8</td>\n",
       "      <td>MWC</td>\n",
       "      <td>...</td>\n",
       "      <td>NaN</td>\n",
       "      <td>32.3</td>\n",
       "      <td>NaN</td>\n",
       "      <td>NaN</td>\n",
       "      <td>1.06</td>\n",
       "      <td>USP000HWQP</td>\n",
       "      <td>US</td>\n",
       "      <td>US</td>\n",
       "      <td>GCMT</td>\n",
       "      <td>Reviewed</td>\n",
       "    </tr>\n",
       "  </tbody>\n",
       "</table>\n",
       "<p>3 rows × 21 columns</p>\n",
       "</div>"
      ],
      "text/plain": [
       "                           Date                      Time  Latitude  \\\n",
       "3378   1975-02-23T02:58:41.000Z  1975-02-23T02:58:41.000Z     8.017   \n",
       "7512   1985-04-28T02:53:41.530Z  1985-04-28T02:53:41.530Z   -32.998   \n",
       "20650  2011-03-13T02:23:34.520Z  2011-03-13T02:23:34.520Z    36.344   \n",
       "\n",
       "       Longitude        Type  Depth  Depth Error  Depth Seismic Stations  \\\n",
       "3378     124.075  Earthquake  623.0          NaN                     NaN   \n",
       "7512     -71.766  Earthquake   33.0          NaN                     NaN   \n",
       "20650    142.344  Earthquake   10.1         13.9                   289.0   \n",
       "\n",
       "       Magnitude Magnitude Type  ...  Magnitude Seismic Stations  \\\n",
       "3378         5.6             MB  ...                         NaN   \n",
       "7512         5.6             MW  ...                         NaN   \n",
       "20650        5.8            MWC  ...                         NaN   \n",
       "\n",
       "       Azimuthal Gap  Horizontal Distance  Horizontal Error  Root Mean Square  \\\n",
       "3378             NaN                  NaN               NaN               NaN   \n",
       "7512             NaN                  NaN               NaN              1.30   \n",
       "20650           32.3                  NaN               NaN              1.06   \n",
       "\n",
       "               ID Source Location Source Magnitude Source    Status  \n",
       "3378   USP0000A09     US              US               US  Reviewed  \n",
       "7512   USP0002E81     US              US              HRV  Reviewed  \n",
       "20650  USP000HWQP     US              US             GCMT  Reviewed  \n",
       "\n",
       "[3 rows x 21 columns]"
      ]
     },
     "execution_count": 8,
     "metadata": {},
     "output_type": "execute_result"
    }
   ],
   "source": [
    "indices = np.where([date_lengths == 24])[1]\n",
    "print('Indices with corrupted data:', indices)\n",
    "earthquakes.loc[indices]"
   ]
  },
  {
   "cell_type": "markdown",
   "id": "33dad739",
   "metadata": {
    "papermill": {
     "duration": 0.009307,
     "end_time": "2022-06-23T09:00:57.226531",
     "exception": false,
     "start_time": "2022-06-23T09:00:57.217224",
     "status": "completed"
    },
    "tags": []
   },
   "source": [
    "Given all of this information, it's your turn to create a new column \"date_parsed\" in the `earthquakes` dataset that has correctly parsed dates in it.  \n",
    "\n",
    "**Note**: When completing this problem, you are allowed to (but are not required to) amend the entries in the \"Date\" and \"Time\" columns.  Do not remove any rows from the dataset."
   ]
  },
  {
   "cell_type": "code",
   "execution_count": 9,
   "id": "c8974377",
   "metadata": {
    "execution": {
     "iopub.execute_input": "2022-06-23T09:00:57.247387Z",
     "iopub.status.busy": "2022-06-23T09:00:57.247026Z",
     "iopub.status.idle": "2022-06-23T09:00:57.321897Z",
     "shell.execute_reply": "2022-06-23T09:00:57.320451Z"
    },
    "papermill": {
     "duration": 0.088588,
     "end_time": "2022-06-23T09:00:57.324564",
     "exception": false,
     "start_time": "2022-06-23T09:00:57.235976",
     "status": "completed"
    },
    "tags": []
   },
   "outputs": [
    {
     "data": {
      "application/javascript": [
       "parent.postMessage({\"jupyterEvent\": \"custom.exercise_interaction\", \"data\": {\"outcomeType\": 1, \"valueTowardsCompletion\": 0.25, \"interactionType\": 1, \"questionType\": 2, \"questionId\": \"2_ConvertToDatetime\", \"learnToolsVersion\": \"0.3.4\", \"failureMessage\": \"\", \"exceptionClass\": \"\", \"trace\": \"\"}}, \"*\")"
      ],
      "text/plain": [
       "<IPython.core.display.Javascript object>"
      ]
     },
     "metadata": {},
     "output_type": "display_data"
    },
    {
     "data": {
      "text/markdown": [
       "<span style=\"color:#33cc33\">Correct</span>"
      ],
      "text/plain": [
       "Correct"
      ]
     },
     "metadata": {},
     "output_type": "display_data"
    }
   ],
   "source": [
    "# TODO: Your code here\n",
    "earthquakes.loc[3378, \"Date\"] = \"02/23/1975\"\n",
    "earthquakes.loc[7512, \"Date\"] = \"04/28/1985\"\n",
    "earthquakes.loc[20650, \"Date\"] = \"03/13/2011\"\n",
    "earthquakes['date_parsed'] = pd.to_datetime(earthquakes['Date'], format=\"%m/%d/%Y\")\n",
    "q2.check()"
   ]
  },
  {
   "cell_type": "code",
   "execution_count": 10,
   "id": "070aff5b",
   "metadata": {
    "execution": {
     "iopub.execute_input": "2022-06-23T09:00:57.346299Z",
     "iopub.status.busy": "2022-06-23T09:00:57.345919Z",
     "iopub.status.idle": "2022-06-23T09:00:57.350820Z",
     "shell.execute_reply": "2022-06-23T09:00:57.349613Z"
    },
    "papermill": {
     "duration": 0.019214,
     "end_time": "2022-06-23T09:00:57.353584",
     "exception": false,
     "start_time": "2022-06-23T09:00:57.334370",
     "status": "completed"
    },
    "tags": []
   },
   "outputs": [],
   "source": [
    "# Lines below will give you a hint or solution code\n",
    "#q2.hint()\n",
    "#q2.solution()"
   ]
  },
  {
   "cell_type": "markdown",
   "id": "904e2840",
   "metadata": {
    "papermill": {
     "duration": 0.009606,
     "end_time": "2022-06-23T09:00:57.373260",
     "exception": false,
     "start_time": "2022-06-23T09:00:57.363654",
     "status": "completed"
    },
    "tags": []
   },
   "source": [
    "# 3) Select the day of the month\n",
    "\n",
    "Create a Pandas Series `day_of_month_earthquakes` containing the day of the month from the \"date_parsed\" column."
   ]
  },
  {
   "cell_type": "code",
   "execution_count": 11,
   "id": "05263c33",
   "metadata": {
    "execution": {
     "iopub.execute_input": "2022-06-23T09:00:57.395774Z",
     "iopub.status.busy": "2022-06-23T09:00:57.395366Z",
     "iopub.status.idle": "2022-06-23T09:00:57.406883Z",
     "shell.execute_reply": "2022-06-23T09:00:57.405943Z"
    },
    "papermill": {
     "duration": 0.025804,
     "end_time": "2022-06-23T09:00:57.409038",
     "exception": false,
     "start_time": "2022-06-23T09:00:57.383234",
     "status": "completed"
    },
    "tags": []
   },
   "outputs": [
    {
     "data": {
      "application/javascript": [
       "parent.postMessage({\"jupyterEvent\": \"custom.exercise_interaction\", \"data\": {\"outcomeType\": 1, \"valueTowardsCompletion\": 0.25, \"interactionType\": 1, \"questionType\": 1, \"questionId\": \"3_DayOfMonth\", \"learnToolsVersion\": \"0.3.4\", \"failureMessage\": \"\", \"exceptionClass\": \"\", \"trace\": \"\"}}, \"*\")"
      ],
      "text/plain": [
       "<IPython.core.display.Javascript object>"
      ]
     },
     "metadata": {},
     "output_type": "display_data"
    },
    {
     "data": {
      "text/markdown": [
       "<span style=\"color:#33cc33\">Correct</span>"
      ],
      "text/plain": [
       "Correct"
      ]
     },
     "metadata": {},
     "output_type": "display_data"
    }
   ],
   "source": [
    "# try to get the day of the month from the date column\n",
    "day_of_month_earthquakes = earthquakes['date_parsed'].dt.day\n",
    "\n",
    "# Check your answer\n",
    "q3.check()"
   ]
  },
  {
   "cell_type": "code",
   "execution_count": 12,
   "id": "c640a3ad",
   "metadata": {
    "execution": {
     "iopub.execute_input": "2022-06-23T09:00:57.430974Z",
     "iopub.status.busy": "2022-06-23T09:00:57.430303Z",
     "iopub.status.idle": "2022-06-23T09:00:57.434660Z",
     "shell.execute_reply": "2022-06-23T09:00:57.433641Z"
    },
    "papermill": {
     "duration": 0.018191,
     "end_time": "2022-06-23T09:00:57.437173",
     "exception": false,
     "start_time": "2022-06-23T09:00:57.418982",
     "status": "completed"
    },
    "tags": []
   },
   "outputs": [],
   "source": [
    "# Lines below will give you a hint or solution code\n",
    "#q3.hint()\n",
    "#q3.solution()"
   ]
  },
  {
   "cell_type": "markdown",
   "id": "360a6218",
   "metadata": {
    "papermill": {
     "duration": 0.009699,
     "end_time": "2022-06-23T09:00:57.457204",
     "exception": false,
     "start_time": "2022-06-23T09:00:57.447505",
     "status": "completed"
    },
    "tags": []
   },
   "source": [
    "# 4) Plot the day of the month to check the date parsing\n",
    "\n",
    "Plot the days of the month from your earthquake dataset."
   ]
  },
  {
   "cell_type": "code",
   "execution_count": 13,
   "id": "d8969e03",
   "metadata": {
    "execution": {
     "iopub.execute_input": "2022-06-23T09:00:57.479320Z",
     "iopub.status.busy": "2022-06-23T09:00:57.478945Z",
     "iopub.status.idle": "2022-06-23T09:00:57.756179Z",
     "shell.execute_reply": "2022-06-23T09:00:57.754937Z"
    },
    "papermill": {
     "duration": 0.291764,
     "end_time": "2022-06-23T09:00:57.758813",
     "exception": false,
     "start_time": "2022-06-23T09:00:57.467049",
     "status": "completed"
    },
    "tags": []
   },
   "outputs": [
    {
     "name": "stderr",
     "output_type": "stream",
     "text": [
      "/opt/conda/lib/python3.7/site-packages/seaborn/distributions.py:2619: FutureWarning: `distplot` is a deprecated function and will be removed in a future version. Please adapt your code to use either `displot` (a figure-level function with similar flexibility) or `histplot` (an axes-level function for histograms).\n",
      "  warnings.warn(msg, FutureWarning)\n"
     ]
    },
    {
     "data": {
      "text/plain": [
       "<AxesSubplot:xlabel='date_parsed'>"
      ]
     },
     "execution_count": 13,
     "metadata": {},
     "output_type": "execute_result"
    },
    {
     "data": {
      "image/png": "[encoded data removed]",
      "text/plain": [
       "<Figure size 432x288 with 1 Axes>"
      ]
     },
     "metadata": {
      "needs_background": "light"
     },
     "output_type": "display_data"
    }
   ],
   "source": [
    "# TODO: Your code here!\n",
    "sns.distplot(day_of_month_earthquakes, kde=False, bins=31)"
   ]
  },
  {
   "cell_type": "markdown",
   "id": "22266017",
   "metadata": {
    "papermill": {
     "duration": 0.010057,
     "end_time": "2022-06-23T09:00:57.779250",
     "exception": false,
     "start_time": "2022-06-23T09:00:57.769193",
     "status": "completed"
    },
    "tags": []
   },
   "source": [
    "Does the graph make sense to you?"
   ]
  },
  {
   "cell_type": "code",
   "execution_count": 14,
   "id": "6c9cc536",
   "metadata": {
    "execution": {
     "iopub.execute_input": "2022-06-23T09:00:57.802389Z",
     "iopub.status.busy": "2022-06-23T09:00:57.801986Z",
     "iopub.status.idle": "2022-06-23T09:00:57.809932Z",
     "shell.execute_reply": "2022-06-23T09:00:57.809142Z"
    },
    "papermill": {
     "duration": 0.022461,
     "end_time": "2022-06-23T09:00:57.812079",
     "exception": false,
     "start_time": "2022-06-23T09:00:57.789618",
     "status": "completed"
    },
    "tags": []
   },
   "outputs": [
    {
     "data": {
      "application/javascript": [
       "parent.postMessage({\"jupyterEvent\": \"custom.exercise_interaction\", \"data\": {\"outcomeType\": 1, \"valueTowardsCompletion\": 0.25, \"interactionType\": 1, \"questionType\": 4, \"questionId\": \"4_PlotDayOfMonth\", \"learnToolsVersion\": \"0.3.4\", \"failureMessage\": \"\", \"exceptionClass\": \"\", \"trace\": \"\"}}, \"*\")"
      ],
      "text/plain": [
       "<IPython.core.display.Javascript object>"
      ]
     },
     "metadata": {},
     "output_type": "display_data"
    },
    {
     "data": {
      "text/markdown": [
       "<span style=\"color:#33cc33\">Correct:</span> \n",
       "\n",
       "The graph should make sense: it shows a relatively even distribution in days of the month,which is what we would expect."
      ],
      "text/plain": [
       "Correct: \n",
       "\n",
       "The graph should make sense: it shows a relatively even distribution in days of the month,which is what we would expect."
      ]
     },
     "metadata": {},
     "output_type": "display_data"
    }
   ],
   "source": [
    "# Check your answer (Run this code cell to receive credit!)\n",
    "q4.check()"
   ]
  },
  {
   "cell_type": "code",
   "execution_count": 15,
   "id": "3ccc07bd",
   "metadata": {
    "execution": {
     "iopub.execute_input": "2022-06-23T09:00:57.835437Z",
     "iopub.status.busy": "2022-06-23T09:00:57.834363Z",
     "iopub.status.idle": "2022-06-23T09:00:57.838992Z",
     "shell.execute_reply": "2022-06-23T09:00:57.837774Z"
    },
    "papermill": {
     "duration": 0.018914,
     "end_time": "2022-06-23T09:00:57.841558",
     "exception": false,
     "start_time": "2022-06-23T09:00:57.822644",
     "status": "completed"
    },
    "tags": []
   },
   "outputs": [],
   "source": [
    "# Line below will give you a hint\n",
    "#q4.hint()"
   ]
  },
  {
   "cell_type": "markdown",
   "id": "84727b6d",
   "metadata": {
    "papermill": {
     "duration": 0.010078,
     "end_time": "2022-06-23T09:00:57.862271",
     "exception": false,
     "start_time": "2022-06-23T09:00:57.852193",
     "status": "completed"
    },
    "tags": []
   },
   "source": [
    "# (Optional) Bonus Challenge\n",
    "\n",
    "For an extra challenge, you'll work with a [Smithsonian dataset](https://www.kaggle.com/smithsonian/volcanic-eruptions) that documents Earth's volcanoes and their eruptive history over the past 10,000 years \n",
    "\n",
    "Run the next code cell to load the data."
   ]
  },
  {
   "cell_type": "code",
   "execution_count": 16,
   "id": "0fec43d6",
   "metadata": {
    "execution": {
     "iopub.execute_input": "2022-06-23T09:00:57.885720Z",
     "iopub.status.busy": "2022-06-23T09:00:57.885326Z",
     "iopub.status.idle": "2022-06-23T09:00:57.909615Z",
     "shell.execute_reply": "2022-06-23T09:00:57.908638Z"
    },
    "papermill": {
     "duration": 0.038672,
     "end_time": "2022-06-23T09:00:57.912142",
     "exception": false,
     "start_time": "2022-06-23T09:00:57.873470",
     "status": "completed"
    },
    "tags": []
   },
   "outputs": [],
   "source": [
    "volcanos = pd.read_csv(\"../input/volcanic-eruptions/database.csv\")"
   ]
  },
  {
   "cell_type": "markdown",
   "id": "dc287248",
   "metadata": {
    "papermill": {
     "duration": 0.010434,
     "end_time": "2022-06-23T09:00:57.933304",
     "exception": false,
     "start_time": "2022-06-23T09:00:57.922870",
     "status": "completed"
    },
    "tags": []
   },
   "source": [
    "Try parsing the column \"Last Known Eruption\" from the `volcanos` dataframe. This column contains a mixture of text (\"Unknown\") and years both before the common era (BCE, also known as BC) and in the common era (CE, also known as AD)."
   ]
  },
  {
   "cell_type": "code",
   "execution_count": 17,
   "id": "c0d34906",
   "metadata": {
    "execution": {
     "iopub.execute_input": "2022-06-23T09:00:57.956234Z",
     "iopub.status.busy": "2022-06-23T09:00:57.955543Z",
     "iopub.status.idle": "2022-06-23T09:00:57.965326Z",
     "shell.execute_reply": "2022-06-23T09:00:57.964536Z"
    },
    "papermill": {
     "duration": 0.023813,
     "end_time": "2022-06-23T09:00:57.967593",
     "exception": false,
     "start_time": "2022-06-23T09:00:57.943780",
     "status": "completed"
    },
    "tags": []
   },
   "outputs": [
    {
     "data": {
      "text/plain": [
       "764     Unknown\n",
       "1069    1996 CE\n",
       "34      1855 CE\n",
       "489     2016 CE\n",
       "9       1302 CE\n",
       "Name: Last Known Eruption, dtype: object"
      ]
     },
     "execution_count": 17,
     "metadata": {},
     "output_type": "execute_result"
    }
   ],
   "source": [
    "volcanos['Last Known Eruption'].sample(5)"
   ]
  },
  {
   "cell_type": "markdown",
   "id": "3a87ed1c",
   "metadata": {
    "papermill": {
     "duration": 0.010602,
     "end_time": "2022-06-23T09:00:57.988890",
     "exception": false,
     "start_time": "2022-06-23T09:00:57.978288",
     "status": "completed"
    },
    "tags": []
   },
   "source": [
    "# (Optional) More practice\n",
    "\n",
    "If you're interested in graphing time series, [check out this tutorial](https://www.kaggle.com/residentmario/time-series-plotting-optional).\n",
    "\n",
    "You can also look into passing columns that you know have dates in them  the `parse_dates` argument in `read_csv`. (The documention [is here](https://pandas.pydata.org/pandas-docs/stable/generated/pandas.read_csv.html).) Do note that this method can be very slow, but depending on your needs it may sometimes be handy to use.\n",
    "\n",
    "# Keep going\n",
    "\n",
    "In the next lesson, learn how to [**work with character encodings**](https://www.kaggle.com/alexisbcook/character-encodings)."
   ]
  },
  {
   "cell_type": "markdown",
   "id": "638248af",
   "metadata": {
    "papermill": {
     "duration": 0.010759,
     "end_time": "2022-06-23T09:00:58.010762",
     "exception": false,
     "start_time": "2022-06-23T09:00:58.000003",
     "status": "completed"
    },
    "tags": []
   },
   "source": [
    "---\n",
    "\n",
    "\n",
    "\n",
    "\n",
    "*Have questions or comments? Visit the [course discussion forum](https://www.kaggle.com/learn/data-cleaning/discussion) to chat with other learners.*"
   ]
  }
 ],
 "metadata": {
  "kernelspec": {
   "display_name": "Python 3",
   "language": "python",
   "name": "python3"
  },
  "language_info": {
   "codemirror_mode": {
    "name": "ipython",
    "version": 3
   },
   "file_extension": ".py",
   "mimetype": "text/x-python",
   "name": "python",
   "nbconvert_exporter": "python",
   "pygments_lexer": "ipython3",
   "version": "3.7.12"
  },
  "papermill": {
   "default_parameters": {},
   "duration": 14.96065,
   "end_time": "2022-06-23T09:00:58.742528",
   "environment_variables": {},
   "exception": null,
   "input_path": "__notebook__.ipynb",
   "output_path": "__notebook__.ipynb",
   "parameters": {},
   "start_time": "2022-06-23T09:00:43.781878",
   "version": "2.3.4"
  }
 },
 "nbformat": 4,
 "nbformat_minor": 5
}
