{
 "cells": [
  {
   "cell_type": "markdown",
   "id": "1b31e3bf",
   "metadata": {
    "papermill": {
     "duration": 0.00667,
     "end_time": "2022-06-23T08:48:43.966892",
     "exception": false,
     "start_time": "2022-06-23T08:48:43.960222",
     "status": "completed"
    },
    "tags": []
   },
   "source": [
    "**This notebook is an exercise in the [Data Cleaning](https://www.kaggle.com/learn/data-cleaning) course.  You can reference the tutorial at [this link](https://www.kaggle.com/alexisbcook/handling-missing-values).**\n",
    "\n",
    "---\n"
   ]
  },
  {
   "cell_type": "markdown",
   "id": "49fee0b8",
   "metadata": {
    "papermill": {
     "duration": 0.005154,
     "end_time": "2022-06-23T08:48:43.977998",
     "exception": false,
     "start_time": "2022-06-23T08:48:43.972844",
     "status": "completed"
    },
    "tags": []
   },
   "source": [
    "In this exercise, you'll apply what you learned in the **Handling missing values** tutorial.\n",
    "\n",
    "# Setup\n",
    "\n",
    "The questions below will give you feedback on your work. Run the following cell to set up the feedback system."
   ]
  },
  {
   "cell_type": "code",
   "execution_count": 1,
   "id": "f3095882",
   "metadata": {
    "execution": {
     "iopub.execute_input": "2022-06-23T08:48:43.991107Z",
     "iopub.status.busy": "2022-06-23T08:48:43.989764Z",
     "iopub.status.idle": "2022-06-23T08:48:47.637912Z",
     "shell.execute_reply": "2022-06-23T08:48:47.636889Z"
    },
    "papermill": {
     "duration": 3.657663,
     "end_time": "2022-06-23T08:48:47.640945",
     "exception": false,
     "start_time": "2022-06-23T08:48:43.983282",
     "status": "completed"
    },
    "tags": []
   },
   "outputs": [
    {
     "name": "stderr",
     "output_type": "stream",
     "text": [
      "/opt/conda/lib/python3.7/site-packages/ipykernel_launcher.py:3: DtypeWarning: Columns (22,32) have mixed types.Specify dtype option on import or set low_memory=False.\n",
      "  This is separate from the ipykernel package so we can avoid doing imports until\n"
     ]
    },
    {
     "name": "stdout",
     "output_type": "stream",
     "text": [
      "Setup Complete\n"
     ]
    }
   ],
   "source": [
    "from learntools.core import binder\n",
    "binder.bind(globals())\n",
    "from learntools.data_cleaning.ex1 import *\n",
    "print(\"Setup Complete\")"
   ]
  },
  {
   "cell_type": "markdown",
   "id": "b8818a9a",
   "metadata": {
    "papermill": {
     "duration": 0.005383,
     "end_time": "2022-06-23T08:48:47.651917",
     "exception": false,
     "start_time": "2022-06-23T08:48:47.646534",
     "status": "completed"
    },
    "tags": []
   },
   "source": [
    "# 1) Take a first look at the data\n",
    "\n",
    "Run the next code cell to load in the libraries and dataset you'll use to complete the exercise."
   ]
  },
  {
   "cell_type": "code",
   "execution_count": 2,
   "id": "a2a0219a",
   "metadata": {
    "execution": {
     "iopub.execute_input": "2022-06-23T08:48:47.664814Z",
     "iopub.status.busy": "2022-06-23T08:48:47.663967Z",
     "iopub.status.idle": "2022-06-23T08:48:49.103625Z",
     "shell.execute_reply": "2022-06-23T08:48:49.101535Z"
    },
    "papermill": {
     "duration": 1.448837,
     "end_time": "2022-06-23T08:48:49.106182",
     "exception": false,
     "start_time": "2022-06-23T08:48:47.657345",
     "status": "completed"
    },
    "tags": []
   },
   "outputs": [
    {
     "name": "stderr",
     "output_type": "stream",
     "text": [
      "/opt/conda/lib/python3.7/site-packages/IPython/core/interactiveshell.py:3552: DtypeWarning: Columns (22,32) have mixed types.Specify dtype option on import or set low_memory=False.\n",
      "  exec(code_obj, self.user_global_ns, self.user_ns)\n"
     ]
    }
   ],
   "source": [
    "# modules we'll use\n",
    "import pandas as pd\n",
    "import numpy as np\n",
    "\n",
    "# read in all our data\n",
    "sf_permits = pd.read_csv(\"../input/building-permit-applications-data/Building_Permits.csv\")\n",
    "\n",
    "# set seed for reproducibility\n",
    "np.random.seed(0) "
   ]
  },
  {
   "cell_type": "markdown",
   "id": "a270b8c4",
   "metadata": {
    "papermill": {
     "duration": 0.005264,
     "end_time": "2022-06-23T08:48:49.117309",
     "exception": false,
     "start_time": "2022-06-23T08:48:49.112045",
     "status": "completed"
    },
    "tags": []
   },
   "source": [
    "Use the code cell below to print the first five rows of the `sf_permits` DataFrame."
   ]
  },
  {
   "cell_type": "code",
   "execution_count": 3,
   "id": "4a48b559",
   "metadata": {
    "execution": {
     "iopub.execute_input": "2022-06-23T08:48:49.130078Z",
     "iopub.status.busy": "2022-06-23T08:48:49.129262Z",
     "iopub.status.idle": "2022-06-23T08:48:49.160416Z",
     "shell.execute_reply": "2022-06-23T08:48:49.159480Z"
    },
    "papermill": {
     "duration": 0.040432,
     "end_time": "2022-06-23T08:48:49.163208",
     "exception": false,
     "start_time": "2022-06-23T08:48:49.122776",
     "status": "completed"
    },
    "tags": []
   },
   "outputs": [
    {
     "data": {
      "text/html": [
       "<div>\n",
       "<style scoped>\n",
       "    .dataframe tbody tr th:only-of-type {\n",
       "        vertical-align: middle;\n",
       "    }\n",
       "\n",
       "    .dataframe tbody tr th {\n",
       "        vertical-align: top;\n",
       "    }\n",
       "\n",
       "    .dataframe thead th {\n",
       "        text-align: right;\n",
       "    }\n",
       "</style>\n",
       "<table border=\"1\" class=\"dataframe\">\n",
       "  <thead>\n",
       "    <tr style=\"text-align: right;\">\n",
       "      <th></th>\n",
       "      <th>Permit Number</th>\n",
       "      <th>Permit Type</th>\n",
       "      <th>Permit Type Definition</th>\n",
       "      <th>Permit Creation Date</th>\n",
       "      <th>Block</th>\n",
       "      <th>Lot</th>\n",
       "      <th>Street Number</th>\n",
       "      <th>Street Number Suffix</th>\n",
       "      <th>Street Name</th>\n",
       "      <th>Street Suffix</th>\n",
       "      <th>...</th>\n",
       "      <th>Existing Construction Type</th>\n",
       "      <th>Existing Construction Type Description</th>\n",
       "      <th>Proposed Construction Type</th>\n",
       "      <th>Proposed Construction Type Description</th>\n",
       "      <th>Site Permit</th>\n",
       "      <th>Supervisor District</th>\n",
       "      <th>Neighborhoods - Analysis Boundaries</th>\n",
       "      <th>Zipcode</th>\n",
       "      <th>Location</th>\n",
       "      <th>Record ID</th>\n",
       "    </tr>\n",
       "  </thead>\n",
       "  <tbody>\n",
       "    <tr>\n",
       "      <th>0</th>\n",
       "      <td>201505065519</td>\n",
       "      <td>4</td>\n",
       "      <td>sign - erect</td>\n",
       "      <td>05/06/2015</td>\n",
       "      <td>0326</td>\n",
       "      <td>023</td>\n",
       "      <td>140</td>\n",
       "      <td>NaN</td>\n",
       "      <td>Ellis</td>\n",
       "      <td>St</td>\n",
       "      <td>...</td>\n",
       "      <td>3.0</td>\n",
       "      <td>constr type 3</td>\n",
       "      <td>NaN</td>\n",
       "      <td>NaN</td>\n",
       "      <td>NaN</td>\n",
       "      <td>3.0</td>\n",
       "      <td>Tenderloin</td>\n",
       "      <td>94102.0</td>\n",
       "      <td>(37.785719256680785, -122.40852313194863)</td>\n",
       "      <td>1380611233945</td>\n",
       "    </tr>\n",
       "    <tr>\n",
       "      <th>1</th>\n",
       "      <td>201604195146</td>\n",
       "      <td>4</td>\n",
       "      <td>sign - erect</td>\n",
       "      <td>04/19/2016</td>\n",
       "      <td>0306</td>\n",
       "      <td>007</td>\n",
       "      <td>440</td>\n",
       "      <td>NaN</td>\n",
       "      <td>Geary</td>\n",
       "      <td>St</td>\n",
       "      <td>...</td>\n",
       "      <td>3.0</td>\n",
       "      <td>constr type 3</td>\n",
       "      <td>NaN</td>\n",
       "      <td>NaN</td>\n",
       "      <td>NaN</td>\n",
       "      <td>3.0</td>\n",
       "      <td>Tenderloin</td>\n",
       "      <td>94102.0</td>\n",
       "      <td>(37.78733980600732, -122.41063199757738)</td>\n",
       "      <td>1420164406718</td>\n",
       "    </tr>\n",
       "    <tr>\n",
       "      <th>2</th>\n",
       "      <td>201605278609</td>\n",
       "      <td>3</td>\n",
       "      <td>additions alterations or repairs</td>\n",
       "      <td>05/27/2016</td>\n",
       "      <td>0595</td>\n",
       "      <td>203</td>\n",
       "      <td>1647</td>\n",
       "      <td>NaN</td>\n",
       "      <td>Pacific</td>\n",
       "      <td>Av</td>\n",
       "      <td>...</td>\n",
       "      <td>1.0</td>\n",
       "      <td>constr type 1</td>\n",
       "      <td>1.0</td>\n",
       "      <td>constr type 1</td>\n",
       "      <td>NaN</td>\n",
       "      <td>3.0</td>\n",
       "      <td>Russian Hill</td>\n",
       "      <td>94109.0</td>\n",
       "      <td>(37.7946573324287, -122.42232562979227)</td>\n",
       "      <td>1424856504716</td>\n",
       "    </tr>\n",
       "    <tr>\n",
       "      <th>3</th>\n",
       "      <td>201611072166</td>\n",
       "      <td>8</td>\n",
       "      <td>otc alterations permit</td>\n",
       "      <td>11/07/2016</td>\n",
       "      <td>0156</td>\n",
       "      <td>011</td>\n",
       "      <td>1230</td>\n",
       "      <td>NaN</td>\n",
       "      <td>Pacific</td>\n",
       "      <td>Av</td>\n",
       "      <td>...</td>\n",
       "      <td>5.0</td>\n",
       "      <td>wood frame (5)</td>\n",
       "      <td>5.0</td>\n",
       "      <td>wood frame (5)</td>\n",
       "      <td>NaN</td>\n",
       "      <td>3.0</td>\n",
       "      <td>Nob Hill</td>\n",
       "      <td>94109.0</td>\n",
       "      <td>(37.79595867909168, -122.41557405519474)</td>\n",
       "      <td>1443574295566</td>\n",
       "    </tr>\n",
       "    <tr>\n",
       "      <th>4</th>\n",
       "      <td>201611283529</td>\n",
       "      <td>6</td>\n",
       "      <td>demolitions</td>\n",
       "      <td>11/28/2016</td>\n",
       "      <td>0342</td>\n",
       "      <td>001</td>\n",
       "      <td>950</td>\n",
       "      <td>NaN</td>\n",
       "      <td>Market</td>\n",
       "      <td>St</td>\n",
       "      <td>...</td>\n",
       "      <td>3.0</td>\n",
       "      <td>constr type 3</td>\n",
       "      <td>NaN</td>\n",
       "      <td>NaN</td>\n",
       "      <td>NaN</td>\n",
       "      <td>6.0</td>\n",
       "      <td>Tenderloin</td>\n",
       "      <td>94102.0</td>\n",
       "      <td>(37.78315261897309, -122.40950883997789)</td>\n",
       "      <td>144548169992</td>\n",
       "    </tr>\n",
       "  </tbody>\n",
       "</table>\n",
       "<p>5 rows × 43 columns</p>\n",
       "</div>"
      ],
      "text/plain": [
       "  Permit Number  Permit Type            Permit Type Definition  \\\n",
       "0  201505065519            4                      sign - erect   \n",
       "1  201604195146            4                      sign - erect   \n",
       "2  201605278609            3  additions alterations or repairs   \n",
       "3  201611072166            8            otc alterations permit   \n",
       "4  201611283529            6                       demolitions   \n",
       "\n",
       "  Permit Creation Date Block  Lot  Street Number Street Number Suffix  \\\n",
       "0           05/06/2015  0326  023            140                  NaN   \n",
       "1           04/19/2016  0306  007            440                  NaN   \n",
       "2           05/27/2016  0595  203           1647                  NaN   \n",
       "3           11/07/2016  0156  011           1230                  NaN   \n",
       "4           11/28/2016  0342  001            950                  NaN   \n",
       "\n",
       "  Street Name Street Suffix  ...  Existing Construction Type  \\\n",
       "0       Ellis            St  ...                         3.0   \n",
       "1       Geary            St  ...                         3.0   \n",
       "2     Pacific            Av  ...                         1.0   \n",
       "3     Pacific            Av  ...                         5.0   \n",
       "4      Market            St  ...                         3.0   \n",
       "\n",
       "  Existing Construction Type Description Proposed Construction Type  \\\n",
       "0                          constr type 3                        NaN   \n",
       "1                          constr type 3                        NaN   \n",
       "2                          constr type 1                        1.0   \n",
       "3                         wood frame (5)                        5.0   \n",
       "4                          constr type 3                        NaN   \n",
       "\n",
       "  Proposed Construction Type Description Site Permit Supervisor District  \\\n",
       "0                                    NaN         NaN                 3.0   \n",
       "1                                    NaN         NaN                 3.0   \n",
       "2                          constr type 1         NaN                 3.0   \n",
       "3                         wood frame (5)         NaN                 3.0   \n",
       "4                                    NaN         NaN                 6.0   \n",
       "\n",
       "  Neighborhoods - Analysis Boundaries  Zipcode  \\\n",
       "0                          Tenderloin  94102.0   \n",
       "1                          Tenderloin  94102.0   \n",
       "2                        Russian Hill  94109.0   \n",
       "3                            Nob Hill  94109.0   \n",
       "4                          Tenderloin  94102.0   \n",
       "\n",
       "                                    Location      Record ID  \n",
       "0  (37.785719256680785, -122.40852313194863)  1380611233945  \n",
       "1   (37.78733980600732, -122.41063199757738)  1420164406718  \n",
       "2    (37.7946573324287, -122.42232562979227)  1424856504716  \n",
       "3   (37.79595867909168, -122.41557405519474)  1443574295566  \n",
       "4   (37.78315261897309, -122.40950883997789)   144548169992  \n",
       "\n",
       "[5 rows x 43 columns]"
      ]
     },
     "execution_count": 3,
     "metadata": {},
     "output_type": "execute_result"
    }
   ],
   "source": [
    "# TODO: Your code here!\n",
    "sf_permits[0:5]"
   ]
  },
  {
   "cell_type": "markdown",
   "id": "c92995bf",
   "metadata": {
    "papermill": {
     "duration": 0.00561,
     "end_time": "2022-06-23T08:48:49.174681",
     "exception": false,
     "start_time": "2022-06-23T08:48:49.169071",
     "status": "completed"
    },
    "tags": []
   },
   "source": [
    "Does the dataset have any missing values?  Once you have an answer, run the code cell below to get credit for your work."
   ]
  },
  {
   "cell_type": "code",
   "execution_count": 4,
   "id": "fa28a33d",
   "metadata": {
    "execution": {
     "iopub.execute_input": "2022-06-23T08:48:49.189206Z",
     "iopub.status.busy": "2022-06-23T08:48:49.187369Z",
     "iopub.status.idle": "2022-06-23T08:48:49.195488Z",
     "shell.execute_reply": "2022-06-23T08:48:49.194811Z"
    },
    "papermill": {
     "duration": 0.01677,
     "end_time": "2022-06-23T08:48:49.197227",
     "exception": false,
     "start_time": "2022-06-23T08:48:49.180457",
     "status": "completed"
    },
    "tags": []
   },
   "outputs": [
    {
     "data": {
      "application/javascript": [
       "parent.postMessage({\"jupyterEvent\": \"custom.exercise_interaction\", \"data\": {\"outcomeType\": 1, \"valueTowardsCompletion\": 0.16666666666666666, \"interactionType\": 1, \"questionType\": 4, \"questionId\": \"1_TakeFirstLook\", \"learnToolsVersion\": \"0.3.4\", \"failureMessage\": \"\", \"exceptionClass\": \"\", \"trace\": \"\"}}, \"*\")"
      ],
      "text/plain": [
       "<IPython.core.display.Javascript object>"
      ]
     },
     "metadata": {},
     "output_type": "display_data"
    },
    {
     "data": {
      "text/markdown": [
       "<span style=\"color:#33cc33\">Correct:</span> \n",
       "\n",
       "The first five rows of the data does show that several columns have missing values.  You can see this in the \"Street Number Suffix\", \"Proposed Construction Type\" and \"Site Permit\" columns, among others."
      ],
      "text/plain": [
       "Correct: \n",
       "\n",
       "The first five rows of the data does show that several columns have missing values.  You can see this in the \"Street Number Suffix\", \"Proposed Construction Type\" and \"Site Permit\" columns, among others."
      ]
     },
     "metadata": {},
     "output_type": "display_data"
    }
   ],
   "source": [
    "# Check your answer (Run this code cell to receive credit!)\n",
    "q1.check()"
   ]
  },
  {
   "cell_type": "code",
   "execution_count": 5,
   "id": "2963e07c",
   "metadata": {
    "execution": {
     "iopub.execute_input": "2022-06-23T08:48:49.211293Z",
     "iopub.status.busy": "2022-06-23T08:48:49.210645Z",
     "iopub.status.idle": "2022-06-23T08:48:49.214612Z",
     "shell.execute_reply": "2022-06-23T08:48:49.213549Z"
    },
    "papermill": {
     "duration": 0.013267,
     "end_time": "2022-06-23T08:48:49.216524",
     "exception": false,
     "start_time": "2022-06-23T08:48:49.203257",
     "status": "completed"
    },
    "tags": []
   },
   "outputs": [],
   "source": [
    "# Line below will give you a hint\n",
    "# q1.hint()"
   ]
  },
  {
   "cell_type": "markdown",
   "id": "8cec0a8a",
   "metadata": {
    "papermill": {
     "duration": 0.006115,
     "end_time": "2022-06-23T08:48:49.228745",
     "exception": false,
     "start_time": "2022-06-23T08:48:49.222630",
     "status": "completed"
    },
    "tags": []
   },
   "source": [
    "# 2) How many missing data points do we have?\n",
    "\n",
    "What percentage of the values in the dataset are missing?  Your answer should be a number between 0 and 100.  (If 1/4 of the values in the dataset are missing, the answer is 25.)"
   ]
  },
  {
   "cell_type": "code",
   "execution_count": 6,
   "id": "78a6ba51",
   "metadata": {
    "execution": {
     "iopub.execute_input": "2022-06-23T08:48:49.243174Z",
     "iopub.status.busy": "2022-06-23T08:48:49.242408Z",
     "iopub.status.idle": "2022-06-23T08:48:49.477723Z",
     "shell.execute_reply": "2022-06-23T08:48:49.476569Z"
    },
    "papermill": {
     "duration": 0.244777,
     "end_time": "2022-06-23T08:48:49.479737",
     "exception": false,
     "start_time": "2022-06-23T08:48:49.234960",
     "status": "completed"
    },
    "tags": []
   },
   "outputs": [
    {
     "name": "stdout",
     "output_type": "stream",
     "text": [
      "8552700\n",
      "2245941\n"
     ]
    },
    {
     "data": {
      "application/javascript": [
       "parent.postMessage({\"jupyterEvent\": \"custom.exercise_interaction\", \"data\": {\"outcomeType\": 1, \"valueTowardsCompletion\": 0.16666666666666666, \"interactionType\": 1, \"questionType\": 1, \"questionId\": \"2_PercentMissingValues\", \"learnToolsVersion\": \"0.3.4\", \"failureMessage\": \"\", \"exceptionClass\": \"\", \"trace\": \"\"}}, \"*\")"
      ],
      "text/plain": [
       "<IPython.core.display.Javascript object>"
      ]
     },
     "metadata": {},
     "output_type": "display_data"
    },
    {
     "data": {
      "text/markdown": [
       "<span style=\"color:#33cc33\">Correct</span>"
      ],
      "text/plain": [
       "Correct"
      ]
     },
     "metadata": {},
     "output_type": "display_data"
    }
   ],
   "source": [
    "# TODO: Your code here!\n",
    "missing_values_count = sf_permits.isnull().sum()\n",
    "total_cells = np.product(sf_permits.shape)\n",
    "print(total_cells)\n",
    "total_missing = missing_values_count.sum()\n",
    "print(total_missing)\n",
    "percent_missing = (total_missing/total_cells) * 100\n",
    "\n",
    "# Check your answer\n",
    "q2.check()"
   ]
  },
  {
   "cell_type": "code",
   "execution_count": 7,
   "id": "520865a8",
   "metadata": {
    "execution": {
     "iopub.execute_input": "2022-06-23T08:48:49.494640Z",
     "iopub.status.busy": "2022-06-23T08:48:49.493881Z",
     "iopub.status.idle": "2022-06-23T08:48:49.497758Z",
     "shell.execute_reply": "2022-06-23T08:48:49.497023Z"
    },
    "papermill": {
     "duration": 0.013285,
     "end_time": "2022-06-23T08:48:49.499784",
     "exception": false,
     "start_time": "2022-06-23T08:48:49.486499",
     "status": "completed"
    },
    "tags": []
   },
   "outputs": [],
   "source": [
    "# Lines below will give you a hint or solution code\n",
    "# q2.hint()\n",
    "# q2.solution()"
   ]
  },
  {
   "cell_type": "markdown",
   "id": "e3dce24e",
   "metadata": {
    "papermill": {
     "duration": 0.005928,
     "end_time": "2022-06-23T08:48:49.512013",
     "exception": false,
     "start_time": "2022-06-23T08:48:49.506085",
     "status": "completed"
    },
    "tags": []
   },
   "source": [
    "# 3) Figure out why the data is missing\n",
    "\n",
    "Look at the columns **\"Street Number Suffix\"** and **\"Zipcode\"** from the [San Francisco Building Permits dataset](https://www.kaggle.com/aparnashastry/building-permit-applications-data). Both of these contain missing values. \n",
    "- Which, if either, are missing because they don't exist? \n",
    "- Which, if either, are missing because they weren't recorded?  \n",
    "\n",
    "Once you have an answer, run the code cell below."
   ]
  },
  {
   "cell_type": "markdown",
   "id": "8458d6f3",
   "metadata": {
    "papermill": {
     "duration": 0.005805,
     "end_time": "2022-06-23T08:48:49.524237",
     "exception": false,
     "start_time": "2022-06-23T08:48:49.518432",
     "status": "completed"
    },
    "tags": []
   },
   "source": [
    "* \"Street Number Suffix\"-> doesn't exist.\n",
    "* \"Zipcode\"-> not recorded."
   ]
  },
  {
   "cell_type": "markdown",
   "id": "c88bd7b3",
   "metadata": {
    "papermill": {
     "duration": 0.00587,
     "end_time": "2022-06-23T08:48:49.536189",
     "exception": false,
     "start_time": "2022-06-23T08:48:49.530319",
     "status": "completed"
    },
    "tags": []
   },
   "source": []
  },
  {
   "cell_type": "code",
   "execution_count": 8,
   "id": "1dea6569",
   "metadata": {
    "execution": {
     "iopub.execute_input": "2022-06-23T08:48:49.550483Z",
     "iopub.status.busy": "2022-06-23T08:48:49.549815Z",
     "iopub.status.idle": "2022-06-23T08:48:49.558302Z",
     "shell.execute_reply": "2022-06-23T08:48:49.557304Z"
    },
    "papermill": {
     "duration": 0.017996,
     "end_time": "2022-06-23T08:48:49.560275",
     "exception": false,
     "start_time": "2022-06-23T08:48:49.542279",
     "status": "completed"
    },
    "tags": []
   },
   "outputs": [
    {
     "data": {
      "application/javascript": [
       "parent.postMessage({\"jupyterEvent\": \"custom.exercise_interaction\", \"data\": {\"outcomeType\": 1, \"valueTowardsCompletion\": 0.16666666666666666, \"interactionType\": 1, \"questionType\": 4, \"questionId\": \"3_WhyDataMissing\", \"learnToolsVersion\": \"0.3.4\", \"failureMessage\": \"\", \"exceptionClass\": \"\", \"trace\": \"\"}}, \"*\")"
      ],
      "text/plain": [
       "<IPython.core.display.Javascript object>"
      ]
     },
     "metadata": {},
     "output_type": "display_data"
    },
    {
     "data": {
      "text/markdown": [
       "<span style=\"color:#33cc33\">Correct:</span> \n",
       "\n",
       "If a value in the \"Street Number Suffix\" column is missing, it is likely because it does not exist. If a value in the \"Zipcode\" column is missing, it was not recorded."
      ],
      "text/plain": [
       "Correct: \n",
       "\n",
       "If a value in the \"Street Number Suffix\" column is missing, it is likely because it does not exist. If a value in the \"Zipcode\" column is missing, it was not recorded."
      ]
     },
     "metadata": {},
     "output_type": "display_data"
    }
   ],
   "source": [
    "# Check your answer (Run this code cell to receive credit!)\n",
    "q3.check()"
   ]
  },
  {
   "cell_type": "code",
   "execution_count": 9,
   "id": "14eaed97",
   "metadata": {
    "execution": {
     "iopub.execute_input": "2022-06-23T08:48:49.574523Z",
     "iopub.status.busy": "2022-06-23T08:48:49.573888Z",
     "iopub.status.idle": "2022-06-23T08:48:49.578278Z",
     "shell.execute_reply": "2022-06-23T08:48:49.577273Z"
    },
    "papermill": {
     "duration": 0.013472,
     "end_time": "2022-06-23T08:48:49.580101",
     "exception": false,
     "start_time": "2022-06-23T08:48:49.566629",
     "status": "completed"
    },
    "tags": []
   },
   "outputs": [],
   "source": [
    "# Line below will give you a hint\n",
    "# q3.hint()"
   ]
  },
  {
   "cell_type": "markdown",
   "id": "0866d408",
   "metadata": {
    "papermill": {
     "duration": 0.006081,
     "end_time": "2022-06-23T08:48:49.592529",
     "exception": false,
     "start_time": "2022-06-23T08:48:49.586448",
     "status": "completed"
    },
    "tags": []
   },
   "source": [
    "# 4) Drop missing values: rows\n",
    "\n",
    "If you removed all of the rows of `sf_permits` with missing values, how many rows are left?\n",
    "\n",
    "**Note**: Do not change the value of `sf_permits` when checking this.  "
   ]
  },
  {
   "cell_type": "code",
   "execution_count": 10,
   "id": "f7778d58",
   "metadata": {
    "execution": {
     "iopub.execute_input": "2022-06-23T08:48:49.607066Z",
     "iopub.status.busy": "2022-06-23T08:48:49.606406Z",
     "iopub.status.idle": "2022-06-23T08:48:49.847645Z",
     "shell.execute_reply": "2022-06-23T08:48:49.846924Z"
    },
    "papermill": {
     "duration": 0.250586,
     "end_time": "2022-06-23T08:48:49.849489",
     "exception": false,
     "start_time": "2022-06-23T08:48:49.598903",
     "status": "completed"
    },
    "tags": []
   },
   "outputs": [
    {
     "data": {
      "text/html": [
       "<div>\n",
       "<style scoped>\n",
       "    .dataframe tbody tr th:only-of-type {\n",
       "        vertical-align: middle;\n",
       "    }\n",
       "\n",
       "    .dataframe tbody tr th {\n",
       "        vertical-align: top;\n",
       "    }\n",
       "\n",
       "    .dataframe thead th {\n",
       "        text-align: right;\n",
       "    }\n",
       "</style>\n",
       "<table border=\"1\" class=\"dataframe\">\n",
       "  <thead>\n",
       "    <tr style=\"text-align: right;\">\n",
       "      <th></th>\n",
       "      <th>Permit Number</th>\n",
       "      <th>Permit Type</th>\n",
       "      <th>Permit Type Definition</th>\n",
       "      <th>Permit Creation Date</th>\n",
       "      <th>Block</th>\n",
       "      <th>Lot</th>\n",
       "      <th>Street Number</th>\n",
       "      <th>Street Number Suffix</th>\n",
       "      <th>Street Name</th>\n",
       "      <th>Street Suffix</th>\n",
       "      <th>...</th>\n",
       "      <th>Existing Construction Type</th>\n",
       "      <th>Existing Construction Type Description</th>\n",
       "      <th>Proposed Construction Type</th>\n",
       "      <th>Proposed Construction Type Description</th>\n",
       "      <th>Site Permit</th>\n",
       "      <th>Supervisor District</th>\n",
       "      <th>Neighborhoods - Analysis Boundaries</th>\n",
       "      <th>Zipcode</th>\n",
       "      <th>Location</th>\n",
       "      <th>Record ID</th>\n",
       "    </tr>\n",
       "  </thead>\n",
       "  <tbody>\n",
       "  </tbody>\n",
       "</table>\n",
       "<p>0 rows × 43 columns</p>\n",
       "</div>"
      ],
      "text/plain": [
       "Empty DataFrame\n",
       "Columns: [Permit Number, Permit Type, Permit Type Definition, Permit Creation Date, Block, Lot, Street Number, Street Number Suffix, Street Name, Street Suffix, Unit, Unit Suffix, Description, Current Status, Current Status Date, Filed Date, Issued Date, Completed Date, First Construction Document Date, Structural Notification, Number of Existing Stories, Number of Proposed Stories, Voluntary Soft-Story Retrofit, Fire Only Permit, Permit Expiration Date, Estimated Cost, Revised Cost, Existing Use, Existing Units, Proposed Use, Proposed Units, Plansets, TIDF Compliance, Existing Construction Type, Existing Construction Type Description, Proposed Construction Type, Proposed Construction Type Description, Site Permit, Supervisor District, Neighborhoods - Analysis Boundaries, Zipcode, Location, Record ID]\n",
       "Index: []\n",
       "\n",
       "[0 rows x 43 columns]"
      ]
     },
     "execution_count": 10,
     "metadata": {},
     "output_type": "execute_result"
    }
   ],
   "source": [
    "# TODO: Your code here!\n",
    "sf_permits.dropna()"
   ]
  },
  {
   "cell_type": "markdown",
   "id": "0eb02fad",
   "metadata": {
    "papermill": {
     "duration": 0.006754,
     "end_time": "2022-06-23T08:48:49.862821",
     "exception": false,
     "start_time": "2022-06-23T08:48:49.856067",
     "status": "completed"
    },
    "tags": []
   },
   "source": [
    "Once you have an answer, run the code cell below."
   ]
  },
  {
   "cell_type": "code",
   "execution_count": 11,
   "id": "d8b219ef",
   "metadata": {
    "execution": {
     "iopub.execute_input": "2022-06-23T08:48:49.877771Z",
     "iopub.status.busy": "2022-06-23T08:48:49.877220Z",
     "iopub.status.idle": "2022-06-23T08:48:49.883251Z",
     "shell.execute_reply": "2022-06-23T08:48:49.882606Z"
    },
    "papermill": {
     "duration": 0.015641,
     "end_time": "2022-06-23T08:48:49.885000",
     "exception": false,
     "start_time": "2022-06-23T08:48:49.869359",
     "status": "completed"
    },
    "tags": []
   },
   "outputs": [
    {
     "data": {
      "application/javascript": [
       "parent.postMessage({\"jupyterEvent\": \"custom.exercise_interaction\", \"data\": {\"outcomeType\": 1, \"valueTowardsCompletion\": 0.16666666666666666, \"interactionType\": 1, \"questionType\": 4, \"questionId\": \"4_DropMissingRows\", \"learnToolsVersion\": \"0.3.4\", \"failureMessage\": \"\", \"exceptionClass\": \"\", \"trace\": \"\"}}, \"*\")"
      ],
      "text/plain": [
       "<IPython.core.display.Javascript object>"
      ]
     },
     "metadata": {},
     "output_type": "display_data"
    },
    {
     "data": {
      "text/markdown": [
       "<span style=\"color:#33cc33\">Correct:</span> \n",
       "\n",
       "There are no rows remaining in the dataset!"
      ],
      "text/plain": [
       "Correct: \n",
       "\n",
       "There are no rows remaining in the dataset!"
      ]
     },
     "metadata": {},
     "output_type": "display_data"
    }
   ],
   "source": [
    "# Check your answer (Run this code cell to receive credit!)\n",
    "q4.check()"
   ]
  },
  {
   "cell_type": "code",
   "execution_count": 12,
   "id": "f2192fb6",
   "metadata": {
    "execution": {
     "iopub.execute_input": "2022-06-23T08:48:49.900176Z",
     "iopub.status.busy": "2022-06-23T08:48:49.899651Z",
     "iopub.status.idle": "2022-06-23T08:48:49.902748Z",
     "shell.execute_reply": "2022-06-23T08:48:49.902108Z"
    },
    "papermill": {
     "duration": 0.012668,
     "end_time": "2022-06-23T08:48:49.904485",
     "exception": false,
     "start_time": "2022-06-23T08:48:49.891817",
     "status": "completed"
    },
    "tags": []
   },
   "outputs": [],
   "source": [
    "# Line below will give you a hint\n",
    "# q4.hint()"
   ]
  },
  {
   "cell_type": "markdown",
   "id": "5c0b0b09",
   "metadata": {
    "papermill": {
     "duration": 0.006706,
     "end_time": "2022-06-23T08:48:49.918054",
     "exception": false,
     "start_time": "2022-06-23T08:48:49.911348",
     "status": "completed"
    },
    "tags": []
   },
   "source": [
    "# 5) Drop missing values: columns\n",
    "\n",
    "Now try removing all the columns with empty values.  \n",
    "- Create a new DataFrame called `sf_permits_with_na_dropped` that has all of the columns with empty values removed.  \n",
    "- How many columns were removed from the original `sf_permits` DataFrame? Use this number to set the value of the `dropped_columns` variable below."
   ]
  },
  {
   "cell_type": "code",
   "execution_count": 13,
   "id": "72e3559e",
   "metadata": {
    "execution": {
     "iopub.execute_input": "2022-06-23T08:48:49.933694Z",
     "iopub.status.busy": "2022-06-23T08:48:49.933069Z",
     "iopub.status.idle": "2022-06-23T08:48:50.179067Z",
     "shell.execute_reply": "2022-06-23T08:48:50.178140Z"
    },
    "papermill": {
     "duration": 0.256163,
     "end_time": "2022-06-23T08:48:50.181060",
     "exception": false,
     "start_time": "2022-06-23T08:48:49.924897",
     "status": "completed"
    },
    "tags": []
   },
   "outputs": [
    {
     "data": {
      "application/javascript": [
       "parent.postMessage({\"jupyterEvent\": \"custom.exercise_interaction\", \"data\": {\"outcomeType\": 1, \"valueTowardsCompletion\": 0.16666666666666666, \"interactionType\": 1, \"questionType\": 1, \"questionId\": \"5_DropMissingCols\", \"learnToolsVersion\": \"0.3.4\", \"failureMessage\": \"\", \"exceptionClass\": \"\", \"trace\": \"\"}}, \"*\")"
      ],
      "text/plain": [
       "<IPython.core.display.Javascript object>"
      ]
     },
     "metadata": {},
     "output_type": "display_data"
    },
    {
     "data": {
      "text/markdown": [
       "<span style=\"color:#33cc33\">Correct</span>"
      ],
      "text/plain": [
       "Correct"
      ]
     },
     "metadata": {},
     "output_type": "display_data"
    }
   ],
   "source": [
    "# TODO: Your code here\n",
    "sf_permits_with_na_dropped = sf_permits.dropna(axis=1)\n",
    "\n",
    "dropped_columns = sf_permits.shape[1] - sf_permits_with_na_dropped.shape[1]\n",
    "\n",
    "# Check your answer\n",
    "q5.check()"
   ]
  },
  {
   "cell_type": "code",
   "execution_count": 14,
   "id": "01b03b91",
   "metadata": {
    "execution": {
     "iopub.execute_input": "2022-06-23T08:48:50.196742Z",
     "iopub.status.busy": "2022-06-23T08:48:50.196411Z",
     "iopub.status.idle": "2022-06-23T08:48:50.200310Z",
     "shell.execute_reply": "2022-06-23T08:48:50.199352Z"
    },
    "papermill": {
     "duration": 0.014319,
     "end_time": "2022-06-23T08:48:50.202455",
     "exception": false,
     "start_time": "2022-06-23T08:48:50.188136",
     "status": "completed"
    },
    "tags": []
   },
   "outputs": [],
   "source": [
    "# Lines below will give you a hint or solution code\n",
    "# q5.hint()\n",
    "# q5.solution()"
   ]
  },
  {
   "cell_type": "markdown",
   "id": "3e6070d0",
   "metadata": {
    "papermill": {
     "duration": 0.007366,
     "end_time": "2022-06-23T08:48:50.216910",
     "exception": false,
     "start_time": "2022-06-23T08:48:50.209544",
     "status": "completed"
    },
    "tags": []
   },
   "source": [
    "# 6) Fill in missing values automatically\n",
    "\n",
    "Try replacing all the NaN's in the `sf_permits` data with the one that comes directly after it and then replacing any remaining NaN's with 0.  Set the result to a new DataFrame `sf_permits_with_na_imputed`."
   ]
  },
  {
   "cell_type": "code",
   "execution_count": 15,
   "id": "e4032da0",
   "metadata": {
    "execution": {
     "iopub.execute_input": "2022-06-23T08:48:50.233211Z",
     "iopub.status.busy": "2022-06-23T08:48:50.232850Z",
     "iopub.status.idle": "2022-06-23T08:48:51.075021Z",
     "shell.execute_reply": "2022-06-23T08:48:51.074062Z"
    },
    "papermill": {
     "duration": 0.853022,
     "end_time": "2022-06-23T08:48:51.077167",
     "exception": false,
     "start_time": "2022-06-23T08:48:50.224145",
     "status": "completed"
    },
    "tags": []
   },
   "outputs": [
    {
     "data": {
      "application/javascript": [
       "parent.postMessage({\"jupyterEvent\": \"custom.exercise_interaction\", \"data\": {\"outcomeType\": 1, \"valueTowardsCompletion\": 0.16666666666666666, \"interactionType\": 1, \"questionType\": 1, \"questionId\": \"6_ImputeAutomatically\", \"learnToolsVersion\": \"0.3.4\", \"failureMessage\": \"\", \"exceptionClass\": \"\", \"trace\": \"\"}}, \"*\")"
      ],
      "text/plain": [
       "<IPython.core.display.Javascript object>"
      ]
     },
     "metadata": {},
     "output_type": "display_data"
    },
    {
     "data": {
      "text/markdown": [
       "<span style=\"color:#33cc33\">Correct</span>"
      ],
      "text/plain": [
       "Correct"
      ]
     },
     "metadata": {},
     "output_type": "display_data"
    }
   ],
   "source": [
    "# TODO: Your code here\n",
    "sf_permits_with_na_imputed = sf_permits.fillna(method='bfill', axis=0).fillna(0)\n",
    "\n",
    "# Check your answer\n",
    "q6.check()"
   ]
  },
  {
   "cell_type": "markdown",
   "id": "bdb44ea2",
   "metadata": {
    "papermill": {
     "duration": 0.007123,
     "end_time": "2022-06-23T08:48:51.091585",
     "exception": false,
     "start_time": "2022-06-23T08:48:51.084462",
     "status": "completed"
    },
    "tags": []
   },
   "source": [
    "# More practice\n",
    "\n",
    "If you're looking for more practice handling missing values:\n",
    "\n",
    "* Check out [this noteboook](https://www.kaggle.com/alexisbcook/missing-values) on handling missing values using scikit-learn's imputer. \n",
    "* Look back at the \"Zipcode\" column in the `sf_permits` dataset, which has some missing values. How would you go about figuring out what the actual zipcode of each address should be? (You might try using another dataset. You can search for datasets about San Fransisco on the [Datasets listing](https://www.kaggle.com/datasets).) \n",
    "\n",
    "# Keep going\n",
    "\n",
    "In the next lesson, learn how to [**apply scaling and normalization**](https://www.kaggle.com/alexisbcook/scaling-and-normalization) to transform your data."
   ]
  },
  {
   "cell_type": "code",
   "execution_count": 16,
   "id": "d6468698",
   "metadata": {
    "execution": {
     "iopub.execute_input": "2022-06-23T08:48:51.107644Z",
     "iopub.status.busy": "2022-06-23T08:48:51.107309Z",
     "iopub.status.idle": "2022-06-23T08:48:51.111027Z",
     "shell.execute_reply": "2022-06-23T08:48:51.110044Z"
    },
    "papermill": {
     "duration": 0.014303,
     "end_time": "2022-06-23T08:48:51.113043",
     "exception": false,
     "start_time": "2022-06-23T08:48:51.098740",
     "status": "completed"
    },
    "tags": []
   },
   "outputs": [],
   "source": [
    "# Lines below will give you a hint or solution code\n",
    "#q6.hint()\n",
    "#q6.solution()"
   ]
  },
  {
   "cell_type": "markdown",
   "id": "7a36d33c",
   "metadata": {
    "papermill": {
     "duration": 0.006825,
     "end_time": "2022-06-23T08:48:51.127109",
     "exception": false,
     "start_time": "2022-06-23T08:48:51.120284",
     "status": "completed"
    },
    "tags": []
   },
   "source": [
    "---\n",
    "\n",
    "\n",
    "\n",
    "\n",
    "*Have questions or comments? Visit the [course discussion forum](https://www.kaggle.com/learn/data-cleaning/discussion) to chat with other learners.*"
   ]
  }
 ],
 "metadata": {
  "kernelspec": {
   "display_name": "Python 3",
   "language": "python",
   "name": "python3"
  },
  "language_info": {
   "codemirror_mode": {
    "name": "ipython",
    "version": 3
   },
   "file_extension": ".py",
   "mimetype": "text/x-python",
   "name": "python",
   "nbconvert_exporter": "python",
   "pygments_lexer": "ipython3",
   "version": "3.7.12"
  },
  "papermill": {
   "default_parameters": {},
   "duration": 16.503971,
   "end_time": "2022-06-23T08:48:51.855294",
   "environment_variables": {},
   "exception": null,
   "input_path": "__notebook__.ipynb",
   "output_path": "__notebook__.ipynb",
   "parameters": {},
   "start_time": "2022-06-23T08:48:35.351323",
   "version": "2.3.4"
  }
 },
 "nbformat": 4,
 "nbformat_minor": 5
}
