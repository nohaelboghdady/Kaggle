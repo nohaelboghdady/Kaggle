{
 "cells": [
  {
   "cell_type": "markdown",
   "id": "25f90013",
   "metadata": {
    "papermill": {
     "duration": 0.008906,
     "end_time": "2022-06-25T00:41:34.236920",
     "exception": false,
     "start_time": "2022-06-25T00:41:34.228014",
     "status": "completed"
    },
    "tags": []
   },
   "source": [
    "**This notebook is an exercise in the [Pandas](https://www.kaggle.com/learn/pandas) course.  You can reference the tutorial at [this link](https://www.kaggle.com/residentmario/renaming-and-combining).**\n",
    "\n",
    "---\n"
   ]
  },
  {
   "cell_type": "markdown",
   "id": "ec1ace1f",
   "metadata": {
    "papermill": {
     "duration": 0.006109,
     "end_time": "2022-06-25T00:41:34.251142",
     "exception": false,
     "start_time": "2022-06-25T00:41:34.245033",
     "status": "completed"
    },
    "tags": []
   },
   "source": [
    "# Introduction\n",
    "\n",
    "Run the following cell to load your data and some utility functions."
   ]
  },
  {
   "cell_type": "code",
   "execution_count": 1,
   "id": "ee7f87ea",
   "metadata": {
    "execution": {
     "iopub.execute_input": "2022-06-25T00:41:34.267157Z",
     "iopub.status.busy": "2022-06-25T00:41:34.266314Z",
     "iopub.status.idle": "2022-06-25T00:41:38.149864Z",
     "shell.execute_reply": "2022-06-25T00:41:38.148162Z"
    },
    "papermill": {
     "duration": 3.89532,
     "end_time": "2022-06-25T00:41:38.152731",
     "exception": false,
     "start_time": "2022-06-25T00:41:34.257411",
     "status": "completed"
    },
    "tags": []
   },
   "outputs": [
    {
     "name": "stdout",
     "output_type": "stream",
     "text": [
      "Setup complete.\n"
     ]
    }
   ],
   "source": [
    "import pandas as pd\n",
    "\n",
    "reviews = pd.read_csv(\"../input/wine-reviews/winemag-data-130k-v2.csv\", index_col=0)\n",
    "\n",
    "from learntools.core import binder; binder.bind(globals())\n",
    "from learntools.pandas.renaming_and_combining import *\n",
    "print(\"Setup complete.\")"
   ]
  },
  {
   "cell_type": "markdown",
   "id": "ad3d5fcd",
   "metadata": {
    "papermill": {
     "duration": 0.005624,
     "end_time": "2022-06-25T00:41:38.164632",
     "exception": false,
     "start_time": "2022-06-25T00:41:38.159008",
     "status": "completed"
    },
    "tags": []
   },
   "source": [
    "# Exercises\n",
    "\n",
    "View the first several lines of your data by running the cell below:"
   ]
  },
  {
   "cell_type": "code",
   "execution_count": 2,
   "id": "9ae18b21",
   "metadata": {
    "execution": {
     "iopub.execute_input": "2022-06-25T00:41:38.178681Z",
     "iopub.status.busy": "2022-06-25T00:41:38.177869Z",
     "iopub.status.idle": "2022-06-25T00:41:38.206615Z",
     "shell.execute_reply": "2022-06-25T00:41:38.205147Z"
    },
    "papermill": {
     "duration": 0.038696,
     "end_time": "2022-06-25T00:41:38.209292",
     "exception": false,
     "start_time": "2022-06-25T00:41:38.170596",
     "status": "completed"
    },
    "tags": []
   },
   "outputs": [
    {
     "data": {
      "text/html": [
       "<div>\n",
       "<style scoped>\n",
       "    .dataframe tbody tr th:only-of-type {\n",
       "        vertical-align: middle;\n",
       "    }\n",
       "\n",
       "    .dataframe tbody tr th {\n",
       "        vertical-align: top;\n",
       "    }\n",
       "\n",
       "    .dataframe thead th {\n",
       "        text-align: right;\n",
       "    }\n",
       "</style>\n",
       "<table border=\"1\" class=\"dataframe\">\n",
       "  <thead>\n",
       "    <tr style=\"text-align: right;\">\n",
       "      <th></th>\n",
       "      <th>country</th>\n",
       "      <th>description</th>\n",
       "      <th>designation</th>\n",
       "      <th>points</th>\n",
       "      <th>price</th>\n",
       "      <th>province</th>\n",
       "      <th>region_1</th>\n",
       "      <th>region_2</th>\n",
       "      <th>taster_name</th>\n",
       "      <th>taster_twitter_handle</th>\n",
       "      <th>title</th>\n",
       "      <th>variety</th>\n",
       "      <th>winery</th>\n",
       "    </tr>\n",
       "  </thead>\n",
       "  <tbody>\n",
       "    <tr>\n",
       "      <th>0</th>\n",
       "      <td>Italy</td>\n",
       "      <td>Aromas include tropical fruit, broom, brimston...</td>\n",
       "      <td>Vulkà Bianco</td>\n",
       "      <td>87</td>\n",
       "      <td>NaN</td>\n",
       "      <td>Sicily &amp; Sardinia</td>\n",
       "      <td>Etna</td>\n",
       "      <td>NaN</td>\n",
       "      <td>Kerin O’Keefe</td>\n",
       "      <td>@kerinokeefe</td>\n",
       "      <td>Nicosia 2013 Vulkà Bianco  (Etna)</td>\n",
       "      <td>White Blend</td>\n",
       "      <td>Nicosia</td>\n",
       "    </tr>\n",
       "    <tr>\n",
       "      <th>1</th>\n",
       "      <td>Portugal</td>\n",
       "      <td>This is ripe and fruity, a wine that is smooth...</td>\n",
       "      <td>Avidagos</td>\n",
       "      <td>87</td>\n",
       "      <td>15.0</td>\n",
       "      <td>Douro</td>\n",
       "      <td>NaN</td>\n",
       "      <td>NaN</td>\n",
       "      <td>Roger Voss</td>\n",
       "      <td>@vossroger</td>\n",
       "      <td>Quinta dos Avidagos 2011 Avidagos Red (Douro)</td>\n",
       "      <td>Portuguese Red</td>\n",
       "      <td>Quinta dos Avidagos</td>\n",
       "    </tr>\n",
       "    <tr>\n",
       "      <th>2</th>\n",
       "      <td>US</td>\n",
       "      <td>Tart and snappy, the flavors of lime flesh and...</td>\n",
       "      <td>NaN</td>\n",
       "      <td>87</td>\n",
       "      <td>14.0</td>\n",
       "      <td>Oregon</td>\n",
       "      <td>Willamette Valley</td>\n",
       "      <td>Willamette Valley</td>\n",
       "      <td>Paul Gregutt</td>\n",
       "      <td>@paulgwine</td>\n",
       "      <td>Rainstorm 2013 Pinot Gris (Willamette Valley)</td>\n",
       "      <td>Pinot Gris</td>\n",
       "      <td>Rainstorm</td>\n",
       "    </tr>\n",
       "    <tr>\n",
       "      <th>3</th>\n",
       "      <td>US</td>\n",
       "      <td>Pineapple rind, lemon pith and orange blossom ...</td>\n",
       "      <td>Reserve Late Harvest</td>\n",
       "      <td>87</td>\n",
       "      <td>13.0</td>\n",
       "      <td>Michigan</td>\n",
       "      <td>Lake Michigan Shore</td>\n",
       "      <td>NaN</td>\n",
       "      <td>Alexander Peartree</td>\n",
       "      <td>NaN</td>\n",
       "      <td>St. Julian 2013 Reserve Late Harvest Riesling ...</td>\n",
       "      <td>Riesling</td>\n",
       "      <td>St. Julian</td>\n",
       "    </tr>\n",
       "    <tr>\n",
       "      <th>4</th>\n",
       "      <td>US</td>\n",
       "      <td>Much like the regular bottling from 2012, this...</td>\n",
       "      <td>Vintner's Reserve Wild Child Block</td>\n",
       "      <td>87</td>\n",
       "      <td>65.0</td>\n",
       "      <td>Oregon</td>\n",
       "      <td>Willamette Valley</td>\n",
       "      <td>Willamette Valley</td>\n",
       "      <td>Paul Gregutt</td>\n",
       "      <td>@paulgwine</td>\n",
       "      <td>Sweet Cheeks 2012 Vintner's Reserve Wild Child...</td>\n",
       "      <td>Pinot Noir</td>\n",
       "      <td>Sweet Cheeks</td>\n",
       "    </tr>\n",
       "  </tbody>\n",
       "</table>\n",
       "</div>"
      ],
      "text/plain": [
       "    country                                        description  \\\n",
       "0     Italy  Aromas include tropical fruit, broom, brimston...   \n",
       "1  Portugal  This is ripe and fruity, a wine that is smooth...   \n",
       "2        US  Tart and snappy, the flavors of lime flesh and...   \n",
       "3        US  Pineapple rind, lemon pith and orange blossom ...   \n",
       "4        US  Much like the regular bottling from 2012, this...   \n",
       "\n",
       "                          designation  points  price           province  \\\n",
       "0                        Vulkà Bianco      87    NaN  Sicily & Sardinia   \n",
       "1                            Avidagos      87   15.0              Douro   \n",
       "2                                 NaN      87   14.0             Oregon   \n",
       "3                Reserve Late Harvest      87   13.0           Michigan   \n",
       "4  Vintner's Reserve Wild Child Block      87   65.0             Oregon   \n",
       "\n",
       "              region_1           region_2         taster_name  \\\n",
       "0                 Etna                NaN       Kerin O’Keefe   \n",
       "1                  NaN                NaN          Roger Voss   \n",
       "2    Willamette Valley  Willamette Valley        Paul Gregutt   \n",
       "3  Lake Michigan Shore                NaN  Alexander Peartree   \n",
       "4    Willamette Valley  Willamette Valley        Paul Gregutt   \n",
       "\n",
       "  taster_twitter_handle                                              title  \\\n",
       "0          @kerinokeefe                  Nicosia 2013 Vulkà Bianco  (Etna)   \n",
       "1            @vossroger      Quinta dos Avidagos 2011 Avidagos Red (Douro)   \n",
       "2           @paulgwine       Rainstorm 2013 Pinot Gris (Willamette Valley)   \n",
       "3                   NaN  St. Julian 2013 Reserve Late Harvest Riesling ...   \n",
       "4           @paulgwine   Sweet Cheeks 2012 Vintner's Reserve Wild Child...   \n",
       "\n",
       "          variety               winery  \n",
       "0     White Blend              Nicosia  \n",
       "1  Portuguese Red  Quinta dos Avidagos  \n",
       "2      Pinot Gris            Rainstorm  \n",
       "3        Riesling           St. Julian  \n",
       "4      Pinot Noir         Sweet Cheeks  "
      ]
     },
     "execution_count": 2,
     "metadata": {},
     "output_type": "execute_result"
    }
   ],
   "source": [
    "reviews.head()"
   ]
  },
  {
   "cell_type": "markdown",
   "id": "a13cfba1",
   "metadata": {
    "papermill": {
     "duration": 0.006202,
     "end_time": "2022-06-25T00:41:38.222051",
     "exception": false,
     "start_time": "2022-06-25T00:41:38.215849",
     "status": "completed"
    },
    "tags": []
   },
   "source": [
    "## 1.\n",
    "`region_1` and `region_2` are pretty uninformative names for locale columns in the dataset. Create a copy of `reviews` with these columns renamed to `region` and `locale`, respectively."
   ]
  },
  {
   "cell_type": "code",
   "execution_count": 3,
   "id": "6c118cd7",
   "metadata": {
    "execution": {
     "iopub.execute_input": "2022-06-25T00:41:38.237311Z",
     "iopub.status.busy": "2022-06-25T00:41:38.236322Z",
     "iopub.status.idle": "2022-06-25T00:41:38.270979Z",
     "shell.execute_reply": "2022-06-25T00:41:38.269653Z"
    },
    "papermill": {
     "duration": 0.045251,
     "end_time": "2022-06-25T00:41:38.273761",
     "exception": false,
     "start_time": "2022-06-25T00:41:38.228510",
     "status": "completed"
    },
    "tags": []
   },
   "outputs": [
    {
     "data": {
      "application/javascript": [
       "parent.postMessage({\"jupyterEvent\": \"custom.exercise_interaction\", \"data\": {\"outcomeType\": 1, \"valueTowardsCompletion\": 0.25, \"interactionType\": 1, \"questionType\": 1, \"questionId\": \"1_RenameCols\", \"learnToolsVersion\": \"0.3.4\", \"failureMessage\": \"\", \"exceptionClass\": \"\", \"trace\": \"\"}}, \"*\")"
      ],
      "text/plain": [
       "<IPython.core.display.Javascript object>"
      ]
     },
     "metadata": {},
     "output_type": "display_data"
    },
    {
     "data": {
      "text/markdown": [
       "<span style=\"color:#33cc33\">Correct</span>"
      ],
      "text/plain": [
       "Correct"
      ]
     },
     "metadata": {},
     "output_type": "display_data"
    }
   ],
   "source": [
    "# Your code here\n",
    "renamed = reviews.rename(columns={'region_1': 'region','region_2':'locale'})\n",
    "\n",
    "# Check your answer\n",
    "q1.check()"
   ]
  },
  {
   "cell_type": "code",
   "execution_count": 4,
   "id": "a1546b5c",
   "metadata": {
    "execution": {
     "iopub.execute_input": "2022-06-25T00:41:38.289781Z",
     "iopub.status.busy": "2022-06-25T00:41:38.289081Z",
     "iopub.status.idle": "2022-06-25T00:41:38.293253Z",
     "shell.execute_reply": "2022-06-25T00:41:38.292206Z"
    },
    "papermill": {
     "duration": 0.015066,
     "end_time": "2022-06-25T00:41:38.295717",
     "exception": false,
     "start_time": "2022-06-25T00:41:38.280651",
     "status": "completed"
    },
    "tags": []
   },
   "outputs": [],
   "source": [
    "#q1.hint()\n",
    "#q1.solution()"
   ]
  },
  {
   "cell_type": "markdown",
   "id": "226f8b4f",
   "metadata": {
    "papermill": {
     "duration": 0.006534,
     "end_time": "2022-06-25T00:41:38.309151",
     "exception": false,
     "start_time": "2022-06-25T00:41:38.302617",
     "status": "completed"
    },
    "tags": []
   },
   "source": [
    "## 2.\n",
    "Set the index name in the dataset to `wines`."
   ]
  },
  {
   "cell_type": "code",
   "execution_count": 5,
   "id": "c8ee819d",
   "metadata": {
    "execution": {
     "iopub.execute_input": "2022-06-25T00:41:38.324873Z",
     "iopub.status.busy": "2022-06-25T00:41:38.324462Z",
     "iopub.status.idle": "2022-06-25T00:41:38.357390Z",
     "shell.execute_reply": "2022-06-25T00:41:38.356442Z"
    },
    "papermill": {
     "duration": 0.043571,
     "end_time": "2022-06-25T00:41:38.359765",
     "exception": false,
     "start_time": "2022-06-25T00:41:38.316194",
     "status": "completed"
    },
    "tags": []
   },
   "outputs": [
    {
     "data": {
      "application/javascript": [
       "parent.postMessage({\"jupyterEvent\": \"custom.exercise_interaction\", \"data\": {\"outcomeType\": 1, \"valueTowardsCompletion\": 0.25, \"interactionType\": 1, \"questionType\": 1, \"questionId\": \"2_RenameIndex\", \"learnToolsVersion\": \"0.3.4\", \"failureMessage\": \"\", \"exceptionClass\": \"\", \"trace\": \"\"}}, \"*\")"
      ],
      "text/plain": [
       "<IPython.core.display.Javascript object>"
      ]
     },
     "metadata": {},
     "output_type": "display_data"
    },
    {
     "data": {
      "text/markdown": [
       "<span style=\"color:#33cc33\">Correct</span>"
      ],
      "text/plain": [
       "Correct"
      ]
     },
     "metadata": {},
     "output_type": "display_data"
    }
   ],
   "source": [
    "reindexed = reviews.rename_axis(\"wines\", axis='rows')\n",
    "\n",
    "# Check your answer\n",
    "q2.check()"
   ]
  },
  {
   "cell_type": "code",
   "execution_count": 6,
   "id": "d610e340",
   "metadata": {
    "execution": {
     "iopub.execute_input": "2022-06-25T00:41:38.376424Z",
     "iopub.status.busy": "2022-06-25T00:41:38.375690Z",
     "iopub.status.idle": "2022-06-25T00:41:38.380254Z",
     "shell.execute_reply": "2022-06-25T00:41:38.378977Z"
    },
    "papermill": {
     "duration": 0.015692,
     "end_time": "2022-06-25T00:41:38.382827",
     "exception": false,
     "start_time": "2022-06-25T00:41:38.367135",
     "status": "completed"
    },
    "tags": []
   },
   "outputs": [],
   "source": [
    "#q2.hint()\n",
    "#q2.solution()"
   ]
  },
  {
   "cell_type": "markdown",
   "id": "018a6ad0",
   "metadata": {
    "papermill": {
     "duration": 0.006755,
     "end_time": "2022-06-25T00:41:38.396875",
     "exception": false,
     "start_time": "2022-06-25T00:41:38.390120",
     "status": "completed"
    },
    "tags": []
   },
   "source": [
    "## 3.\n",
    "The [Things on Reddit](https://www.kaggle.com/residentmario/things-on-reddit/data) dataset includes product links from a selection of top-ranked forums (\"subreddits\") on reddit.com. Run the cell below to load a dataframe of products mentioned on the */r/gaming* subreddit and another dataframe for products mentioned on the *r//movies* subreddit."
   ]
  },
  {
   "cell_type": "code",
   "execution_count": 7,
   "id": "9701fb19",
   "metadata": {
    "execution": {
     "iopub.execute_input": "2022-06-25T00:41:38.413222Z",
     "iopub.status.busy": "2022-06-25T00:41:38.412749Z",
     "iopub.status.idle": "2022-06-25T00:41:38.429324Z",
     "shell.execute_reply": "2022-06-25T00:41:38.427945Z"
    },
    "papermill": {
     "duration": 0.02819,
     "end_time": "2022-06-25T00:41:38.432195",
     "exception": false,
     "start_time": "2022-06-25T00:41:38.404005",
     "status": "completed"
    },
    "tags": []
   },
   "outputs": [],
   "source": [
    "gaming_products = pd.read_csv(\"../input/things-on-reddit/top-things/top-things/reddits/g/gaming.csv\")\n",
    "gaming_products['subreddit'] = \"r/gaming\"\n",
    "movie_products = pd.read_csv(\"../input/things-on-reddit/top-things/top-things/reddits/m/movies.csv\")\n",
    "movie_products['subreddit'] = \"r/movies\""
   ]
  },
  {
   "cell_type": "markdown",
   "id": "2f4ca65e",
   "metadata": {
    "papermill": {
     "duration": 0.006831,
     "end_time": "2022-06-25T00:41:38.446346",
     "exception": false,
     "start_time": "2022-06-25T00:41:38.439515",
     "status": "completed"
    },
    "tags": []
   },
   "source": [
    "Create a `DataFrame` of products mentioned on *either* subreddit."
   ]
  },
  {
   "cell_type": "code",
   "execution_count": 8,
   "id": "e951ba94",
   "metadata": {
    "execution": {
     "iopub.execute_input": "2022-06-25T00:41:38.463276Z",
     "iopub.status.busy": "2022-06-25T00:41:38.462499Z",
     "iopub.status.idle": "2022-06-25T00:41:38.476695Z",
     "shell.execute_reply": "2022-06-25T00:41:38.475632Z"
    },
    "papermill": {
     "duration": 0.02524,
     "end_time": "2022-06-25T00:41:38.479050",
     "exception": false,
     "start_time": "2022-06-25T00:41:38.453810",
     "status": "completed"
    },
    "tags": []
   },
   "outputs": [
    {
     "data": {
      "application/javascript": [
       "parent.postMessage({\"jupyterEvent\": \"custom.exercise_interaction\", \"data\": {\"outcomeType\": 1, \"valueTowardsCompletion\": 0.25, \"interactionType\": 1, \"questionType\": 2, \"questionId\": \"3_ConcatReddit\", \"learnToolsVersion\": \"0.3.4\", \"failureMessage\": \"\", \"exceptionClass\": \"\", \"trace\": \"\"}}, \"*\")"
      ],
      "text/plain": [
       "<IPython.core.display.Javascript object>"
      ]
     },
     "metadata": {},
     "output_type": "display_data"
    },
    {
     "data": {
      "text/markdown": [
       "<span style=\"color:#33cc33\">Correct</span>"
      ],
      "text/plain": [
       "Correct"
      ]
     },
     "metadata": {},
     "output_type": "display_data"
    }
   ],
   "source": [
    "combined_products = pd.concat([gaming_products, movie_products])\n",
    "\n",
    "# Check your answer\n",
    "q3.check()"
   ]
  },
  {
   "cell_type": "code",
   "execution_count": 9,
   "id": "6c253e8a",
   "metadata": {
    "execution": {
     "iopub.execute_input": "2022-06-25T00:41:38.497112Z",
     "iopub.status.busy": "2022-06-25T00:41:38.496394Z",
     "iopub.status.idle": "2022-06-25T00:41:38.500604Z",
     "shell.execute_reply": "2022-06-25T00:41:38.499530Z"
    },
    "papermill": {
     "duration": 0.015788,
     "end_time": "2022-06-25T00:41:38.502990",
     "exception": false,
     "start_time": "2022-06-25T00:41:38.487202",
     "status": "completed"
    },
    "tags": []
   },
   "outputs": [],
   "source": [
    "#q3.hint()\n",
    "#q3.solution()"
   ]
  },
  {
   "cell_type": "markdown",
   "id": "6b5506cd",
   "metadata": {
    "papermill": {
     "duration": 0.007129,
     "end_time": "2022-06-25T00:41:38.518278",
     "exception": false,
     "start_time": "2022-06-25T00:41:38.511149",
     "status": "completed"
    },
    "tags": []
   },
   "source": [
    "## 4.\n",
    "The [Powerlifting Database](https://www.kaggle.com/open-powerlifting/powerlifting-database) dataset on Kaggle includes one CSV table for powerlifting meets and a separate one for powerlifting competitors. Run the cell below to load these datasets into dataframes:"
   ]
  },
  {
   "cell_type": "code",
   "execution_count": 10,
   "id": "51906858",
   "metadata": {
    "execution": {
     "iopub.execute_input": "2022-06-25T00:41:38.535622Z",
     "iopub.status.busy": "2022-06-25T00:41:38.534988Z",
     "iopub.status.idle": "2022-06-25T00:41:39.297127Z",
     "shell.execute_reply": "2022-06-25T00:41:39.296145Z"
    },
    "papermill": {
     "duration": 0.774076,
     "end_time": "2022-06-25T00:41:39.299782",
     "exception": false,
     "start_time": "2022-06-25T00:41:38.525706",
     "status": "completed"
    },
    "tags": []
   },
   "outputs": [],
   "source": [
    "powerlifting_meets = pd.read_csv(\"../input/powerlifting-database/meets.csv\")\n",
    "powerlifting_competitors = pd.read_csv(\"../input/powerlifting-database/openpowerlifting.csv\")"
   ]
  },
  {
   "cell_type": "markdown",
   "id": "b1f5ed5d",
   "metadata": {
    "papermill": {
     "duration": 0.007181,
     "end_time": "2022-06-25T00:41:39.314750",
     "exception": false,
     "start_time": "2022-06-25T00:41:39.307569",
     "status": "completed"
    },
    "tags": []
   },
   "source": [
    "Both tables include references to a `MeetID`, a unique key for each meet (competition) included in the database. Using this, generate a dataset combining the two tables into one."
   ]
  },
  {
   "cell_type": "code",
   "execution_count": 11,
   "id": "9b977d0d",
   "metadata": {
    "execution": {
     "iopub.execute_input": "2022-06-25T00:41:39.331791Z",
     "iopub.status.busy": "2022-06-25T00:41:39.331174Z",
     "iopub.status.idle": "2022-06-25T00:41:40.392956Z",
     "shell.execute_reply": "2022-06-25T00:41:40.391647Z"
    },
    "papermill": {
     "duration": 1.073161,
     "end_time": "2022-06-25T00:41:40.395371",
     "exception": false,
     "start_time": "2022-06-25T00:41:39.322210",
     "status": "completed"
    },
    "tags": []
   },
   "outputs": [
    {
     "data": {
      "application/javascript": [
       "parent.postMessage({\"jupyterEvent\": \"custom.exercise_interaction\", \"data\": {\"outcomeType\": 1, \"valueTowardsCompletion\": 0.25, \"interactionType\": 1, \"questionType\": 2, \"questionId\": \"4_JoinLifting\", \"learnToolsVersion\": \"0.3.4\", \"failureMessage\": \"\", \"exceptionClass\": \"\", \"trace\": \"\"}}, \"*\")"
      ],
      "text/plain": [
       "<IPython.core.display.Javascript object>"
      ]
     },
     "metadata": {},
     "output_type": "display_data"
    },
    {
     "data": {
      "text/markdown": [
       "<span style=\"color:#33cc33\">Correct</span>"
      ],
      "text/plain": [
       "Correct"
      ]
     },
     "metadata": {},
     "output_type": "display_data"
    }
   ],
   "source": [
    "powerlifting_combined = powerlifting_meets.set_index(\"MeetID\").join(powerlifting_competitors.set_index(\"MeetID\"))\n",
    "\n",
    "# Check your answer\n",
    "q4.check()"
   ]
  },
  {
   "cell_type": "code",
   "execution_count": 12,
   "id": "bdd007ac",
   "metadata": {
    "execution": {
     "iopub.execute_input": "2022-06-25T00:41:40.412371Z",
     "iopub.status.busy": "2022-06-25T00:41:40.411910Z",
     "iopub.status.idle": "2022-06-25T00:41:40.417312Z",
     "shell.execute_reply": "2022-06-25T00:41:40.415987Z"
    },
    "papermill": {
     "duration": 0.016755,
     "end_time": "2022-06-25T00:41:40.419745",
     "exception": false,
     "start_time": "2022-06-25T00:41:40.402990",
     "status": "completed"
    },
    "tags": []
   },
   "outputs": [],
   "source": [
    "#q4.hint()\n",
    "#q4.solution()"
   ]
  },
  {
   "cell_type": "markdown",
   "id": "c6522cf6",
   "metadata": {
    "papermill": {
     "duration": 0.007873,
     "end_time": "2022-06-25T00:41:40.435443",
     "exception": false,
     "start_time": "2022-06-25T00:41:40.427570",
     "status": "completed"
    },
    "tags": []
   },
   "source": [
    "# Congratulations!\n",
    "\n",
    "You've finished the Pandas micro-course.  Many data scientists feel efficiency with Pandas is the most useful and practical skill they have, because it allows you to progress quickly in any project you have.\n",
    "\n",
    "If you'd like to apply your new skills to examining geospatial data, you're encouraged to check out our **[Geospatial Analysis](https://www.kaggle.com/learn/geospatial-analysis)** micro-course.\n",
    "\n",
    "You can also take advantage of your Pandas skills by entering a **[Kaggle Competition](https://www.kaggle.com/competitions)** or by answering a question you find interesting using **[Kaggle Datasets](https://www.kaggle.com/datasets)**."
   ]
  },
  {
   "cell_type": "markdown",
   "id": "9366e505",
   "metadata": {
    "papermill": {
     "duration": 0.008076,
     "end_time": "2022-06-25T00:41:40.451293",
     "exception": false,
     "start_time": "2022-06-25T00:41:40.443217",
     "status": "completed"
    },
    "tags": []
   },
   "source": [
    "---\n",
    "\n",
    "\n",
    "\n",
    "\n",
    "*Have questions or comments? Visit the [course discussion forum](https://www.kaggle.com/learn/pandas/discussion) to chat with other learners.*"
   ]
  }
 ],
 "metadata": {
  "kernelspec": {
   "display_name": "Python 3",
   "language": "python",
   "name": "python3"
  },
  "language_info": {
   "codemirror_mode": {
    "name": "ipython",
    "version": 3
   },
   "file_extension": ".py",
   "mimetype": "text/x-python",
   "name": "python",
   "nbconvert_exporter": "python",
   "pygments_lexer": "ipython3",
   "version": "3.7.12"
  },
  "papermill": {
   "default_parameters": {},
   "duration": 18.006969,
   "end_time": "2022-06-25T00:41:41.281588",
   "environment_variables": {},
   "exception": null,
   "input_path": "__notebook__.ipynb",
   "output_path": "__notebook__.ipynb",
   "parameters": {},
   "start_time": "2022-06-25T00:41:23.274619",
   "version": "2.3.4"
  }
 },
 "nbformat": 4,
 "nbformat_minor": 5
}
