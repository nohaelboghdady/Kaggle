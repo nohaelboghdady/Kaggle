{
 "cells": [
  {
   "cell_type": "markdown",
   "id": "ed0c65f3",
   "metadata": {
    "papermill": {
     "duration": 0.006992,
     "end_time": "2022-06-28T00:53:39.986316",
     "exception": false,
     "start_time": "2022-06-28T00:53:39.979324",
     "status": "completed"
    },
    "tags": []
   },
   "source": [
    "**This notebook is an exercise in the [Intermediate Machine Learning](https://www.kaggle.com/learn/intermediate-machine-learning) course.  You can reference the tutorial at [this link](https://www.kaggle.com/alexisbcook/xgboost).**\n",
    "\n",
    "---\n"
   ]
  },
  {
   "cell_type": "markdown",
   "id": "774dec28",
   "metadata": {
    "papermill": {
     "duration": 0.00609,
     "end_time": "2022-06-28T00:53:39.998606",
     "exception": false,
     "start_time": "2022-06-28T00:53:39.992516",
     "status": "completed"
    },
    "tags": []
   },
   "source": [
    "In this exercise, you will use your new knowledge to train a model with **gradient boosting**.\n",
    "\n",
    "# Setup\n",
    "\n",
    "The questions below will give you feedback on your work. Run the following cell to set up the feedback system."
   ]
  },
  {
   "cell_type": "code",
   "execution_count": 1,
   "id": "f1c76bbc",
   "metadata": {
    "execution": {
     "iopub.execute_input": "2022-06-28T00:53:40.012927Z",
     "iopub.status.busy": "2022-06-28T00:53:40.012361Z",
     "iopub.status.idle": "2022-06-28T00:53:42.488733Z",
     "shell.execute_reply": "2022-06-28T00:53:42.487801Z"
    },
    "papermill": {
     "duration": 2.48582,
     "end_time": "2022-06-28T00:53:42.490816",
     "exception": false,
     "start_time": "2022-06-28T00:53:40.004996",
     "status": "completed"
    },
    "tags": []
   },
   "outputs": [
    {
     "name": "stdout",
     "output_type": "stream",
     "text": [
      "Setup Complete\n"
     ]
    }
   ],
   "source": [
    "# Set up code checking\n",
    "import os\n",
    "if not os.path.exists(\"../input/train.csv\"):\n",
    "    os.symlink(\"../input/home-data-for-ml-course/train.csv\", \"../input/train.csv\")  \n",
    "    os.symlink(\"../input/home-data-for-ml-course/test.csv\", \"../input/test.csv\") \n",
    "from learntools.core import binder\n",
    "binder.bind(globals())\n",
    "from learntools.ml_intermediate.ex6 import *\n",
    "print(\"Setup Complete\")"
   ]
  },
  {
   "cell_type": "markdown",
   "id": "69b1c39f",
   "metadata": {
    "papermill": {
     "duration": 0.003854,
     "end_time": "2022-06-28T00:53:42.499591",
     "exception": false,
     "start_time": "2022-06-28T00:53:42.495737",
     "status": "completed"
    },
    "tags": []
   },
   "source": [
    "You will work with the [Housing Prices Competition for Kaggle Learn Users](https://www.kaggle.com/c/home-data-for-ml-course) dataset from the previous exercise. \n",
    "\n",
    "![Ames Housing dataset image](https://i.imgur.com/lTJVG4e.png)\n",
    "\n",
    "Run the next code cell without changes to load the training and validation sets in `X_train`, `X_valid`, `y_train`, and `y_valid`.  The test set is loaded in `X_test`."
   ]
  },
  {
   "cell_type": "code",
   "execution_count": 2,
   "id": "9c19d400",
   "metadata": {
    "execution": {
     "iopub.execute_input": "2022-06-28T00:53:42.509357Z",
     "iopub.status.busy": "2022-06-28T00:53:42.509057Z",
     "iopub.status.idle": "2022-06-28T00:53:42.699129Z",
     "shell.execute_reply": "2022-06-28T00:53:42.698236Z"
    },
    "papermill": {
     "duration": 0.197689,
     "end_time": "2022-06-28T00:53:42.701388",
     "exception": false,
     "start_time": "2022-06-28T00:53:42.503699",
     "status": "completed"
    },
    "tags": []
   },
   "outputs": [],
   "source": [
    "import pandas as pd\n",
    "from sklearn.model_selection import train_test_split\n",
    "\n",
    "# Read the data\n",
    "X = pd.read_csv('../input/train.csv', index_col='Id')\n",
    "X_test_full = pd.read_csv('../input/test.csv', index_col='Id')\n",
    "\n",
    "# Remove rows with missing target, separate target from predictors\n",
    "X.dropna(axis=0, subset=['SalePrice'], inplace=True)\n",
    "y = X.SalePrice              \n",
    "X.drop(['SalePrice'], axis=1, inplace=True)\n",
    "\n",
    "# Break off validation set from training data\n",
    "X_train_full, X_valid_full, y_train, y_valid = train_test_split(X, y, train_size=0.8, test_size=0.2,\n",
    "                                                                random_state=0)\n",
    "\n",
    "# \"Cardinality\" means the number of unique values in a column\n",
    "# Select categorical columns with relatively low cardinality (convenient but arbitrary)\n",
    "low_cardinality_cols = [cname for cname in X_train_full.columns if X_train_full[cname].nunique() < 10 and \n",
    "                        X_train_full[cname].dtype == \"object\"]\n",
    "\n",
    "# Select numeric columns\n",
    "numeric_cols = [cname for cname in X_train_full.columns if X_train_full[cname].dtype in ['int64', 'float64']]\n",
    "\n",
    "# Keep selected columns only\n",
    "my_cols = low_cardinality_cols + numeric_cols\n",
    "X_train = X_train_full[my_cols].copy()\n",
    "X_valid = X_valid_full[my_cols].copy()\n",
    "X_test = X_test_full[my_cols].copy()\n",
    "\n",
    "# One-hot encode the data (to shorten the code, we use pandas)\n",
    "X_train = pd.get_dummies(X_train)\n",
    "X_valid = pd.get_dummies(X_valid)\n",
    "X_test = pd.get_dummies(X_test)\n",
    "X_train, X_valid = X_train.align(X_valid, join='left', axis=1)\n",
    "X_train, X_test = X_train.align(X_test, join='left', axis=1)"
   ]
  },
  {
   "cell_type": "markdown",
   "id": "45618bdb",
   "metadata": {
    "papermill": {
     "duration": 0.004055,
     "end_time": "2022-06-28T00:53:42.709610",
     "exception": false,
     "start_time": "2022-06-28T00:53:42.705555",
     "status": "completed"
    },
    "tags": []
   },
   "source": [
    "# Step 1: Build model\n",
    "\n",
    "### Part A\n",
    "\n",
    "In this step, you'll build and train your first model with gradient boosting.\n",
    "\n",
    "- Begin by setting `my_model_1` to an XGBoost model.  Use the [XGBRegressor](https://xgboost.readthedocs.io/en/latest/python/python_api.html#xgboost.XGBRegressor) class, and set the random seed to 0 (`random_state=0`).  **Leave all other parameters as default.**\n",
    "- Then, fit the model to the training data in `X_train` and `y_train`."
   ]
  },
  {
   "cell_type": "code",
   "execution_count": 3,
   "id": "45c4beb2",
   "metadata": {
    "execution": {
     "iopub.execute_input": "2022-06-28T00:53:42.718964Z",
     "iopub.status.busy": "2022-06-28T00:53:42.718590Z",
     "iopub.status.idle": "2022-06-28T00:53:43.459286Z",
     "shell.execute_reply": "2022-06-28T00:53:43.458230Z"
    },
    "papermill": {
     "duration": 0.748068,
     "end_time": "2022-06-28T00:53:43.461460",
     "exception": false,
     "start_time": "2022-06-28T00:53:42.713392",
     "status": "completed"
    },
    "tags": []
   },
   "outputs": [
    {
     "data": {
      "application/javascript": [
       "parent.postMessage({\"jupyterEvent\": \"custom.exercise_interaction\", \"data\": {\"outcomeType\": 1, \"valueTowardsCompletion\": 0.5, \"interactionType\": 1, \"questionType\": 2, \"questionId\": \"1.1_Model1A\", \"learnToolsVersion\": \"0.3.4\", \"failureMessage\": \"\", \"exceptionClass\": \"\", \"trace\": \"\"}}, \"*\")"
      ],
      "text/plain": [
       "<IPython.core.display.Javascript object>"
      ]
     },
     "metadata": {},
     "output_type": "display_data"
    },
    {
     "data": {
      "text/markdown": [
       "<span style=\"color:#33cc33\">Correct</span>"
      ],
      "text/plain": [
       "Correct"
      ]
     },
     "metadata": {},
     "output_type": "display_data"
    }
   ],
   "source": [
    "from xgboost import XGBRegressor\n",
    "\n",
    "# Define the model\n",
    "my_model_1 = XGBRegressor()# Your code here\n",
    "\n",
    "# Fit the model\n",
    "my_model_1.fit(X_train, y_train) # Your code here\n",
    "\n",
    "# Check your answer\n",
    "step_1.a.check()"
   ]
  },
  {
   "cell_type": "code",
   "execution_count": 4,
   "id": "18af6927",
   "metadata": {
    "execution": {
     "iopub.execute_input": "2022-06-28T00:53:43.472028Z",
     "iopub.status.busy": "2022-06-28T00:53:43.471104Z",
     "iopub.status.idle": "2022-06-28T00:53:43.475873Z",
     "shell.execute_reply": "2022-06-28T00:53:43.474657Z"
    },
    "papermill": {
     "duration": 0.012098,
     "end_time": "2022-06-28T00:53:43.478016",
     "exception": false,
     "start_time": "2022-06-28T00:53:43.465918",
     "status": "completed"
    },
    "tags": []
   },
   "outputs": [],
   "source": [
    "# Lines below will give you a hint or solution code\n",
    "#step_1.a.hint()\n",
    "#step_1.a.solution()"
   ]
  },
  {
   "cell_type": "markdown",
   "id": "5c4d7615",
   "metadata": {
    "papermill": {
     "duration": 0.004002,
     "end_time": "2022-06-28T00:53:43.486500",
     "exception": false,
     "start_time": "2022-06-28T00:53:43.482498",
     "status": "completed"
    },
    "tags": []
   },
   "source": [
    "### Part B\n",
    "\n",
    "Set `predictions_1` to the model's predictions for the validation data.  Recall that the validation features are stored in `X_valid`."
   ]
  },
  {
   "cell_type": "code",
   "execution_count": 5,
   "id": "50d48d66",
   "metadata": {
    "execution": {
     "iopub.execute_input": "2022-06-28T00:53:43.496829Z",
     "iopub.status.busy": "2022-06-28T00:53:43.496086Z",
     "iopub.status.idle": "2022-06-28T00:53:43.524323Z",
     "shell.execute_reply": "2022-06-28T00:53:43.523287Z"
    },
    "papermill": {
     "duration": 0.036175,
     "end_time": "2022-06-28T00:53:43.526958",
     "exception": false,
     "start_time": "2022-06-28T00:53:43.490783",
     "status": "completed"
    },
    "tags": []
   },
   "outputs": [
    {
     "data": {
      "application/javascript": [
       "parent.postMessage({\"jupyterEvent\": \"custom.exercise_interaction\", \"data\": {\"outcomeType\": 1, \"valueTowardsCompletion\": 0.5, \"interactionType\": 1, \"questionType\": 2, \"questionId\": \"1.2_Model1B\", \"learnToolsVersion\": \"0.3.4\", \"failureMessage\": \"\", \"exceptionClass\": \"\", \"trace\": \"\"}}, \"*\")"
      ],
      "text/plain": [
       "<IPython.core.display.Javascript object>"
      ]
     },
     "metadata": {},
     "output_type": "display_data"
    },
    {
     "data": {
      "text/markdown": [
       "<span style=\"color:#33cc33\">Correct</span>"
      ],
      "text/plain": [
       "Correct"
      ]
     },
     "metadata": {},
     "output_type": "display_data"
    }
   ],
   "source": [
    "from sklearn.metrics import mean_absolute_error\n",
    "\n",
    "# Get predictions\n",
    "predictions_1 = my_model_1.predict(X_valid) # Your code here\n",
    "\n",
    "# Check your answer\n",
    "step_1.b.check()"
   ]
  },
  {
   "cell_type": "code",
   "execution_count": 6,
   "id": "e6c9122e",
   "metadata": {
    "execution": {
     "iopub.execute_input": "2022-06-28T00:53:43.543815Z",
     "iopub.status.busy": "2022-06-28T00:53:43.543509Z",
     "iopub.status.idle": "2022-06-28T00:53:43.547326Z",
     "shell.execute_reply": "2022-06-28T00:53:43.546173Z"
    },
    "papermill": {
     "duration": 0.01536,
     "end_time": "2022-06-28T00:53:43.549964",
     "exception": false,
     "start_time": "2022-06-28T00:53:43.534604",
     "status": "completed"
    },
    "tags": []
   },
   "outputs": [],
   "source": [
    "# Lines below will give you a hint or solution code\n",
    "#step_1.b.hint()\n",
    "#step_1.b.solution()"
   ]
  },
  {
   "cell_type": "markdown",
   "id": "8636593d",
   "metadata": {
    "papermill": {
     "duration": 0.007091,
     "end_time": "2022-06-28T00:53:43.564499",
     "exception": false,
     "start_time": "2022-06-28T00:53:43.557408",
     "status": "completed"
    },
    "tags": []
   },
   "source": [
    "### Part C\n",
    "\n",
    "Finally, use the `mean_absolute_error()` function to calculate the mean absolute error (MAE) corresponding to the predictions for the validation set.  Recall that the labels for the validation data are stored in `y_valid`."
   ]
  },
  {
   "cell_type": "code",
   "execution_count": 7,
   "id": "a21af3a9",
   "metadata": {
    "execution": {
     "iopub.execute_input": "2022-06-28T00:53:43.581859Z",
     "iopub.status.busy": "2022-06-28T00:53:43.580548Z",
     "iopub.status.idle": "2022-06-28T00:53:43.590949Z",
     "shell.execute_reply": "2022-06-28T00:53:43.589665Z"
    },
    "papermill": {
     "duration": 0.021909,
     "end_time": "2022-06-28T00:53:43.593757",
     "exception": false,
     "start_time": "2022-06-28T00:53:43.571848",
     "status": "completed"
    },
    "tags": []
   },
   "outputs": [
    {
     "name": "stdout",
     "output_type": "stream",
     "text": [
      "Mean Absolute Error: 17662.736729452055\n"
     ]
    },
    {
     "data": {
      "application/javascript": [
       "parent.postMessage({\"jupyterEvent\": \"custom.exercise_interaction\", \"data\": {\"outcomeType\": 1, \"valueTowardsCompletion\": 0.5, \"interactionType\": 1, \"questionType\": 2, \"questionId\": \"1.3_Model1C\", \"learnToolsVersion\": \"0.3.4\", \"failureMessage\": \"\", \"exceptionClass\": \"\", \"trace\": \"\"}}, \"*\")"
      ],
      "text/plain": [
       "<IPython.core.display.Javascript object>"
      ]
     },
     "metadata": {},
     "output_type": "display_data"
    },
    {
     "data": {
      "text/markdown": [
       "<span style=\"color:#33cc33\">Correct</span>"
      ],
      "text/plain": [
       "Correct"
      ]
     },
     "metadata": {},
     "output_type": "display_data"
    }
   ],
   "source": [
    "# Calculate MAE\n",
    "mae_1 = mean_absolute_error(predictions_1, y_valid) # Your code here\n",
    "\n",
    "# Uncomment to print MAE\n",
    "print(\"Mean Absolute Error:\" , mae_1)\n",
    "\n",
    "# Check your answer\n",
    "step_1.c.check()"
   ]
  },
  {
   "cell_type": "code",
   "execution_count": 8,
   "id": "046ff57b",
   "metadata": {
    "execution": {
     "iopub.execute_input": "2022-06-28T00:53:43.610756Z",
     "iopub.status.busy": "2022-06-28T00:53:43.610427Z",
     "iopub.status.idle": "2022-06-28T00:53:43.615429Z",
     "shell.execute_reply": "2022-06-28T00:53:43.614504Z"
    },
    "papermill": {
     "duration": 0.016121,
     "end_time": "2022-06-28T00:53:43.617797",
     "exception": false,
     "start_time": "2022-06-28T00:53:43.601676",
     "status": "completed"
    },
    "tags": []
   },
   "outputs": [],
   "source": [
    "# Lines below will give you a hint or solution code\n",
    "#step_1.c.hint()\n",
    "#step_1.c.solution()"
   ]
  },
  {
   "cell_type": "markdown",
   "id": "181bf3c1",
   "metadata": {
    "papermill": {
     "duration": 0.007832,
     "end_time": "2022-06-28T00:53:43.633680",
     "exception": false,
     "start_time": "2022-06-28T00:53:43.625848",
     "status": "completed"
    },
    "tags": []
   },
   "source": [
    "# Step 2: Improve the model\n",
    "\n",
    "Now that you've trained a default model as baseline, it's time to tinker with the parameters, to see if you can get better performance!\n",
    "- Begin by setting `my_model_2` to an XGBoost model, using the [XGBRegressor](https://xgboost.readthedocs.io/en/latest/python/python_api.html#xgboost.XGBRegressor) class.  Use what you learned in the previous tutorial to figure out how to change the default parameters (like `n_estimators` and `learning_rate`) to get better results.\n",
    "- Then, fit the model to the training data in `X_train` and `y_train`.\n",
    "- Set `predictions_2` to the model's predictions for the validation data.  Recall that the validation features are stored in `X_valid`.\n",
    "- Finally, use the `mean_absolute_error()` function to calculate the mean absolute error (MAE) corresponding to the predictions on the validation set.  Recall that the labels for the validation data are stored in `y_valid`.\n",
    "\n",
    "In order for this step to be marked correct, your model in `my_model_2` must attain lower MAE than the model in `my_model_1`. "
   ]
  },
  {
   "cell_type": "code",
   "execution_count": 9,
   "id": "298c8465",
   "metadata": {
    "execution": {
     "iopub.execute_input": "2022-06-28T00:53:43.650637Z",
     "iopub.status.busy": "2022-06-28T00:53:43.650271Z",
     "iopub.status.idle": "2022-06-28T00:53:45.908471Z",
     "shell.execute_reply": "2022-06-28T00:53:45.907751Z"
    },
    "papermill": {
     "duration": 2.269264,
     "end_time": "2022-06-28T00:53:45.910741",
     "exception": false,
     "start_time": "2022-06-28T00:53:43.641477",
     "status": "completed"
    },
    "tags": []
   },
   "outputs": [
    {
     "name": "stderr",
     "output_type": "stream",
     "text": [
      "/opt/conda/lib/python3.7/site-packages/xgboost/sklearn.py:797: UserWarning: `early_stopping_rounds` in `fit` method is deprecated for better compatibility with scikit-learn, use `early_stopping_rounds` in constructor or`set_params` instead.\n",
      "  UserWarning,\n"
     ]
    },
    {
     "name": "stdout",
     "output_type": "stream",
     "text": [
      "Mean Absolute Error: 16802.965325342466\n"
     ]
    },
    {
     "data": {
      "application/javascript": [
       "parent.postMessage({\"jupyterEvent\": \"custom.exercise_interaction\", \"data\": {\"outcomeType\": 1, \"valueTowardsCompletion\": 0.5, \"interactionType\": 1, \"questionType\": 2, \"questionId\": \"2_Model2\", \"learnToolsVersion\": \"0.3.4\", \"failureMessage\": \"\", \"exceptionClass\": \"\", \"trace\": \"\"}}, \"*\")"
      ],
      "text/plain": [
       "<IPython.core.display.Javascript object>"
      ]
     },
     "metadata": {},
     "output_type": "display_data"
    },
    {
     "data": {
      "text/markdown": [
       "<span style=\"color:#33cc33\">Correct</span>"
      ],
      "text/plain": [
       "Correct"
      ]
     },
     "metadata": {},
     "output_type": "display_data"
    }
   ],
   "source": [
    "# Define the model\n",
    "my_model_2 = XGBRegressor(n_estimators=1000, learning_rate=0.05)# Your code here\n",
    "\n",
    "# Fit the model\n",
    "my_model_2.fit(X_train, y_train, \n",
    "             early_stopping_rounds=5, \n",
    "             eval_set=[(X_valid, y_valid)], \n",
    "             verbose=False)# Your code here\n",
    "\n",
    "# Get predictions\n",
    "predictions_2 = my_model_2.predict(X_valid)# Your code here\n",
    "\n",
    "# Calculate MAE\n",
    "mae_2 = mean_absolute_error(predictions_2, y_valid) # Your code here\n",
    "\n",
    "# Uncomment to print MAE\n",
    "print(\"Mean Absolute Error:\" , mae_2)\n",
    "\n",
    "# Check your answer\n",
    "step_2.check()"
   ]
  },
  {
   "cell_type": "code",
   "execution_count": 10,
   "id": "38ee1a83",
   "metadata": {
    "execution": {
     "iopub.execute_input": "2022-06-28T00:53:45.929102Z",
     "iopub.status.busy": "2022-06-28T00:53:45.928711Z",
     "iopub.status.idle": "2022-06-28T00:53:45.932540Z",
     "shell.execute_reply": "2022-06-28T00:53:45.931885Z"
    },
    "papermill": {
     "duration": 0.014953,
     "end_time": "2022-06-28T00:53:45.934077",
     "exception": false,
     "start_time": "2022-06-28T00:53:45.919124",
     "status": "completed"
    },
    "tags": []
   },
   "outputs": [],
   "source": [
    "# Lines below will give you a hint or solution code\n",
    "#step_2.hint()\n",
    "#step_2.solution()"
   ]
  },
  {
   "cell_type": "markdown",
   "id": "e37dc7ee",
   "metadata": {
    "papermill": {
     "duration": 0.0054,
     "end_time": "2022-06-28T00:53:45.944768",
     "exception": false,
     "start_time": "2022-06-28T00:53:45.939368",
     "status": "completed"
    },
    "tags": []
   },
   "source": [
    "# Step 3: Break the model\n",
    "\n",
    "In this step, you will create a model that performs worse than the original model in Step 1.  This will help you to develop your intuition for how to set parameters.  You might even find that you accidentally get better performance, which is ultimately a nice problem to have and a valuable learning experience!\n",
    "- Begin by setting `my_model_3` to an XGBoost model, using the [XGBRegressor](https://xgboost.readthedocs.io/en/latest/python/python_api.html#xgboost.XGBRegressor) class.  Use what you learned in the previous tutorial to figure out how to change the default parameters (like `n_estimators` and `learning_rate`) to design a model to get high MAE.\n",
    "- Then, fit the model to the training data in `X_train` and `y_train`.\n",
    "- Set `predictions_3` to the model's predictions for the validation data.  Recall that the validation features are stored in `X_valid`.\n",
    "- Finally, use the `mean_absolute_error()` function to calculate the mean absolute error (MAE) corresponding to the predictions on the validation set.  Recall that the labels for the validation data are stored in `y_valid`.\n",
    "\n",
    "In order for this step to be marked correct, your model in `my_model_3` must attain higher MAE than the model in `my_model_1`. "
   ]
  },
  {
   "cell_type": "code",
   "execution_count": 11,
   "id": "6a73efc5",
   "metadata": {
    "execution": {
     "iopub.execute_input": "2022-06-28T00:53:45.957172Z",
     "iopub.status.busy": "2022-06-28T00:53:45.956659Z",
     "iopub.status.idle": "2022-06-28T00:53:46.090448Z",
     "shell.execute_reply": "2022-06-28T00:53:46.089725Z"
    },
    "papermill": {
     "duration": 0.142169,
     "end_time": "2022-06-28T00:53:46.092336",
     "exception": false,
     "start_time": "2022-06-28T00:53:45.950167",
     "status": "completed"
    },
    "tags": []
   },
   "outputs": [
    {
     "name": "stdout",
     "output_type": "stream",
     "text": [
      "Mean Absolute Error: 20568.527838720034\n"
     ]
    },
    {
     "data": {
      "application/javascript": [
       "parent.postMessage({\"jupyterEvent\": \"custom.exercise_interaction\", \"data\": {\"outcomeType\": 1, \"valueTowardsCompletion\": 0.5, \"interactionType\": 1, \"questionType\": 2, \"questionId\": \"3_Model3\", \"learnToolsVersion\": \"0.3.4\", \"failureMessage\": \"\", \"exceptionClass\": \"\", \"trace\": \"\"}}, \"*\")"
      ],
      "text/plain": [
       "<IPython.core.display.Javascript object>"
      ]
     },
     "metadata": {},
     "output_type": "display_data"
    },
    {
     "data": {
      "text/markdown": [
       "<span style=\"color:#33cc33\">Correct</span>"
      ],
      "text/plain": [
       "Correct"
      ]
     },
     "metadata": {},
     "output_type": "display_data"
    }
   ],
   "source": [
    "# Define the model\n",
    "my_model_3 = XGBRegressor(n_estimators=10, learning_rate=0.5)\n",
    "\n",
    "# Fit the model\n",
    "my_model_3.fit(X_train, y_train) # Your code here\n",
    "\n",
    "# Get predictions\n",
    "predictions_3 = my_model_3.predict(X_valid)\n",
    "\n",
    "# Calculate MAE\n",
    "mae_3 = mean_absolute_error(predictions_3, y_valid)\n",
    "\n",
    "# Uncomment to print MAE\n",
    "print(\"Mean Absolute Error:\" , mae_3)\n",
    "\n",
    "# Check your answer\n",
    "step_3.check()"
   ]
  },
  {
   "cell_type": "code",
   "execution_count": 12,
   "id": "96866127",
   "metadata": {
    "execution": {
     "iopub.execute_input": "2022-06-28T00:53:46.105923Z",
     "iopub.status.busy": "2022-06-28T00:53:46.105513Z",
     "iopub.status.idle": "2022-06-28T00:53:46.110289Z",
     "shell.execute_reply": "2022-06-28T00:53:46.109342Z"
    },
    "papermill": {
     "duration": 0.013187,
     "end_time": "2022-06-28T00:53:46.112191",
     "exception": false,
     "start_time": "2022-06-28T00:53:46.099004",
     "status": "completed"
    },
    "tags": []
   },
   "outputs": [],
   "source": [
    "# Lines below will give you a hint or solution code\n",
    "#step_3.hint()\n",
    "#step_3.solution()"
   ]
  },
  {
   "cell_type": "markdown",
   "id": "8a24972e",
   "metadata": {
    "papermill": {
     "duration": 0.005061,
     "end_time": "2022-06-28T00:53:46.123059",
     "exception": false,
     "start_time": "2022-06-28T00:53:46.117998",
     "status": "completed"
    },
    "tags": []
   },
   "source": [
    "# Keep going\n",
    "\n",
    "Continue to learn about **[data leakage](https://www.kaggle.com/alexisbcook/data-leakage)**.  This is an important issue for a data scientist to understand, and it has the potential to ruin your models in subtle and dangerous ways!"
   ]
  },
  {
   "cell_type": "markdown",
   "id": "cc98850a",
   "metadata": {
    "papermill": {
     "duration": 0.005055,
     "end_time": "2022-06-28T00:53:46.133279",
     "exception": false,
     "start_time": "2022-06-28T00:53:46.128224",
     "status": "completed"
    },
    "tags": []
   },
   "source": [
    "---\n",
    "\n",
    "\n",
    "\n",
    "\n",
    "*Have questions or comments? Visit the [course discussion forum](https://www.kaggle.com/learn/intermediate-machine-learning/discussion) to chat with other learners.*"
   ]
  }
 ],
 "metadata": {
  "kernelspec": {
   "display_name": "Python 3",
   "language": "python",
   "name": "python3"
  },
  "language_info": {
   "codemirror_mode": {
    "name": "ipython",
    "version": 3
   },
   "file_extension": ".py",
   "mimetype": "text/x-python",
   "name": "python",
   "nbconvert_exporter": "python",
   "pygments_lexer": "ipython3",
   "version": "3.7.12"
  },
  "papermill": {
   "default_parameters": {},
   "duration": 17.894567,
   "end_time": "2022-06-28T00:53:47.060555",
   "environment_variables": {},
   "exception": null,
   "input_path": "__notebook__.ipynb",
   "output_path": "__notebook__.ipynb",
   "parameters": {},
   "start_time": "2022-06-28T00:53:29.165988",
   "version": "2.3.4"
  }
 },
 "nbformat": 4,
 "nbformat_minor": 5
}
