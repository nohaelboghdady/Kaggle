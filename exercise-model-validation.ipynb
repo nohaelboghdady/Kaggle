{
 "cells": [
  {
   "cell_type": "markdown",
   "id": "60726088",
   "metadata": {
    "papermill": {
     "duration": 0.005898,
     "end_time": "2022-06-25T23:28:39.488726",
     "exception": false,
     "start_time": "2022-06-25T23:28:39.482828",
     "status": "completed"
    },
    "tags": []
   },
   "source": [
    "**This notebook is an exercise in the [Introduction to Machine Learning](https://www.kaggle.com/learn/intro-to-machine-learning) course.  You can reference the tutorial at [this link](https://www.kaggle.com/dansbecker/model-validation).**\n",
    "\n",
    "---\n"
   ]
  },
  {
   "cell_type": "markdown",
   "id": "b8797bff",
   "metadata": {
    "papermill": {
     "duration": 0.004653,
     "end_time": "2022-06-25T23:28:39.498534",
     "exception": false,
     "start_time": "2022-06-25T23:28:39.493881",
     "status": "completed"
    },
    "tags": []
   },
   "source": [
    "## Recap\n",
    "You've built a model. In this exercise you will test how good your model is.\n",
    "\n",
    "Run the cell below to set up your coding environment where the previous exercise left off."
   ]
  },
  {
   "cell_type": "code",
   "execution_count": 1,
   "id": "76ac28a5",
   "metadata": {
    "execution": {
     "iopub.execute_input": "2022-06-25T23:28:39.511253Z",
     "iopub.status.busy": "2022-06-25T23:28:39.510290Z",
     "iopub.status.idle": "2022-06-25T23:28:40.792291Z",
     "shell.execute_reply": "2022-06-25T23:28:40.790928Z"
    },
    "papermill": {
     "duration": 1.292639,
     "end_time": "2022-06-25T23:28:40.796054",
     "exception": false,
     "start_time": "2022-06-25T23:28:39.503415",
     "status": "completed"
    },
    "tags": []
   },
   "outputs": [
    {
     "name": "stdout",
     "output_type": "stream",
     "text": [
      "First in-sample predictions: [208500. 181500. 223500. 140000. 250000.]\n",
      "Actual target values for those homes: [208500, 181500, 223500, 140000, 250000]\n",
      "Setup Complete\n"
     ]
    }
   ],
   "source": [
    "# Code you have previously used to load data\n",
    "import pandas as pd\n",
    "from sklearn.tree import DecisionTreeRegressor\n",
    "\n",
    "# Path of the file to read\n",
    "iowa_file_path = '../input/home-data-for-ml-course/train.csv'\n",
    "\n",
    "home_data = pd.read_csv(iowa_file_path)\n",
    "y = home_data.SalePrice\n",
    "feature_columns = ['LotArea', 'YearBuilt', '1stFlrSF', '2ndFlrSF', 'FullBath', 'BedroomAbvGr', 'TotRmsAbvGrd']\n",
    "X = home_data[feature_columns]\n",
    "\n",
    "# Specify Model\n",
    "iowa_model = DecisionTreeRegressor()\n",
    "# Fit Model\n",
    "iowa_model.fit(X, y)\n",
    "\n",
    "print(\"First in-sample predictions:\", iowa_model.predict(X.head()))\n",
    "print(\"Actual target values for those homes:\", y.head().tolist())\n",
    "\n",
    "# Set up code checking\n",
    "from learntools.core import binder\n",
    "binder.bind(globals())\n",
    "from learntools.machine_learning.ex4 import *\n",
    "print(\"Setup Complete\")"
   ]
  },
  {
   "cell_type": "markdown",
   "id": "8c4a4aca",
   "metadata": {
    "papermill": {
     "duration": 0.004768,
     "end_time": "2022-06-25T23:28:40.806651",
     "exception": false,
     "start_time": "2022-06-25T23:28:40.801883",
     "status": "completed"
    },
    "tags": []
   },
   "source": [
    "# Exercises\n",
    "\n",
    "## Step 1: Split Your Data\n",
    "Use the `train_test_split` function to split up your data.\n",
    "\n",
    "Give it the argument `random_state=1` so the `check` functions know what to expect when verifying your code.\n",
    "\n",
    "Recall, your features are loaded in the DataFrame **X** and your target is loaded in **y**.\n"
   ]
  },
  {
   "cell_type": "code",
   "execution_count": 2,
   "id": "575ed561",
   "metadata": {
    "execution": {
     "iopub.execute_input": "2022-06-25T23:28:40.818941Z",
     "iopub.status.busy": "2022-06-25T23:28:40.818295Z",
     "iopub.status.idle": "2022-06-25T23:28:40.833471Z",
     "shell.execute_reply": "2022-06-25T23:28:40.832343Z"
    },
    "papermill": {
     "duration": 0.024087,
     "end_time": "2022-06-25T23:28:40.835865",
     "exception": false,
     "start_time": "2022-06-25T23:28:40.811778",
     "status": "completed"
    },
    "tags": []
   },
   "outputs": [
    {
     "data": {
      "application/javascript": [
       "parent.postMessage({\"jupyterEvent\": \"custom.exercise_interaction\", \"data\": {\"outcomeType\": 1, \"valueTowardsCompletion\": 0.25, \"interactionType\": 1, \"questionType\": 2, \"questionId\": \"1_SplitData\", \"learnToolsVersion\": \"0.3.4\", \"failureMessage\": \"\", \"exceptionClass\": \"\", \"trace\": \"\"}}, \"*\")"
      ],
      "text/plain": [
       "<IPython.core.display.Javascript object>"
      ]
     },
     "metadata": {},
     "output_type": "display_data"
    },
    {
     "data": {
      "text/markdown": [
       "<span style=\"color:#33cc33\">Correct</span>"
      ],
      "text/plain": [
       "Correct"
      ]
     },
     "metadata": {},
     "output_type": "display_data"
    }
   ],
   "source": [
    "# Import the train_test_split function and uncomment\n",
    "# from _ import _\n",
    "from sklearn.model_selection import train_test_split\n",
    "\n",
    "# fill in and uncomment\n",
    "train_X, val_X, train_y, val_y = train_test_split(X, y, random_state = 1)\n",
    "\n",
    "# Check your answer\n",
    "step_1.check()"
   ]
  },
  {
   "cell_type": "code",
   "execution_count": 3,
   "id": "3754bc0e",
   "metadata": {
    "execution": {
     "iopub.execute_input": "2022-06-25T23:28:40.848530Z",
     "iopub.status.busy": "2022-06-25T23:28:40.847791Z",
     "iopub.status.idle": "2022-06-25T23:28:40.852222Z",
     "shell.execute_reply": "2022-06-25T23:28:40.851492Z"
    },
    "papermill": {
     "duration": 0.013309,
     "end_time": "2022-06-25T23:28:40.854409",
     "exception": false,
     "start_time": "2022-06-25T23:28:40.841100",
     "status": "completed"
    },
    "tags": []
   },
   "outputs": [],
   "source": [
    "# The lines below will show you a hint or the solution.\n",
    "# step_1.hint() \n",
    "# step_1.solution()\n"
   ]
  },
  {
   "cell_type": "markdown",
   "id": "45a1f1e8",
   "metadata": {
    "papermill": {
     "duration": 0.004937,
     "end_time": "2022-06-25T23:28:40.864777",
     "exception": false,
     "start_time": "2022-06-25T23:28:40.859840",
     "status": "completed"
    },
    "tags": []
   },
   "source": [
    "## Step 2: Specify and Fit the Model\n",
    "\n",
    "Create a `DecisionTreeRegressor` model and fit it to the relevant data.\n",
    "Set `random_state` to 1 again when creating the model."
   ]
  },
  {
   "cell_type": "code",
   "execution_count": 4,
   "id": "c9c4827f",
   "metadata": {
    "execution": {
     "iopub.execute_input": "2022-06-25T23:28:40.877646Z",
     "iopub.status.busy": "2022-06-25T23:28:40.877263Z",
     "iopub.status.idle": "2022-06-25T23:28:40.907373Z",
     "shell.execute_reply": "2022-06-25T23:28:40.906283Z"
    },
    "papermill": {
     "duration": 0.039856,
     "end_time": "2022-06-25T23:28:40.909996",
     "exception": false,
     "start_time": "2022-06-25T23:28:40.870140",
     "status": "completed"
    },
    "tags": []
   },
   "outputs": [
    {
     "name": "stdout",
     "output_type": "stream",
     "text": [
      "[186500. 184000. 130000.  92000. 164500. 220000. 335000. 144152. 215000.\n",
      " 262000.]\n",
      "[186500. 184000. 130000.  92000. 164500. 220000. 335000. 144152. 215000.\n",
      " 262000.]\n"
     ]
    },
    {
     "data": {
      "application/javascript": [
       "parent.postMessage({\"jupyterEvent\": \"custom.exercise_interaction\", \"data\": {\"outcomeType\": 1, \"valueTowardsCompletion\": 0.25, \"interactionType\": 1, \"questionType\": 2, \"questionId\": \"2_FitModelWithTrain\", \"learnToolsVersion\": \"0.3.4\", \"failureMessage\": \"\", \"exceptionClass\": \"\", \"trace\": \"\"}}, \"*\")"
      ],
      "text/plain": [
       "<IPython.core.display.Javascript object>"
      ]
     },
     "metadata": {},
     "output_type": "display_data"
    },
    {
     "data": {
      "text/markdown": [
       "<span style=\"color:#33cc33\">Correct</span>"
      ],
      "text/plain": [
       "Correct"
      ]
     },
     "metadata": {},
     "output_type": "display_data"
    }
   ],
   "source": [
    "# You imported DecisionTreeRegressor in your last exercise\n",
    "# and that code has been copied to the setup code above. So, no need to\n",
    "# import it again\n",
    "\n",
    "# Specify the model\n",
    "iowa_model = DecisionTreeRegressor(random_state=1)\n",
    "\n",
    "# Fit iowa_model with the training data.\n",
    "iowa_model.fit(train_X,train_y)\n",
    "\n",
    "# Check your answer\n",
    "step_2.check()"
   ]
  },
  {
   "cell_type": "code",
   "execution_count": 5,
   "id": "3d04ca8e",
   "metadata": {
    "execution": {
     "iopub.execute_input": "2022-06-25T23:28:40.923677Z",
     "iopub.status.busy": "2022-06-25T23:28:40.923141Z",
     "iopub.status.idle": "2022-06-25T23:28:40.927525Z",
     "shell.execute_reply": "2022-06-25T23:28:40.926407Z"
    },
    "papermill": {
     "duration": 0.013969,
     "end_time": "2022-06-25T23:28:40.929800",
     "exception": false,
     "start_time": "2022-06-25T23:28:40.915831",
     "status": "completed"
    },
    "tags": []
   },
   "outputs": [],
   "source": [
    "# step_2.hint()\n",
    "# step_2.solution()"
   ]
  },
  {
   "cell_type": "markdown",
   "id": "71b817d7",
   "metadata": {
    "papermill": {
     "duration": 0.00553,
     "end_time": "2022-06-25T23:28:40.941188",
     "exception": false,
     "start_time": "2022-06-25T23:28:40.935658",
     "status": "completed"
    },
    "tags": []
   },
   "source": [
    "## Step 3: Make Predictions with Validation data\n"
   ]
  },
  {
   "cell_type": "code",
   "execution_count": 6,
   "id": "e9a817cd",
   "metadata": {
    "execution": {
     "iopub.execute_input": "2022-06-25T23:28:40.954962Z",
     "iopub.status.busy": "2022-06-25T23:28:40.954235Z",
     "iopub.status.idle": "2022-06-25T23:28:40.967190Z",
     "shell.execute_reply": "2022-06-25T23:28:40.966033Z"
    },
    "papermill": {
     "duration": 0.022405,
     "end_time": "2022-06-25T23:28:40.969385",
     "exception": false,
     "start_time": "2022-06-25T23:28:40.946980",
     "status": "completed"
    },
    "tags": []
   },
   "outputs": [
    {
     "data": {
      "application/javascript": [
       "parent.postMessage({\"jupyterEvent\": \"custom.exercise_interaction\", \"data\": {\"outcomeType\": 1, \"valueTowardsCompletion\": 0.25, \"interactionType\": 1, \"questionType\": 2, \"questionId\": \"3_ValPreds\", \"learnToolsVersion\": \"0.3.4\", \"failureMessage\": \"\", \"exceptionClass\": \"\", \"trace\": \"\"}}, \"*\")"
      ],
      "text/plain": [
       "<IPython.core.display.Javascript object>"
      ]
     },
     "metadata": {},
     "output_type": "display_data"
    },
    {
     "data": {
      "text/markdown": [
       "<span style=\"color:#33cc33\">Correct</span>"
      ],
      "text/plain": [
       "Correct"
      ]
     },
     "metadata": {},
     "output_type": "display_data"
    }
   ],
   "source": [
    "# Predict with all validation observations\n",
    "val_predictions = iowa_model.predict(val_X)\n",
    "\n",
    "# Check your answer\n",
    "step_3.check()"
   ]
  },
  {
   "cell_type": "code",
   "execution_count": 7,
   "id": "4affe90b",
   "metadata": {
    "execution": {
     "iopub.execute_input": "2022-06-25T23:28:40.983564Z",
     "iopub.status.busy": "2022-06-25T23:28:40.982819Z",
     "iopub.status.idle": "2022-06-25T23:28:40.987247Z",
     "shell.execute_reply": "2022-06-25T23:28:40.986478Z"
    },
    "papermill": {
     "duration": 0.014008,
     "end_time": "2022-06-25T23:28:40.989403",
     "exception": false,
     "start_time": "2022-06-25T23:28:40.975395",
     "status": "completed"
    },
    "tags": []
   },
   "outputs": [],
   "source": [
    "# step_3.hint()\n",
    "# step_3.solution()"
   ]
  },
  {
   "cell_type": "markdown",
   "id": "dcac2931",
   "metadata": {
    "papermill": {
     "duration": 0.005658,
     "end_time": "2022-06-25T23:28:41.000982",
     "exception": false,
     "start_time": "2022-06-25T23:28:40.995324",
     "status": "completed"
    },
    "tags": []
   },
   "source": [
    "Inspect your predictions and actual values from validation data."
   ]
  },
  {
   "cell_type": "code",
   "execution_count": 8,
   "id": "16b41382",
   "metadata": {
    "execution": {
     "iopub.execute_input": "2022-06-25T23:28:41.014677Z",
     "iopub.status.busy": "2022-06-25T23:28:41.014034Z",
     "iopub.status.idle": "2022-06-25T23:28:41.022187Z",
     "shell.execute_reply": "2022-06-25T23:28:41.020606Z"
    },
    "papermill": {
     "duration": 0.018617,
     "end_time": "2022-06-25T23:28:41.025507",
     "exception": false,
     "start_time": "2022-06-25T23:28:41.006890",
     "status": "completed"
    },
    "tags": []
   },
   "outputs": [
    {
     "name": "stdout",
     "output_type": "stream",
     "text": [
      "[186500. 184000. 130000.  92000. 164500.]\n",
      "0    208500\n",
      "1    181500\n",
      "2    223500\n",
      "3    140000\n",
      "4    250000\n",
      "Name: SalePrice, dtype: int64\n"
     ]
    }
   ],
   "source": [
    "# print the top few validation predictions\n",
    "print(val_predictions[0:5])\n",
    "# print the top few actual prices from validation data\n",
    "print(y[0:5])"
   ]
  },
  {
   "cell_type": "markdown",
   "id": "4c32c73c",
   "metadata": {
    "papermill": {
     "duration": 0.005796,
     "end_time": "2022-06-25T23:28:41.037964",
     "exception": false,
     "start_time": "2022-06-25T23:28:41.032168",
     "status": "completed"
    },
    "tags": []
   },
   "source": [
    "What do you notice that is different from what you saw with in-sample predictions (which are printed after the top code cell in this page).\n",
    "\n",
    "Do you remember why validation predictions differ from in-sample (or training) predictions? This is an important idea from the last lesson.\n",
    "\n",
    "## Step 4: Calculate the Mean Absolute Error in Validation Data\n"
   ]
  },
  {
   "cell_type": "code",
   "execution_count": 9,
   "id": "89c4cef0",
   "metadata": {
    "execution": {
     "iopub.execute_input": "2022-06-25T23:28:41.052193Z",
     "iopub.status.busy": "2022-06-25T23:28:41.051421Z",
     "iopub.status.idle": "2022-06-25T23:28:41.065345Z",
     "shell.execute_reply": "2022-06-25T23:28:41.064231Z"
    },
    "papermill": {
     "duration": 0.023721,
     "end_time": "2022-06-25T23:28:41.067672",
     "exception": false,
     "start_time": "2022-06-25T23:28:41.043951",
     "status": "completed"
    },
    "tags": []
   },
   "outputs": [
    {
     "name": "stdout",
     "output_type": "stream",
     "text": [
      "29652.931506849316\n"
     ]
    },
    {
     "data": {
      "application/javascript": [
       "parent.postMessage({\"jupyterEvent\": \"custom.exercise_interaction\", \"data\": {\"outcomeType\": 1, \"valueTowardsCompletion\": 0.25, \"interactionType\": 1, \"questionType\": 1, \"questionId\": \"4_MAE\", \"learnToolsVersion\": \"0.3.4\", \"failureMessage\": \"\", \"exceptionClass\": \"\", \"trace\": \"\"}}, \"*\")"
      ],
      "text/plain": [
       "<IPython.core.display.Javascript object>"
      ]
     },
     "metadata": {},
     "output_type": "display_data"
    },
    {
     "data": {
      "text/markdown": [
       "<span style=\"color:#33cc33\">Correct</span>"
      ],
      "text/plain": [
       "Correct"
      ]
     },
     "metadata": {},
     "output_type": "display_data"
    }
   ],
   "source": [
    "from sklearn.metrics import mean_absolute_error\n",
    "val_mae = mean_absolute_error(val_y,val_predictions)\n",
    "\n",
    "\n",
    "\n",
    "# uncomment following line to see the validation_mae\n",
    "print(val_mae)\n",
    "\n",
    "# Check your answer\n",
    "step_4.check()"
   ]
  },
  {
   "cell_type": "code",
   "execution_count": 10,
   "id": "777365f2",
   "metadata": {
    "execution": {
     "iopub.execute_input": "2022-06-25T23:28:41.082606Z",
     "iopub.status.busy": "2022-06-25T23:28:41.081892Z",
     "iopub.status.idle": "2022-06-25T23:28:41.086305Z",
     "shell.execute_reply": "2022-06-25T23:28:41.085545Z"
    },
    "papermill": {
     "duration": 0.014342,
     "end_time": "2022-06-25T23:28:41.088484",
     "exception": false,
     "start_time": "2022-06-25T23:28:41.074142",
     "status": "completed"
    },
    "tags": []
   },
   "outputs": [],
   "source": [
    "# step_4.hint()\n",
    "# step_4.solution()"
   ]
  },
  {
   "cell_type": "markdown",
   "id": "8b47ed58",
   "metadata": {
    "papermill": {
     "duration": 0.006192,
     "end_time": "2022-06-25T23:28:41.101150",
     "exception": false,
     "start_time": "2022-06-25T23:28:41.094958",
     "status": "completed"
    },
    "tags": []
   },
   "source": [
    "Is that MAE good?  There isn't a general rule for what values are good that applies across applications. But you'll see how to use (and improve) this number in the next step.\n",
    "\n",
    "# Keep Going\n",
    "\n",
    "You are ready for **[Underfitting and Overfitting](https://www.kaggle.com/dansbecker/underfitting-and-overfitting).**\n"
   ]
  },
  {
   "cell_type": "markdown",
   "id": "3dff560e",
   "metadata": {
    "papermill": {
     "duration": 0.006115,
     "end_time": "2022-06-25T23:28:41.113628",
     "exception": false,
     "start_time": "2022-06-25T23:28:41.107513",
     "status": "completed"
    },
    "tags": []
   },
   "source": [
    "---\n",
    "\n",
    "\n",
    "\n",
    "\n",
    "*Have questions or comments? Visit the [course discussion forum](https://www.kaggle.com/learn/intro-to-machine-learning/discussion) to chat with other learners.*"
   ]
  }
 ],
 "metadata": {
  "kernelspec": {
   "display_name": "Python 3",
   "language": "python",
   "name": "python3"
  },
  "language_info": {
   "codemirror_mode": {
    "name": "ipython",
    "version": 3
   },
   "file_extension": ".py",
   "mimetype": "text/x-python",
   "name": "python",
   "nbconvert_exporter": "python",
   "pygments_lexer": "ipython3",
   "version": "3.7.12"
  },
  "papermill": {
   "default_parameters": {},
   "duration": 11.988845,
   "end_time": "2022-06-25T23:28:41.841399",
   "environment_variables": {},
   "exception": null,
   "input_path": "__notebook__.ipynb",
   "output_path": "__notebook__.ipynb",
   "parameters": {},
   "start_time": "2022-06-25T23:28:29.852554",
   "version": "2.3.4"
  }
 },
 "nbformat": 4,
 "nbformat_minor": 5
}
